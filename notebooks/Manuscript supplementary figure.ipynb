{
 "cells": [
  {
   "cell_type": "markdown",
   "id": "9ca318ac",
   "metadata": {},
   "source": [
    "# Packages"
   ]
  },
  {
   "cell_type": "code",
   "execution_count": 1,
   "id": "99195790",
   "metadata": {
    "ExecuteTime": {
     "end_time": "2024-08-16T05:18:19.703956Z",
     "start_time": "2024-08-16T05:18:19.693110Z"
    }
   },
   "outputs": [],
   "source": [
    "# packages \n",
    "import pandas as pd\n",
    "pd.options.mode.chained_assignment = None\n",
    "import numpy as np\n",
    "import scipy.stats as stats\n",
    "\n",
    "import matplotlib as mpl\n",
    "from matplotlib.ticker import MultipleLocator,FormatStrFormatter,MaxNLocator\n",
    "import matplotlib.pyplot as plt\n",
    "import seaborn as sns\n",
    "\n",
    "import matplotlib.colors as mcolors\n",
    "from matplotlib.transforms import ScaledTranslation\n",
    "\n",
    "# from Bio import SeqIO\n",
    "# from Bio.SeqUtils import GC\n",
    "\n",
    "pd.set_option('display.max_colwidth', None)\n",
    "\n",
    "# plot global parameters\n",
    "mpl.rcParams['figure.figsize'] = [1, 0.8]\n",
    "\n",
    "# display axis spines\n",
    "mpl.rcParams['axes.spines.top'] = False\n",
    "mpl.rcParams['axes.spines.right'] = False\n",
    "\n",
    "# font\n",
    "mpl.rcParams['font.family'] = 'sans-serif'\n",
    "mpl.rcParams['font.sans-serif'] = 'Arial'\n",
    "mpl.rcParams['pdf.fonttype'] = 42\n",
    "mpl.rcParams['ps.fonttype'] = 42\n",
    "\n",
    "\n",
    "# font sizes\n",
    "fontSize = 7\n",
    "mpl.rcParams[\"axes.labelsize\"]= fontSize\n",
    "mpl.rcParams[ \"xtick.labelsize\"]= fontSize\n",
    "mpl.rcParams[\"ytick.labelsize\"]= fontSize\n",
    "mpl.rcParams[\"legend.fontsize\"]= fontSize\n",
    "mpl.rcParams[\"font.size\"]= fontSize\n",
    "\n",
    "\n",
    "# line widths\n",
    "mpl.rcParams[\"axes.linewidth\"]= 0.5\n",
    "mpl.rcParams[\"grid.linewidth\"]= 0.5\n",
    "mpl.rcParams[\"lines.linewidth\"]= 1.\n",
    "mpl.rcParams[\"lines.markersize\"]= 3\n",
    "\n",
    "# tick sizes\n",
    "mpl.rcParams[\"xtick.major.size\"]= 2\n",
    "mpl.rcParams[\"ytick.major.size\"]= 2\n",
    "mpl.rcParams[\"xtick.major.width\"]= 0.5\n",
    "mpl.rcParams[\"ytick.major.width\"]= 0.5\n",
    "# mpl.rcParams[\"xtick.top\"]= False\n",
    "# mpl.rcParams[\"ytick.right\"]= False\n",
    "\n",
    "# save figure\n",
    "mpl.rcParams[\"savefig.bbox\"]= \"tight\"\n",
    "mpl.rcParams[\"savefig.pad_inches\"]= 0.05\n",
    "\n",
    "# pdf2ps file.pdf file.ps\n",
    "# ps2pdf -dPDFSETTINGS=/prepress file.ps file-optimized.pdf\n",
    "# mpl.rcParams['svg.fonttype'] = 'none'\n",
    "# plt.style.use(['nature'])\n",
    "\n",
    "\n",
    "\n",
    "\n",
    "# function here\n",
    "def Gini(array):\n",
    "    \"\"\"Calculate the Gini coefficient of a numpy array.\"\"\"\n",
    "    array = array.to_numpy()\n",
    "    array = array.flatten() #all values are treated equally, arrays must be 1d\n",
    "    array = np.maximum(array, 0)\n",
    "    array = np.add(array, 0.0000001, out=array, casting=\"unsafe\") #values cannot be 0\n",
    "    array = np.sort(array) # values must be sorted\n",
    "    index = np.arange(1,array.shape[0]+1) #index per array element\n",
    "    n = array.shape[0] # number of array elements\n",
    "    return ((np.sum((2 * index - n  - 1) * array)) / (n * np.sum(array))) #Gini coefficient\n",
    "\n",
    "def calculate_gini_index(values):\n",
    "    \"\"\"Calculate the Gini index of an array of values.\"\"\"\n",
    "    # Mean absolute difference\n",
    "    mad = np.abs(np.subtract.outer(values, values)).mean()\n",
    "    # Relative mean absolute difference\n",
    "    rmad = mad / np.mean(values)\n",
    "    # Gini coefficient\n",
    "    g = 0.5 * rmad\n",
    "    return g\n",
    "\n",
    "# color\n",
    "color = [\"#F5E9CA\", \"#DDAAAB\", \"#B2CFEB\", \"#CDE6E0\", \"#C0B6D9\"]\n",
    "\n",
    "from matplotlib import ticker\n",
    "from matplotlib.colors import LogNorm\n",
    "import matplotlib.colors as colors"
   ]
  },
  {
   "cell_type": "markdown",
   "id": "160b3dd2",
   "metadata": {},
   "source": [
    "# Sup1"
   ]
  },
  {
   "cell_type": "code",
   "execution_count": 23,
   "id": "671abc36",
   "metadata": {
    "ExecuteTime": {
     "end_time": "2024-01-08T21:37:27.585650Z",
     "start_time": "2024-01-08T21:37:27.360068Z"
    }
   },
   "outputs": [
    {
     "data": {
      "image/png": "[encoded data removed]",
      "text/plain": [
       "<Figure size 180x72 with 1 Axes>"
      ]
     },
     "metadata": {
      "needs_background": "light"
     },
     "output_type": "display_data"
    }
   ],
   "source": [
    "df = pd.read_excel('3_Table/IF counts final.xlsx', sheet_name='A14201')\n",
    "df['times'] = [str(i) for i in df['time']]\n",
    "df = df[df.phase.isin(['Anaphase I','Anaphase II','Disassembling','Metaphase I','Metaphase II','Monopolar'])]\n",
    "\n",
    "plt.figure(figsize = (2.5, 1))\n",
    "sns.lineplot(x = 'times', y = 'rate', hue = 'phase', data = df, marker = 's', mew = 0)\n",
    "plt.xticks(rotation = 90)\n",
    "plt.xlabel('Hours in spo')\n",
    "plt.ylabel('Percentage of cells')\n",
    "plt.yticks([0, 0.25, 0.5, 0.75, 1], ['0%', '25%', '50%', '75%', '100%'])\n",
    "plt.legend().remove()\n",
    "plt.savefig('5_Figure/Sub Fig1-a A14200 IF counts.pdf', bbox_inches = 'tight')\n",
    "plt.show()"
   ]
  },
  {
   "cell_type": "code",
   "execution_count": 123,
   "id": "1ae96f4e",
   "metadata": {
    "ExecuteTime": {
     "end_time": "2024-01-09T07:59:01.174479Z",
     "start_time": "2024-01-09T07:59:01.000205Z"
    }
   },
   "outputs": [
    {
     "data": {
      "image/png": "[encoded data removed]",
      "text/plain": [
       "<Figure size 144x86.4 with 1 Axes>"
      ]
     },
     "metadata": {
      "needs_background": "light"
     },
     "output_type": "display_data"
    }
   ],
   "source": [
    "df = pd.read_csv('3_Table/DMS Reproducibility.csv')\n",
    "    \n",
    "plt.figure(figsize = (2, 1.2))\n",
    "\n",
    "plt.scatter(df.depth_cutoff, df.pearsonr, s = 5)\n",
    "plt.plot(df.depth_cutoff, df.pearsonr)\n",
    "\n",
    "plt.xlabel('Read-depth threshold')\n",
    "plt.ylabel('DMS-MaPseq Reproducibility')\n",
    "\n",
    "plt.vlines(x = 350,ymin = 0, ymax = df.loc[df.depth_cutoff == 350, 'pearsonr'], color = 'k', linestyle = '--')\n",
    "plt.hlines(y = df.loc[df.depth_cutoff == 350, 'pearsonr'], xmin = -500, xmax = 350, color = 'k', linestyle = '--')\n",
    "\n",
    "plt.xlim(-20, 1100)\n",
    "plt.ylim(0.25, 0.96)\n",
    "plt.yticks([0.3, 0.4, 0.5, 0.6, 0.7,0.8, 0.9])\n",
    "plt.xticks([100, 300, 500, 700, 900, 1100])\n",
    "plt.savefig('5_Figure/Sub Fig1-c read depth cutoff and reproducibility.pdf', bbox_inches = 'tight')\n",
    "plt.show()"
   ]
  },
  {
   "cell_type": "code",
   "execution_count": 124,
   "id": "0798b9a0",
   "metadata": {
    "ExecuteTime": {
     "end_time": "2024-01-09T07:59:09.684189Z",
     "start_time": "2024-01-09T07:59:09.230268Z"
    }
   },
   "outputs": [
    {
     "data": {
      "image/png": "[encoded data removed]",
      "text/plain": [
       "<Figure size 144x57.6 with 1 Axes>"
      ]
     },
     "metadata": {
      "needs_background": "light"
     },
     "output_type": "display_data"
    }
   ],
   "source": [
    "# dfsn = pd.read_csv('3_Table/SN_all350.csv')\n",
    "# dfsn.columns = ['S/N']\n",
    "# g = plt.hist(dfsn.loc[dfsn['S/N']  > 0, 'S/N'], bins = [0,1,2,3,4,5,6,7,8,9,10,11,12,13,14,15,16,17,18,19,20, 21], width =0.6)\n",
    "# plt.text(s = 'cutoff: 350' +'\\nmedian: '+str(round(dfsn.loc[dfsn['S/N']  > 0, 'S/N'].median(), 2)), x = 10, y = .8*10**6)\n",
    "# plt.show()\n",
    "\n",
    "plt.figure(figsize=(2, 0.8))\n",
    "plt.bar([i+0.5 for i in range(21)], g[0]/dfsn.loc[dfsn['S/N']  > 0, 'S/N'].shape[0], width=0.5, color = '#B2B2B2', \\\n",
    "       linewidth = 1, edgecolor = 'black')\n",
    "\n",
    "plt.axvline(x = dfsn.loc[dfsn['S/N']  > 0, 'S/N'].median(), color='k', linestyle='--', lw = 1)\n",
    "plt.gca().yaxis.set_major_formatter(ticker.PercentFormatter(xmax = 1, decimals=0))\n",
    "\n",
    "plt.text(s = 'median: ' +str(round(dfsn.loc[dfsn['S/N']  > 0, 'S/N'].median(), 2)), x = 6, y = 0.15)\n",
    "plt.xlabel('S/N')\n",
    "plt.ylabel('Percentage')\n",
    "plt.savefig('5_Figure/Sub Fig1-e histogram of SN.pdf', bbox_inches = 'tight')\n",
    "plt.show()"
   ]
  },
  {
   "cell_type": "code",
   "execution_count": 149,
   "id": "98ce9dff",
   "metadata": {
    "ExecuteTime": {
     "end_time": "2024-01-09T08:09:45.721575Z",
     "start_time": "2024-01-09T08:09:45.579972Z"
    }
   },
   "outputs": [
    {
     "data": {
      "image/png": "[encoded data removed]",
      "text/plain": [
       "<Figure size 144x57.6 with 1 Axes>"
      ]
     },
     "metadata": {
      "needs_background": "light"
     },
     "output_type": "display_data"
    }
   ],
   "source": [
    "df = pd.read_excel('3_Table/Merged_9samples_ORF_coverage.xlsx', index_col='GENE_ID')\n",
    "plt.figure(figsize=(2, 0.8))\n",
    "g = plt.hist(df['Merged_ORF_coverage'], bins = [i/10 for i in range(11)], width=0.04, \n",
    "             color = '#B2B2B2', linewidth = 1, edgecolor = 'black')\n",
    "plt.xticks([0, 0.2, 0.4, 0.6, 0.8, 1.0], ['0%', '20%', '40%', '60%', '80%', '100%'])\n",
    "plt.xlabel('ORF coverage')\n",
    "plt.ylabel('Gene counts')\n",
    "plt.ylim(0,3500)\n",
    "plt.yticks([0, 1000,2000,3000])\n",
    "plt.text(s = '>80%: 3399', x = 0.5, y = 2000)\n",
    "plt.savefig('5_Figure/Sub Fig1-f merged ORF coverage.pdf', bbox_inches = 'tight')\n",
    "plt.show()"
   ]
  },
  {
   "cell_type": "markdown",
   "id": "6d828c59",
   "metadata": {},
   "source": [
    "# Sup2"
   ]
  },
  {
   "cell_type": "code",
   "execution_count": 42,
   "id": "af8a7271",
   "metadata": {
    "ExecuteTime": {
     "end_time": "2024-01-11T00:24:07.425602Z",
     "start_time": "2024-01-11T00:24:02.681152Z"
    }
   },
   "outputs": [
    {
     "data": {
      "image/png": "[encoded data removed]",
      "text/plain": [
       "<Figure size 144x180 with 2 Axes>"
      ]
     },
     "metadata": {
      "needs_background": "light"
     },
     "output_type": "display_data"
    }
   ],
   "source": [
    "dfrna = pd.read_excel('3_Table/Summary_RNA_Gini_MS.xlsx', index_col='GENE_ID')\n",
    "dfrna = dfrna[[i for i in dfrna.columns if i.startswith('RNA') and ('cluster' not in i)]]\n",
    "df2 = np.log2(dfrna[dfrna > 1]).corr().loc[['RNA_YPD','RNA_0h','RNA_6h','RNA_7h','RNA_7h25','RNA_7h5','RNA_8h25','RNA_8h75', 'RNA_9h5'], \n",
    "                 ['RNA_brar_YPD', 'RNA_brar_0h', 'RNA_brar_6h', 'RNA_brar_6h5',\n",
    "       'RNA_brar_6h75', 'RNA_brar_7h', 'RNA_brar_7h25', 'RNA_brar_7h5',\n",
    "       'RNA_brar_7h75', 'RNA_brar_8h', 'RNA_brar_8h25', 'RNA_brar_8h5',\n",
    "       'RNA_brar_8h75', 'RNA_brar_9h25', 'RNA_brar_11h']].T\n",
    "\n",
    "def plot_pane(x1,x2,y1,y2):\n",
    "    width = 0.1/5\n",
    "    x01, x02, y01, y02 = x1+width, x2-width, y1+width, y2-width\n",
    "    ax.hlines(y01, x01, x02, color = 'k')\n",
    "    ax.hlines(y02, x01, x02 ,color = 'k')\n",
    "    ax.vlines(x01, y01, y02,color = 'k')\n",
    "    ax.vlines(x02, y01, y02,color = 'k')\n",
    "    \n",
    "    t = y2-y1\n",
    "    for i in range(t):\n",
    "        plt.text(x1+0.5, y1+0.5+i, str(round(df2.loc[df2.index[y1 + i],df2.columns[x1]], 2)),\\\n",
    "                 ha = 'center', va = 'center', color = 'white', fontsize = 5)\n",
    "\n",
    "# 01_timepoints match up\n",
    "fig = plt.figure(figsize=(2, 2.5))\n",
    "new_blues= sns.color_palette(\"GnBu\", 100)[20:100]\n",
    "ax = sns.heatmap(df2, cmap = new_blues, cbar_kws={\"shrink\": .30, 'pad': 0.05, 'aspect':5})\n",
    "\n",
    "tps = ['V', 'P', 'T0', 'T1', 'T2', 'T3', 'T4', 'T5', 'T6']\n",
    "tps_brar = ['Veg', '0', '6', '6.5', '6.75', '7', '7.25', '7.5', '7.75', '8', '8.25', '8.5', '8.75', '9.25', '11']\n",
    "plt.xticks([i+0.5 for i in range(9)], tps, rotation = 0)\n",
    "plt.yticks([i+0.5 for i in range(15)], tps_brar, rotation = 0, alpha = 0.5)\n",
    "\n",
    "cbar = ax.collections[0].colorbar\n",
    "cbar.ax.tick_params()\n",
    "\n",
    "plot_pane(0, 1, 0, 1)\n",
    "plot_pane(1, 2, 1, 2)\n",
    "plot_pane(2, 3, 2, 3)\n",
    "plot_pane(3, 4, 5, 6)\n",
    "plot_pane(4, 5, 6, 7)\n",
    "plot_pane(5, 6, 7, 8)\n",
    "plot_pane(6, 7, 9, 10)\n",
    "plot_pane(7, 8, 11, 12)\n",
    "plot_pane(8, 9, 13, 14)\n",
    "\n",
    "plt.ylabel('(Brar et al., 2012)\\n Hours in spo', alpha = .5)\n",
    "# plt.savefig('5_Figure/Sub Fig2-a timepoints match up.pdf', bbox_inches = 'tight')\n",
    "plt.show()"
   ]
  },
  {
   "cell_type": "code",
   "execution_count": 64,
   "id": "4cd08dc0",
   "metadata": {
    "ExecuteTime": {
     "end_time": "2024-01-11T01:58:38.472787Z",
     "start_time": "2024-01-11T01:58:34.223097Z"
    }
   },
   "outputs": [],
   "source": [
    "df = pd.read_excel('3_Table/Summary_RNA_Gini_MS.xlsx', index_col='GENE_ID')\n",
    "tps = ['YPD', '0h', '6h', '7h','7h25', '7h5','8h25', '8h75', '9h5']\n",
    "matchup = {'YPD':'YPD', '0h': '0h', '6h':'6h', '7h':'7h', '7h25':'7h25', '7h5':'7h5', '8h25':'8h', '8h75': '8h5', '9h5':'9h25'}\n",
    "\n",
    "dfgini = df[[i for i in df.columns if i.startswith('ORF_gini_')]]\n",
    "dfgini.columns = tps\n",
    "\n",
    "tpsbrar = ['YPD', '0h', '6h', '6h5', '6h75', '7h', '7h25', '7h5', '7h75', '8h', '8h25', '8h5', '8h75', '9h25', '11h']\n",
    "dfRNA = df[[i for i in df.columns if i.startswith('RNA_brar_')]]\n",
    "dfRNA.columns = tpsbrar\n",
    "dfribo = df[[i for i in df.columns if i.startswith('Ribo_brar_')]]\n",
    "dfribo.columns = tpsbrar\n",
    "\n",
    "dfte = dfribo[dfribo>=5] / dfRNA[dfRNA>=5]\n",
    "# dfte = dfribo / dfRNA[dfRNA>=1]\n",
    "\n",
    "dfte = dfte[[matchup[i] for i in tps]]\n",
    "\n",
    "# 转换成我们的时间点\n",
    "dfte.columns = tps\n",
    "dftelog = np.log2(dfte)\n",
    "\n",
    "# dfte = dfribo[dfribo>=5] / dfRNA[dfRNA>=5]\n",
    "# dfte = dfribo / dfRNA[dfRNA>=1]\n",
    "# dfte['min'] = dfte.min(axis = 1)\n",
    "# dfte = dfte[dfte['min'] > 0]\n",
    "# dfte['FC'] = dfte.max(axis = 1)/ dfte.min(axis = 1)"
   ]
  },
  {
   "cell_type": "code",
   "execution_count": 79,
   "id": "ee15887a",
   "metadata": {
    "ExecuteTime": {
     "end_time": "2024-01-11T02:24:48.138008Z",
     "start_time": "2024-01-11T02:24:47.341168Z"
    }
   },
   "outputs": [
    {
     "name": "stdout",
     "output_type": "stream",
     "text": [
      "SpearmanrResult(correlation=-0.3189988815303661, pvalue=2.9241405768150964e-262)\n"
     ]
    },
    {
     "data": {
      "image/png": "[encoded data removed]",
      "text/plain": [
       "<Figure size 144x108 with 1 Axes>"
      ]
     },
     "metadata": {
      "needs_background": "light"
     },
     "output_type": "display_data"
    }
   ],
   "source": [
    "# all stages: Gini vs TE\n",
    "x = []\n",
    "y = []\n",
    "for i in range(9):\n",
    "    t1 = tps[i]\n",
    "\n",
    "    x.extend(dfgini[t1].to_list()) \n",
    "    y.extend(dftelog[t1].to_list())\n",
    "    \n",
    "dfdata = pd.DataFrame(columns=['x', 'y'])\n",
    "dfdata['x'] = x\n",
    "dfdata['y'] = y\n",
    "dfdata = dfdata.dropna()\n",
    "corr = stats.spearmanr(dfdata['x'], dfdata['y'])[0]\n",
    "print(stats.spearmanr(dfdata['x'], dfdata['y']))\n",
    "\n",
    "plt.figure(figsize=(2, 1.5))\n",
    "plt.scatter(x,y, s = 2, color = 'black', alpha = .2, linewidths = 0)\n",
    "plt.text(0.53, -5, r'$\\rho$ = ' + str(format(corr, '.2f')),)\n",
    "plt.text(0.53, -6.5, 'n = '+str(dfdata.shape[0]) , )\n",
    "plt.text(0.53, -8, r'P < 10$^{-261}$', )\n",
    "\n",
    "plt.xlabel(r'Gini$_{CDS}$')\n",
    "plt.ylabel('log${_2}$TE')\n",
    "plt.savefig('5_Figure/Sub Fig2-d gini and TE spearman corr all.pdf', bbox_inches = 'tight')\n",
    "plt.show()"
   ]
  },
  {
   "cell_type": "code",
   "execution_count": 99,
   "id": "152ea1b3",
   "metadata": {
    "ExecuteTime": {
     "end_time": "2024-01-11T02:37:44.396756Z",
     "start_time": "2024-01-11T02:37:43.151888Z"
    }
   },
   "outputs": [
    {
     "data": {
      "image/png": "[encoded data removed]",
      "text/plain": [
       "<Figure size 216x216 with 9 Axes>"
      ]
     },
     "metadata": {
      "needs_background": "light"
     },
     "output_type": "display_data"
    }
   ],
   "source": [
    "timepoints = ['V', 'P', 'T0', 'T1', 'T2', 'T3', 'T4', 'T5', 'T6']\n",
    "corr_list = []\n",
    "tps = ['YPD', '0h', '6h', '7h','7h25', '7h5','8h25', '8h75', '9h5']\n",
    "fig = plt.figure(figsize = (3, 3))\n",
    "fig.subplots_adjust(hspace=0.2, wspace=0.2)\n",
    "for i in range(9):\n",
    "    t1 = tps[i]\n",
    "    t2 = timepoints[i]\n",
    "    \n",
    "    ax = plt.subplot(3, 3, i+1)\n",
    "    g = plt.scatter(dfgini[t1], dftelog[t1], s = 2, color = 'black', alpha = .2, linewidths = 0)\n",
    "    if i == 7:\n",
    "        plt.xlabel(r'Gini$_{CDS}$' )\n",
    "    plt.xlim(0.18, 0.5)\n",
    "    plt.ylim(-8, 6)\n",
    "    if i in [6,7,8]:\n",
    "        plt.xticks([0.2, 0.3, 0.4, 0.5],)\n",
    "    else:\n",
    "        plt.xticks([0.2, 0.3, 0.4, 0.5],[])\n",
    "        \n",
    "    if i in [0,3,6]:\n",
    "        plt.yticks([-5, 0, 5,],)\n",
    "    else:\n",
    "        plt.yticks([-5, 0, 5,],[])\n",
    "        \n",
    "    if i == 3:\n",
    "        plt.ylabel(r'log${_2}$TE')\n",
    "\n",
    "    dfcorr = pd.DataFrame([dfgini[t1], dftelog[t1]]).reset_index(drop=True).T.dropna()\n",
    "    corr = stats.spearmanr(dfcorr[0], dfcorr[1])[0]\n",
    "    corr_list.append(corr)\n",
    "    \n",
    "    ax.text(0.5, 0.9, t2+ ': ' +r'$\\rho=$' + str(format(corr, '.2f')) , \n",
    "             transform=ax.transAxes, ha = 'center')\n",
    "    ax.text(0.3, 0.05, 'n='+str(dfcorr.shape[0]) , \n",
    "            transform=ax.transAxes, ha = 'center')\n",
    "    \n",
    "    ax = plt.gca()#获取边框\n",
    "    spwidth = 0.5\n",
    "    ax.spines['top'].set_linewidth(spwidth)  \n",
    "    ax.spines['right'].set_linewidth(spwidth) \n",
    "    ax.spines['bottom'].set_linewidth(spwidth)\n",
    "    ax.spines['left'].set_linewidth(spwidth)\n",
    "\n",
    "plt.savefig('5_Figure/Sub Fig2-e gini and te spearman corr.pdf', bbox_inches = 'tight')\n",
    "plt.show()"
   ]
  },
  {
   "cell_type": "code",
   "execution_count": 101,
   "id": "e39fa882",
   "metadata": {
    "ExecuteTime": {
     "end_time": "2024-01-11T02:58:59.820185Z",
     "start_time": "2024-01-11T02:58:59.710634Z"
    }
   },
   "outputs": [],
   "source": [
    "# TE 变化\n",
    "dfdelta = pd.DataFrame()\n",
    "dfdelta['maxte'] = dfte[~dfgini.isna()].max(axis = 1).dropna()\n",
    "dfdelta['minte'] = dfte[~dfgini.isna()].min(axis = 1).dropna()\n",
    "dfdelta['maxte_tps'] = dfte[~dfgini.isna()].idxmax(axis = 1).dropna()\n",
    "dfdelta['minte_tps'] = dfte[~dfgini.isna()].idxmin(axis = 1).dropna()\n",
    "dfdelta = dfdelta[dfdelta.maxte_tps != dfdelta.minte_tps]\n",
    "\n",
    "# 对应gini变化\n",
    "dfdelta['maxte_gini'] = dfdelta.apply(lambda x: dfgini.loc[x.name, x.maxte_tps], axis = 1)\n",
    "dfdelta['minte_gini'] = dfdelta.apply(lambda x: dfgini.loc[x.name, x.minte_tps], axis = 1)\n",
    "\n",
    "dfdelta = dfdelta.dropna()\n",
    "\n",
    "dfdelta['deltagini'] = dfdelta.maxte_gini - dfdelta.minte_gini\n",
    "dfdelta['deltate'] = np.log2(dfdelta.maxte / dfdelta.minte)"
   ]
  },
  {
   "cell_type": "code",
   "execution_count": 113,
   "id": "446bbb14",
   "metadata": {
    "ExecuteTime": {
     "end_time": "2024-01-11T03:03:50.974990Z",
     "start_time": "2024-01-11T03:03:50.456138Z"
    }
   },
   "outputs": [
    {
     "name": "stdout",
     "output_type": "stream",
     "text": [
      "(315, 8) SpearmanrResult(correlation=-0.0789739809493095, pvalue=0.16203452688167383)\n"
     ]
    },
    {
     "data": {
      "image/png": "[encoded data removed]",
      "text/plain": [
       "<Figure size 144x108 with 1 Axes>"
      ]
     },
     "metadata": {
      "needs_background": "light"
     },
     "output_type": "display_data"
    }
   ],
   "source": [
    "plt.figure(figsize=(2, 1.5))\n",
    "dfdelta2 = dfdelta[dfdelta.deltate >= 2]\n",
    "print(dfdelta2.shape, stats.spearmanr(dfdelta2.deltagini, dfdelta2.deltate))\n",
    "plt.scatter(dfdelta2['deltate'], dfdelta2['deltagini'], alpha = 1, linewidths = 0, color = 'k',\n",
    "           s= 2)\n",
    "\n",
    "plt.xticks([2,4,6, 8], [r'$2^{2}$', r'$2^{4}$', r'$2^{6}$',  r'$2^{8}$'])\n",
    "\n",
    "plt.text(x = 5, y = 0.18, s = r'$\\rho$ = -0.08')\n",
    "plt.text(x = 5, y = 0.13, s = r'$P$ = 0.16')\n",
    "plt.text(x = 5, y = 0.08, s = 'n = 315')\n",
    "plt.ylim(-0.2, 0.2)\n",
    "plt.ylabel(r'$\\Delta$Gini$_{CDS}$')\n",
    "plt.xlabel('TE fold change')\n",
    "plt.savefig('5_Figure/Sub Fig2-c fold change over4 delta TE vs delta Gini.pdf', bbox_inches = 'tight')\n",
    "plt.show()"
   ]
  },
  {
   "cell_type": "markdown",
   "id": "26536fcf",
   "metadata": {},
   "source": [
    "# Sup3"
   ]
  },
  {
   "cell_type": "code",
   "execution_count": 2,
   "id": "95817d5d",
   "metadata": {
    "ExecuteTime": {
     "end_time": "2024-01-11T04:17:27.867046Z",
     "start_time": "2024-01-11T04:17:23.029417Z"
    }
   },
   "outputs": [],
   "source": [
    "df = pd.read_excel('3_Table/Summary_RNA_Gini_MS.xlsx', index_col='GENE_ID')"
   ]
  },
  {
   "cell_type": "code",
   "execution_count": 6,
   "id": "3bba5910",
   "metadata": {},
   "outputs": [
    {
     "name": "stdout",
     "output_type": "stream",
     "text": [
      "(930,)\n",
      "(268,)\n",
      "(188,)\n"
     ]
    }
   ],
   "source": [
    "print(df.loc[df.Ribo_cluster == 'ribo1', 'Merged_Gene_gini'].dropna().shape)\n",
    "print(df.loc[df.Ribo_cluster == 'ribo2', 'Merged_Gene_gini'].dropna().shape)\n",
    "print(df.loc[df.Ribo_cluster == 'ribo3', 'Merged_Gene_gini'].dropna().shape)"
   ]
  },
  {
   "cell_type": "code",
   "execution_count": 116,
   "id": "b5315589",
   "metadata": {
    "ExecuteTime": {
     "end_time": "2024-01-11T04:17:55.360054Z",
     "start_time": "2024-01-11T04:17:55.333178Z"
    }
   },
   "outputs": [
    {
     "name": "stdout",
     "output_type": "stream",
     "text": [
      "MannwhitneyuResult(statistic=150832.0, pvalue=1.5006843346572338e-07)\n",
      "MannwhitneyuResult(statistic=15410.0, pvalue=1.6481700135657936e-12)\n"
     ]
    }
   ],
   "source": [
    "print(stats.mannwhitneyu(df.loc[df.Ribo_cluster == 'ribo1', 'Merged_Gene_gini'].dropna(),\n",
    "                   df.loc[df.Ribo_cluster == 'ribo2', 'Merged_Gene_gini'].dropna()))\n",
    "print(stats.mannwhitneyu(df.loc[df.Ribo_cluster == 'ribo2', 'Merged_Gene_gini'].dropna(),\n",
    "                   df.loc[df.Ribo_cluster == 'ribo3', 'Merged_Gene_gini'].dropna()))"
   ]
  },
  {
   "cell_type": "code",
   "execution_count": 118,
   "id": "7de24e09",
   "metadata": {
    "ExecuteTime": {
     "end_time": "2024-01-11T04:21:06.275352Z",
     "start_time": "2024-01-11T04:21:06.084231Z"
    }
   },
   "outputs": [
    {
     "data": {
      "image/png": "[encoded data removed]",
      "text/plain": [
       "<Figure size 50.4x86.4 with 1 Axes>"
      ]
     },
     "metadata": {
      "needs_background": "light"
     },
     "output_type": "display_data"
    }
   ],
   "source": [
    "# mpl.rcParams['figure.figsize'] = [1, 0.8]\n",
    "plt.figure(figsize = (0.7 , 1.2))\n",
    "PROPS = {\n",
    "    'boxprops':{'facecolor':'none', 'edgecolor':'k', 'linewidth':'0.5'},\n",
    "    'medianprops':{'color':'k', 'linewidth':'1'},\n",
    "    'whiskerprops':{'color':'k', 'linewidth':'0.5'},\n",
    "    'capprops':{'color':'k', 'linewidth' :0}\n",
    "}\n",
    "\n",
    "sns.boxplot(x = 'Ribo_cluster',y = 'Merged_Gene_gini', data=df, \n",
    "            width=0.35, showfliers = False, **PROPS, order = ['ribo1', 'ribo2', 'ribo3'])\n",
    "\n",
    "ax = plt.gca()\n",
    "ax.spines['top'].set_linewidth(0)  \n",
    "ax.spines['right'].set_linewidth(0) \n",
    "ax.grid(False)\n",
    "\n",
    "plt.xticks([0,1,2], ['1', '2', '3'])\n",
    "plt.yticks([0.2, 0.3, 0.4, 0.5])\n",
    "plt.ylim(0.2, 0.5)\n",
    "# plt.xlim(-0.8, 2.5)\n",
    "\n",
    "plt.ylabel('Gini')\n",
    "\n",
    "plt.xlabel('Ribo Cluster')\n",
    "\n",
    "\n",
    "def plot_sig(xstart,xend, yend, sig):\n",
    "    plt.hlines(yend, xstart, xend, color=\"black\", linewidth = 0.5)\n",
    "    plt.annotate(r'%s'%sig, xy=((xstart + xend)/2, yend+0.01), color=\"black\", ha='center')\n",
    "\n",
    "plot_sig(0, 1, 0.42, 'P < 10-6')\n",
    "plot_sig(1, 2, 0.47, 'P < 10-11')\n",
    "# plt.savefig('5_Figure/Sub Fig3-b boxplot_riboCluster_gini_distribution.pdf',  bbox_inches = 'tight')\n",
    "plt.show()"
   ]
  },
  {
   "cell_type": "markdown",
   "id": "257aa1c6",
   "metadata": {},
   "source": [
    "# Sup4"
   ]
  },
  {
   "cell_type": "code",
   "execution_count": 183,
   "id": "4b8b1221",
   "metadata": {
    "ExecuteTime": {
     "end_time": "2024-01-11T06:24:46.651610Z",
     "start_time": "2024-01-11T06:24:42.148745Z"
    }
   },
   "outputs": [],
   "source": [
    "df = pd.read_excel('3_Table/Summary_RNA_Gini_MS.xlsx', index_col='GENE_ID')\n",
    "\n",
    "dfribo = df[[i for i in df.columns if i.startswith('Ribo_brar_')]]\n",
    "dfribo.columns = [i.strip('Ribo_brar_') for i in dfribo.columns]\n",
    "\n",
    "tps = ['YPD', '0h', '6h', '7h','7h25', '7h5','8h25', '8h75', '9h5']\n",
    "tps1 = [matchup[i] for i in tps]\n",
    "tps1 = tps1[1:]\n",
    "dfribo = dfribo[tps1]\n",
    "\n",
    "dfrna = df[[i for i in df.columns if i.startswith('RNA') and ('cluster' not in i) and('brar_' not in i)]]\n",
    "dfrna.columns = [i.strip('RNA_') for i in dfrna.columns]\n",
    "dfrna = dfrna[dfrna.columns[1:]]"
   ]
  },
  {
   "cell_type": "code",
   "execution_count": 190,
   "id": "236cae51",
   "metadata": {
    "ExecuteTime": {
     "end_time": "2024-01-11T06:26:00.627099Z",
     "start_time": "2024-01-11T06:26:00.402667Z"
    }
   },
   "outputs": [
    {
     "data": {
      "image/png": "[encoded data removed]",
      "text/plain": [
       "<Figure size 93.6x72 with 1 Axes>"
      ]
     },
     "metadata": {
      "needs_background": "light"
     },
     "output_type": "display_data"
    }
   ],
   "source": [
    "tps = ['V', 'P', 'T0', 'T1', 'T2', 'T3', 'T4', 'T5', 'T6']\n",
    "\n",
    "gene = 'YDR133C'\n",
    "\n",
    "fig = plt.figure(figsize=(1.3, 1))\n",
    "(dfribo.loc['YDR133C', tps1]/10**6).plot()\n",
    "plt.yticks([0,0.02,0.04], ['0%', '2%', '4%'])\n",
    "\n",
    "plt.xticks([0,1,2,3,4,5,6,7], tps[1:])\n",
    "plt.text(x = 2, y = 0.03, s = r'$CCW22$')\n",
    "plt.ylabel('Translation Resources')\n",
    "plt.savefig('5_Figure/Sub Fig4-a CCW22 translation resource.pdf', bbox_inches = 'tight')\n",
    "plt.show()"
   ]
  },
  {
   "cell_type": "code",
   "execution_count": 192,
   "id": "3f0f6e21",
   "metadata": {
    "ExecuteTime": {
     "end_time": "2024-01-11T06:26:23.194311Z",
     "start_time": "2024-01-11T06:26:18.580700Z"
    }
   },
   "outputs": [],
   "source": [
    "df = pd.read_excel('3_Table/Summary_RNA_Gini_MS.xlsx', index_col='GENE_ID')\n",
    "df.loc[df['Meiosis_specific'] != 'yes', 'Meiosis_specific'] = 'no'\n",
    "\n",
    "tps1 = ['YPD', '0h', '6h', '7h','7h25', '7h5','8h25', '8h75', '9h5']\n",
    "matchup = {'YPD':'YPD', '0h': '0h', '6h':'6h', '7h':'7h', '7h25':'7h25', '7h5':'7h5', '8h25':'8h', '8h75': '8h5', '9h5':'9h25'}\n",
    "tps = ['Ribo_brar_' + matchup[i] for i in tps1]"
   ]
  },
  {
   "cell_type": "code",
   "execution_count": 195,
   "id": "bf552e98",
   "metadata": {
    "ExecuteTime": {
     "end_time": "2024-01-11T06:26:39.540249Z",
     "start_time": "2024-01-11T06:26:39.347288Z"
    }
   },
   "outputs": [
    {
     "data": {
      "image/png": "[encoded data removed]",
      "text/plain": [
       "<Figure size 93.6x108 with 1 Axes>"
      ]
     },
     "metadata": {
      "needs_background": "light"
     },
     "output_type": "display_data"
    }
   ],
   "source": [
    "# Meiosis_specific RNAs ranked by structure\n",
    "dfRibo = df[tps + ['Merged_5utr_gini', 'Meiosis_specific']]\n",
    "dfRibo.columns = ['V', 'P', 'T0', 'T1', 'T2', 'T3', 'T4', 'T5', 'T6', 'rank', 'meiotic']\n",
    "t = ['T0', 'T1', 'T2', 'T3', 'T4', 'T5', 'T6']\n",
    "dfRibo['rank'] = dfRibo.loc[(dfRibo.meiotic == 'yes'), 'rank'].rank()/dfRibo.loc[(dfRibo.meiotic == 'yes'), 'rank'].dropna().shape[0]\n",
    "\n",
    "dfRibo['grank'] = 'Others'\n",
    "dfRibo.loc[(dfRibo['rank'] >= 0 ) & (dfRibo.meiotic == 'yes'), 'grank'] = 'simple'\n",
    "dfRibo.loc[(dfRibo['rank'] >= 1/3)& (dfRibo.meiotic == 'yes'), 'grank'] = 'moderate'\n",
    "dfRibo.loc[(dfRibo['rank'] >= 2/3)& (dfRibo.meiotic == 'yes'), 'grank'] = 'complex'\n",
    "\n",
    "# sum the ribo translation resources\n",
    "dfb = dfRibo.groupby('grank').sum()[t]/dfRibo.sum()[t]\n",
    "\n",
    "width = 0.5\n",
    "plt.figure(figsize=(1.3, 1.5))\n",
    "plt.bar(dfb.columns, dfb.loc['complex'], label = 'complex', color = '#FF9F9B', width=width, edgecolor='white')\n",
    "\n",
    "plt.bar(dfb.columns, dfb.loc['moderate'], bottom=dfb.loc['complex'], \n",
    "        label = 'moderate', color = '#FFCE2E', width=width, edgecolor='white')\n",
    "\n",
    "plt.bar(dfb.columns, dfb.loc['simple'],bottom=dfb.loc['complex']+ dfb.loc['moderate'], \n",
    "        label = 'simple', color = '#A1C9F4', width=width, edgecolor='white')\n",
    "\n",
    "plt.bar(dfb.columns, dfb.loc['Others'],bottom=dfb.loc['complex']+ dfb.loc['moderate']+dfb.loc['simple'],\n",
    "        label = 'Others', color = '#CFCFCF', width=width, edgecolor='white')\n",
    "\n",
    "plt.yticks([0, 0.2, 0.4, 0.6], ['0%', '20%', '40%', '60%'])\n",
    "plt.ylabel('Translation resources')\n",
    "plt.ylim(0, 0.75)\n",
    "plt.title('5ʹUTR')\n",
    "# plt.legend(loc = (1,0.2))\n",
    "\n",
    "# plt.savefig('5_Figure/fig4-b translation resource allocation 5utr.pdf',  bbox_inches = 'tight')\n",
    "plt.show()"
   ]
  },
  {
   "cell_type": "code",
   "execution_count": 179,
   "id": "5efc70b0",
   "metadata": {
    "ExecuteTime": {
     "end_time": "2024-01-11T06:23:35.215411Z",
     "start_time": "2024-01-11T06:23:35.037027Z"
    }
   },
   "outputs": [
    {
     "data": {
      "image/png": "[encoded data removed]",
      "text/plain": [
       "<Figure size 93.6x108 with 1 Axes>"
      ]
     },
     "metadata": {
      "needs_background": "light"
     },
     "output_type": "display_data"
    }
   ],
   "source": [
    "# Meiosis_specific RNAs ranked by structure\n",
    "dfRibo = df[tps + ['Merged_ORF_gini', 'Meiosis_specific']]\n",
    "dfRibo.columns = ['V', 'P', 'T0', 'T1', 'T2', 'T3', 'T4', 'T5', 'T6', 'rank', 'meiotic']\n",
    "t = ['T0', 'T1', 'T2', 'T3', 'T4', 'T5', 'T6']\n",
    "dfRibo['rank'] = dfRibo.loc[(dfRibo.meiotic == 'yes'), 'rank'].rank()/dfRibo.loc[(dfRibo.meiotic == 'yes'), 'rank'].dropna().shape[0]\n",
    "\n",
    "dfRibo['grank'] = 'Others'\n",
    "dfRibo.loc[(dfRibo['rank'] >= 0 ) & (dfRibo.meiotic == 'yes'), 'grank'] = 'simple'\n",
    "dfRibo.loc[(dfRibo['rank'] >= 1/3)& (dfRibo.meiotic == 'yes'), 'grank'] = 'moderate'\n",
    "dfRibo.loc[(dfRibo['rank'] >= 2/3)& (dfRibo.meiotic == 'yes'), 'grank'] = 'complex'\n",
    "\n",
    "# sum the ribo translation resources\n",
    "dfb = dfRibo.groupby('grank').sum()[t]/dfRibo.sum()[t]\n",
    "\n",
    "width = 0.5\n",
    "plt.figure(figsize=(1.3, 1.5))\n",
    "plt.bar(dfb.columns, dfb.loc['complex'], label = 'complex', color = '#FF9F9B', width=width, edgecolor='white')\n",
    "\n",
    "plt.bar(dfb.columns, dfb.loc['moderate'], bottom=dfb.loc['complex'], \n",
    "        label = 'moderate', color = '#FFCE2E', width=width, edgecolor='white')\n",
    "\n",
    "plt.bar(dfb.columns, dfb.loc['simple'],bottom=dfb.loc['complex']+ dfb.loc['moderate'], \n",
    "        label = 'simple', color = '#A1C9F4', width=width, edgecolor='white')\n",
    "\n",
    "plt.bar(dfb.columns, dfb.loc['Others'],bottom=dfb.loc['complex']+ dfb.loc['moderate']+dfb.loc['simple'],\n",
    "        label = 'Others', color = '#CFCFCF', width=width, edgecolor='white')\n",
    "\n",
    "plt.yticks([0, 0.2, 0.4, 0.6], ['0%', '20%', '40%', '60%'])\n",
    "plt.ylabel('Translation resources')\n",
    "plt.ylim(0, 0.75)\n",
    "plt.title('ORF')\n",
    "# plt.legend(loc = (1,0.2))\n",
    "\n",
    "# plt.savefig('5_Figure/fig4-b translation resource allocation ORF.pdf',  bbox_inches = 'tight')\n",
    "plt.show()"
   ]
  },
  {
   "cell_type": "code",
   "execution_count": 180,
   "id": "ce6836d2",
   "metadata": {
    "ExecuteTime": {
     "end_time": "2024-01-11T06:23:37.626833Z",
     "start_time": "2024-01-11T06:23:37.437556Z"
    }
   },
   "outputs": [
    {
     "data": {
      "image/png": "[encoded data removed]",
      "text/plain": [
       "<Figure size 93.6x108 with 1 Axes>"
      ]
     },
     "metadata": {
      "needs_background": "light"
     },
     "output_type": "display_data"
    }
   ],
   "source": [
    "# Meiosis_specific RNAs ranked by structure\n",
    "dfRibo = df[tps + ['Merged_3utr_gini', 'Meiosis_specific']]\n",
    "dfRibo.columns = ['V', 'P', 'T0', 'T1', 'T2', 'T3', 'T4', 'T5', 'T6', 'rank', 'meiotic']\n",
    "t = ['T0', 'T1', 'T2', 'T3', 'T4', 'T5', 'T6']\n",
    "dfRibo['rank'] = dfRibo.loc[(dfRibo.meiotic == 'yes'), 'rank'].rank()/dfRibo.loc[(dfRibo.meiotic == 'yes'), 'rank'].dropna().shape[0]\n",
    "\n",
    "dfRibo['grank'] = 'Others'\n",
    "dfRibo.loc[(dfRibo['rank'] >= 0 ) & (dfRibo.meiotic == 'yes'), 'grank'] = 'simple'\n",
    "dfRibo.loc[(dfRibo['rank'] >= 1/3)& (dfRibo.meiotic == 'yes'), 'grank'] = 'moderate'\n",
    "dfRibo.loc[(dfRibo['rank'] >= 2/3)& (dfRibo.meiotic == 'yes'), 'grank'] = 'complex'\n",
    "\n",
    "# sum the ribo translation resources\n",
    "dfb = dfRibo.groupby('grank').sum()[t]/dfRibo.sum()[t]\n",
    "\n",
    "width = 0.5\n",
    "plt.figure(figsize=(1.3, 1.5))\n",
    "plt.bar(dfb.columns, dfb.loc['complex'], label = 'complex', color = '#FF9F9B', width=width, edgecolor='white')\n",
    "\n",
    "plt.bar(dfb.columns, dfb.loc['moderate'], bottom=dfb.loc['complex'], \n",
    "        label = 'moderate', color = '#FFCE2E', width=width, edgecolor='white')\n",
    "\n",
    "plt.bar(dfb.columns, dfb.loc['simple'],bottom=dfb.loc['complex']+ dfb.loc['moderate'], \n",
    "        label = 'simple', color = '#A1C9F4', width=width, edgecolor='white')\n",
    "\n",
    "plt.bar(dfb.columns, dfb.loc['Others'],bottom=dfb.loc['complex']+ dfb.loc['moderate']+dfb.loc['simple'],\n",
    "        label = 'Others', color = '#CFCFCF', width=width, edgecolor='white')\n",
    "\n",
    "plt.yticks([0, 0.2, 0.4, 0.6], ['0%', '20%', '40%', '60%'])\n",
    "plt.ylabel('Translation resources')\n",
    "plt.ylim(0, 0.75)\n",
    "plt.title('3ʹUTR')\n",
    "# plt.legend(loc = (1,0.2))\n",
    "\n",
    "# plt.savefig('5_Figure/fig4-b translation resource allocation 3utr.pdf',  bbox_inches = 'tight')\n",
    "plt.show()"
   ]
  },
  {
   "cell_type": "code",
   "execution_count": 246,
   "id": "68c1776d",
   "metadata": {
    "ExecuteTime": {
     "end_time": "2024-01-11T07:26:01.319189Z",
     "start_time": "2024-01-11T07:26:01.158974Z"
    }
   },
   "outputs": [
    {
     "data": {
      "image/png": "[encoded data removed]",
      "text/plain": [
       "<Figure size 86.4x86.4 with 1 Axes>"
      ]
     },
     "metadata": {
      "needs_background": "light"
     },
     "output_type": "display_data"
    }
   ],
   "source": [
    "# df = pd.read_excel('3_Table/Summary_RNA_Gini_MS.xlsx', index_col='GENE_ID')\n",
    "plt.figure(figsize=(1.2, 1.2))\n",
    "plt.scatter(df['Gene_gini_7h25'], df['Gene_gini_7h50'], alpha = 0.3, linewidths = 0, color = 'k',\n",
    "           s=2)\n",
    "plt.plot([0.2, 0.5], [0.2, 0.5], color = 'k', linestyle = '--',  linewidth = 0.5)\n",
    "plt.xlim(0.18, 0.5)\n",
    "plt.ylim(0.18, 0.5)\n",
    "plt.xticks([0.2, 0.3,0.4,0.5])\n",
    "plt.yticks([0.2, 0.3, 0.4,0.5])\n",
    "plt.xlabel('Gini (T2)')\n",
    "plt.ylabel('Gini (T3)')\n",
    "plt.savefig('5_Figure/fig4-d 7h25Gini vs 7h50Gini.pdf',  bbox_inches = 'tight')\n",
    "plt.show()"
   ]
  },
  {
   "cell_type": "code",
   "execution_count": 210,
   "id": "1c6ab2ae",
   "metadata": {
    "ExecuteTime": {
     "end_time": "2024-01-11T07:05:22.901896Z",
     "start_time": "2024-01-11T07:05:22.561593Z"
    }
   },
   "outputs": [],
   "source": [
    "df1 = pd.read_csv('3_Table/figs4 T2 vs T3 reactivity.csv')"
   ]
  },
  {
   "cell_type": "code",
   "execution_count": 211,
   "id": "361aa9d2",
   "metadata": {
    "ExecuteTime": {
     "end_time": "2024-01-11T07:05:30.485789Z",
     "start_time": "2024-01-11T07:05:30.308626Z"
    }
   },
   "outputs": [
    {
     "data": {
      "text/plain": [
       "SpearmanrResult(correlation=0.7554159221464398, pvalue=0.0)"
      ]
     },
     "execution_count": 211,
     "metadata": {},
     "output_type": "execute_result"
    }
   ],
   "source": [
    "stats.spearmanr(df1.Reactivity1, df1.Reactivity2)"
   ]
  },
  {
   "cell_type": "code",
   "execution_count": 214,
   "id": "4681e826",
   "metadata": {
    "ExecuteTime": {
     "end_time": "2024-01-11T07:08:21.756801Z",
     "start_time": "2024-01-11T07:08:21.702148Z"
    }
   },
   "outputs": [],
   "source": [
    "df2 = df1[df1.Sequence.isin(['A', \"C\"]) & (df1.depth1 > 1000) & (df1.depth2 > 1000)]\n",
    "dfsize = pd.DataFrame(df2.groupby('Gene').size())\n",
    "df2  = df2[df2.Gene.isin(dfsize[dfsize[0] >= 20].index)]"
   ]
  },
  {
   "cell_type": "code",
   "execution_count": 229,
   "id": "fceefb27",
   "metadata": {
    "ExecuteTime": {
     "end_time": "2024-01-11T07:15:02.349608Z",
     "start_time": "2024-01-11T07:15:02.287177Z"
    }
   },
   "outputs": [
    {
     "data": {
      "text/plain": [
       "SpearmanrResult(correlation=0.8675415551728645, pvalue=0.0)"
      ]
     },
     "execution_count": 229,
     "metadata": {},
     "output_type": "execute_result"
    }
   ],
   "source": [
    "stats.spearmanr(df2.Reactivity1, df2.Reactivity2)"
   ]
  },
  {
   "cell_type": "code",
   "execution_count": 254,
   "id": "8cf5c786",
   "metadata": {
    "ExecuteTime": {
     "end_time": "2024-01-11T07:27:01.134029Z",
     "start_time": "2024-01-11T07:27:00.779852Z"
    }
   },
   "outputs": [
    {
     "data": {
      "image/png": "[encoded data removed]",
      "text/plain": [
       "<Figure size 108x86.4 with 2 Axes>"
      ]
     },
     "metadata": {
      "needs_background": "light"
     },
     "output_type": "display_data"
    }
   ],
   "source": [
    "fig, ax = plt.subplots(figsize=(1.5, 1.2))\n",
    "g = plt.hist2d(df2.Reactivity1, df2.Reactivity2,\n",
    "               bins = [i/10 for i in range(50)], cmap = 'RdYlGn_r', norm = colors.LogNorm())\n",
    "plt.plot([-0.2, 5], [-0.2, 5], color = 'k', linestyle = '--',  linewidth = 0.5)\n",
    "plt.xlim(-0.2, 4)\n",
    "plt.ylim(-0.2, 4)\n",
    "plt.xticks([0,2,4])\n",
    "plt.yticks([0,2,4])\n",
    "fig.colorbar(g[3], ax=ax, shrink= .40, pad =  0, aspect = 10, ticks = [0, 100, 1000])\n",
    "plt.xlabel('DMS reactivities (T2)')\n",
    "plt.ylabel('DMS reactivities (T3)')\n",
    "plt.text(x = 2, y = 0.1, s = r'$\\rho$ = 0.87')\n",
    "plt.savefig('5_Figure/fig4-e 7h25Reac vs 7h50Reac.pdf', bbox_inches = 'tight')\n",
    "plt.show()"
   ]
  }
 ],
 "metadata": {
  "kernelspec": {
   "display_name": "base",
   "language": "python",
   "name": "python3"
  },
  "language_info": {
   "codemirror_mode": {
    "name": "ipython",
    "version": 3
   },
   "file_extension": ".py",
   "mimetype": "text/x-python",
   "name": "python",
   "nbconvert_exporter": "python",
   "pygments_lexer": "ipython3",
   "version": "3.12.3"
  },
  "toc": {
   "base_numbering": 1,
   "nav_menu": {},
   "number_sections": true,
   "sideBar": true,
   "skip_h1_title": false,
   "title_cell": "Table of Contents",
   "title_sidebar": "Contents",
   "toc_cell": false,
   "toc_position": {
    "height": "calc(100% - 180px)",
    "left": "10px",
    "top": "150px",
    "width": "292.679px"
   },
   "toc_section_display": true,
   "toc_window_display": true
  }
 },
 "nbformat": 4,
 "nbformat_minor": 5
}

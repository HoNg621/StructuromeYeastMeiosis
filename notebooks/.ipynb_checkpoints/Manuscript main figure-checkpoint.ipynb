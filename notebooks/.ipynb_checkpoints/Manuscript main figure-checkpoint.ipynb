{
 "cells": [
  {
   "cell_type": "markdown",
   "id": "cabc1831",
   "metadata": {},
   "source": [
    "# pre"
   ]
  },
  {
   "cell_type": "code",
   "execution_count": 1,
   "id": "03032b4e",
   "metadata": {
    "ExecuteTime": {
     "end_time": "2024-08-14T06:12:20.520335Z",
     "start_time": "2024-08-14T06:12:15.797970Z"
    }
   },
   "outputs": [],
   "source": [
    "from plotArgs import *"
   ]
  },
  {
   "cell_type": "markdown",
   "id": "ab653a90",
   "metadata": {},
   "source": [
    "# Fig. 1 Structurome Overview"
   ]
  },
  {
   "cell_type": "markdown",
   "id": "dfb35729",
   "metadata": {},
   "source": [
    "## Overall structure"
   ]
  },
  {
   "cell_type": "code",
   "execution_count": 5,
   "id": "c163ab47",
   "metadata": {
    "ExecuteTime": {
     "end_time": "2023-10-07T17:59:06.623023Z",
     "start_time": "2023-10-07T17:59:01.335632Z"
    }
   },
   "outputs": [
    {
     "data": {
      "text/html": [
       "<div>\n",
       "<style scoped>\n",
       "    .dataframe tbody tr th:only-of-type {\n",
       "        vertical-align: middle;\n",
       "    }\n",
       "\n",
       "    .dataframe tbody tr th {\n",
       "        vertical-align: top;\n",
       "    }\n",
       "\n",
       "    .dataframe thead th {\n",
       "        text-align: right;\n",
       "    }\n",
       "</style>\n",
       "<table border=\"1\" class=\"dataframe\">\n",
       "  <thead>\n",
       "    <tr style=\"text-align: right;\">\n",
       "      <th></th>\n",
       "      <th>GENE_ID</th>\n",
       "      <th>length</th>\n",
       "      <th>GENE_name</th>\n",
       "      <th>Merged_Gene_gini</th>\n",
       "    </tr>\n",
       "  </thead>\n",
       "  <tbody>\n",
       "    <tr>\n",
       "      <th>1986</th>\n",
       "      <td>YFL031W</td>\n",
       "      <td>969.0</td>\n",
       "      <td>HAC1</td>\n",
       "      <td>0.474252</td>\n",
       "    </tr>\n",
       "    <tr>\n",
       "      <th>4468</th>\n",
       "      <td>YLR395C</td>\n",
       "      <td>237.0</td>\n",
       "      <td>COX8</td>\n",
       "      <td>0.235658</td>\n",
       "    </tr>\n",
       "  </tbody>\n",
       "</table>\n",
       "</div>"
      ],
      "text/plain": [
       "      GENE_ID  length GENE_name  Merged_Gene_gini\n",
       "1986  YFL031W   969.0      HAC1          0.474252\n",
       "4468  YLR395C   237.0      COX8          0.235658"
      ]
     },
     "execution_count": 5,
     "metadata": {},
     "output_type": "execute_result"
    }
   ],
   "source": [
    "df = pd.read_excel('3_Table/Summary_RNA_Gini_MS.xlsx')\n",
    "df_OvallStrucGini = df[['GENE_ID', 'length', 'GENE_name', 'Merged_Gene_gini']].dropna()\n",
    "df_OvallStrucGini[df_OvallStrucGini['GENE_name'].isin(['COX8', 'HAC1'])]"
   ]
  },
  {
   "cell_type": "code",
   "execution_count": 11,
   "id": "f6f31035",
   "metadata": {
    "ExecuteTime": {
     "end_time": "2023-10-08T02:43:07.054734Z",
     "start_time": "2023-10-08T02:43:06.660645Z"
    }
   },
   "outputs": [
    {
     "data": {
      "image/png": "[encoded data removed]",
      "text/plain": [
       "<Figure size 240x80 with 1 Axes>"
      ]
     },
     "metadata": {},
     "output_type": "display_data"
    }
   ],
   "source": [
    "# 18S rRNA: 0.7; 25S rRNA 0.74\n",
    "plt.figure(figsize=(2.4, 0.8))\n",
    "plt.hist(df_OvallStrucGini['Merged_Gene_gini'], bins = [i/100 for i in range(20,70)],\n",
    "         linewidth = 0.6, edgecolor = 'black', color = '#6475AC')\n",
    "\n",
    "plt.quiver(0.7, 100, 0, -100, angles='xy', scale_units='xy', scale=1)\n",
    "plt.quiver(0.235, 150, 0, -100, angles='xy', scale_units='xy', scale=1)\n",
    "plt.quiver(0.475, 120, 0, -100, angles='xy', scale_units='xy', scale=1)\n",
    "# plt.quiver(0.245, 150, 0, -100, angles='xy', scale_units='xy', scale=1)\n",
    "\n",
    "plt.xticks([0.2, 0.3, .4, .5, .6, .7])\n",
    "plt.yticks([0, 250, 500])\n",
    "plt.xlabel('Gini')\n",
    "plt.ylabel('Count')\n",
    "# plt.savefig('5_Figure/Fig1-b.pdf', bbox_inches = 'tight')\n",
    "plt.show()"
   ]
  },
  {
   "cell_type": "markdown",
   "id": "ba99eef0",
   "metadata": {},
   "source": [
    "## structure examples"
   ]
  },
  {
   "cell_type": "markdown",
   "id": "ace4f5b4",
   "metadata": {},
   "source": [
    "### Overall structures"
   ]
  },
  {
   "cell_type": "code",
   "execution_count": 79,
   "id": "c726bb9c",
   "metadata": {
    "ExecuteTime": {
     "end_time": "2023-10-07T15:30:35.830899Z",
     "start_time": "2023-10-07T15:29:00.471444Z"
    }
   },
   "outputs": [],
   "source": [
    "# merge data from all stages\n",
    "tps = ['YPD', '0h', '6h',  '7h', '7h25', '7h50', '8h25', '8h75', '9h5']\n",
    "df = pd.read_table('3_Table/shapemapper_YPDNormalized.txt')\n",
    "df = df[['Modified_mutations', 'Modified_effective_depth', 'Untreated_mutations',\n",
    "       'Untreated_effective_depth']]\n",
    "for t in tps[1:]:\n",
    "    df2 = pd.read_table('3_Table/shapemapper_'+ t +'Normalized.txt')\n",
    "    df2 = df2[['Modified_mutations', 'Modified_effective_depth', 'Untreated_mutations',\n",
    "       'Untreated_effective_depth']]\n",
    "    df = df + df2\n",
    "    \n",
    "\n",
    "# calculate reactivity for overall structure\n",
    "dfseq = pd.read_table('3_Table/shapemapper_YPDNormalized.txt')\n",
    "df['Nucleotide'] = dfseq['Nucleotide']\n",
    "df['Sequence'] = dfseq['Sequence']\n",
    "df['depth'] = df[['Modified_effective_depth', 'Untreated_effective_depth']].min(axis = 1)\n",
    "\n",
    "df['Modified_rate'] = df.Modified_mutations / df.Modified_effective_depth\n",
    "df['Untreated_rate'] = df.Untreated_mutations / df.Untreated_effective_depth\n",
    "df['Reactivity_profile'] = df['Modified_rate'] - df['Untreated_rate']\n",
    "df['std_err'] = (((df.Modified_rate)**0.5 / (df.Modified_effective_depth)**0.5)**2 + ((df.Untreated_rate)**0.5 / (df.Untreated_effective_depth)**0.5)**2)**0.5\n",
    "\n",
    "\n",
    "df['HQ_profile'] = df['Reactivity_profile']\n",
    "df['HQ_stderr'] = df['std_err']\n",
    "\n",
    "df.loc[df.Reactivity_profile < 0, 'HQ_profile'] = 0\n",
    "df.loc[df.Reactivity_profile == 0, 'HQ_stderr'] = 0\n",
    "\n",
    "# only keep DMS reactivitiy at A,C bases\n",
    "df.loc[df.Sequence.isin(['G', 'U']), 'HQ_profile'] = 0\n",
    "df.loc[df.Sequence.isin(['G', 'U']), 'HQ_stderr'] = 0\n",
    "\n",
    "# control mutation rate needs to be < 0.05\n",
    "df.loc[(df.Untreated_rate > 0.05), 'HQ_profile'] = np.nan\n",
    "df.loc[(df.Untreated_rate > 0.05), 'HQ_stderr'] = np.nan\n",
    "\n",
    "# assign position information\n",
    "dfsite = pd.read_csv('3_Table/Assigned_metagene_seq.csv')\n",
    "df = pd.merge(df, dfsite[['Nucleotide', 'Gene', 'Pos',  'site_from_start_codon', 'site_from_end_codon']], on='Nucleotide')\n",
    "\n",
    "# DMS reactivity was normalized by transcript\n",
    "def nor2(pos):\n",
    "    if pos.name in df3.index:\n",
    "        return pos / df3[pos.name]\n",
    "    else:\n",
    "        return pos*np.nan\n",
    "\n",
    "# 90%-95% top reactivity\n",
    "df2 = df[(df.depth > 350) & df.Sequence.isin(['A', 'C'])].dropna()\n",
    "df3 = df2.groupby('Gene')['HQ_profile'].apply(lambda x: x[(x > x.quantile(0.9)) & (x < x.quantile(0.95))].mean())\n",
    "\n",
    "# normalization\n",
    "df['Reactivity_norby90_95quantile'] = df.groupby('Gene')['HQ_profile'].apply(nor2)\n",
    "df['Stderr_norby90_95quantile'] = df.groupby('Gene')['HQ_stderr'].apply(nor2)\n",
    "\n",
    "df.to_csv('3_Table/shapemapper_9sampleNormalized_transcripts.csv')"
   ]
  },
  {
   "cell_type": "code",
   "execution_count": 5,
   "id": "1b5e6743",
   "metadata": {
    "ExecuteTime": {
     "end_time": "2023-10-07T16:48:47.256586Z",
     "start_time": "2023-10-07T16:48:31.319446Z"
    }
   },
   "outputs": [],
   "source": [
    "df_allReact = pd.read_csv('3_Table/shapemapper_9sampleNormalized_transcripts.csv')"
   ]
  },
  {
   "cell_type": "code",
   "execution_count": 54,
   "id": "4adedfb1",
   "metadata": {
    "ExecuteTime": {
     "end_time": "2023-10-07T18:38:47.626330Z",
     "start_time": "2023-10-07T18:38:47.618509Z"
    }
   },
   "outputs": [],
   "source": [
    "# function to export .shape and .map file\n",
    "def shape(df, file):\n",
    "    dfshape = df[['Sequence', 'Reactivity_norby90_95quantile', 'Stderr_norby90_95quantile']]\n",
    "    dfshape.loc[dfshape.Reactivity_norby90_95quantile.isna(), 'Reactivity_norby90_95quantile'] = -999\n",
    "    dfshape.loc[dfshape.Sequence.isin(['G', 'U']), 'Reactivity_norby90_95quantile'] = -999\n",
    "    dfshape.index = dfshape.reset_index().index + 1\n",
    "    dfshape[['Reactivity_norby90_95quantile']].to_csv(file + '_merged' + '.shape', header=False, sep = '\\t')\n",
    "    \n",
    "def shape_vaRNA(df, file):\n",
    "    dfshape = df[['Sequence', 'Reactivity_norby90_95quantile', 'Stderr_norby90_95quantile']]\n",
    "    dfshape['Reactivity_norby90_95quantile'] = dfshape['Reactivity_norby90_95quantile'] + 0.01\n",
    "    dfshape.loc[dfshape.Sequence.isin(['G', 'U']), 'Reactivity_norby90_95quantile'] = 0\n",
    "    dfshape.loc[dfshape.Reactivity_norby90_95quantile.isna(), 'Reactivity_norby90_95quantile'] = 0\n",
    "    dfshape.index = dfshape.reset_index().index + 1\n",
    "    dfshape[['Reactivity_norby90_95quantile']].to_csv(file + '_merged' + '_vaRNA.shape', header=False, sep = '\\t')\n",
    "\n",
    "# map\n",
    "# nucleotide number, SHAPE reactivity, Error, Nucleotide sequence.\n",
    "def map(df, file):\n",
    "    dfshape = df[['Sequence', 'Reactivity_norby90_95quantile', 'Stderr_norby90_95quantile']]\n",
    "    dfshape.loc[dfshape.Reactivity_norby90_95quantile.isna(), 'Reactivity_norby90_95quantile'] = -999\n",
    "    dfshape.loc[dfshape.Reactivity_norby90_95quantile.isna(), 'Stderr_norby90_95quantile'] = -999\n",
    "    dfshape.loc[dfshape.Sequence.isin(['G', 'U']), 'Reactivity_norby90_95quantile'] = -999\n",
    "    dfshape.loc[dfshape.Sequence.isin(['G', 'U']), 'Stderr_norby90_95quantile'] = -999\n",
    "    dfshape.index = dfshape.reset_index().index + 1\n",
    "    dfshape[['Reactivity_norby90_95quantile', 'Stderr_norby90_95quantile', 'Sequence']].to_csv(file + '_merged' + '.map', header=False, sep = '\\t')"
   ]
  },
  {
   "cell_type": "markdown",
   "id": "749c79b1",
   "metadata": {},
   "source": [
    "### COX8 / YLR395C Overview"
   ]
  },
  {
   "cell_type": "code",
   "execution_count": 112,
   "id": "de7db34a",
   "metadata": {
    "ExecuteTime": {
     "end_time": "2023-10-08T07:23:03.264647Z",
     "start_time": "2023-10-08T07:23:02.849994Z"
    }
   },
   "outputs": [],
   "source": [
    "df_allReact_COX8= df_allReact[df_allReact.Gene == 'YLR395C']\n",
    "df_allReact_COX8 = df_allReact_COX8[df_allReact_COX8.depth > 350]\n",
    "df_allReact_COX8 = df_allReact_COX8[df_allReact_COX8.Sequence.isin(['A', 'C'])].dropna()"
   ]
  },
  {
   "cell_type": "code",
   "execution_count": 138,
   "id": "370eee66",
   "metadata": {
    "ExecuteTime": {
     "end_time": "2023-10-08T08:31:46.822520Z",
     "start_time": "2023-10-08T08:31:46.349019Z"
    }
   },
   "outputs": [
    {
     "data": {
      "image/png": "[encoded data removed]",
      "text/plain": [
       "<Figure size 252x28.8 with 1 Axes>"
      ]
     },
     "metadata": {
      "needs_background": "light"
     },
     "output_type": "display_data"
    }
   ],
   "source": [
    "fig, ax = plt.subplots(1, figsize=[3.5, 0.4],sharex=True, sharey=True)\n",
    "x = df_allReact_COX8.site_from_start_codon\n",
    "y = df_allReact_COX8['Reactivity_norby90_95quantile']\n",
    "\n",
    "ax.bar(x,y, color='#3399CC', )\n",
    "ax.spines['top'].set_color('none')\n",
    "ax.spines['left'].set_color('black')\n",
    "ax.spines['bottom'].set_color('black')\n",
    "ax.spines['right'].set_color('none')\n",
    "ax.axhline(0.7, 0, 1, color = 'k', linestyle = '--', linewidth = 0.5)\n",
    "plt.xlim(-50, 350)\n",
    "plt.ylim(0, 1.5)\n",
    "plt.xticks([-22, 0, 100, 200, 246, 300], [-22, 1, 100, 200, 246, 300])\n",
    "plt.savefig('5_Figure/Fig1-c COX8 reactivity.pdf')\n",
    "plt.show()"
   ]
  },
  {
   "cell_type": "code",
   "execution_count": 62,
   "id": "9bf0c3bf",
   "metadata": {
    "ExecuteTime": {
     "end_time": "2023-10-08T01:15:15.009619Z",
     "start_time": "2023-10-08T01:15:15.002289Z"
    }
   },
   "outputs": [
    {
     "data": {
      "text/plain": [
       "'AGUUAUCCAUUUCCAUUACGCAAUGUUGUGCCAACAGAUGAUUAGAACGACAGCUAAGAGAAGUAGCAAUAUCAUGACCAGACCUAUUAUCAUGAAGAGGUCAGUACACUUCAAAGACGGUGUGUAUGAAAAUAUCCCAUUCAAAGUCAAAGGAAGAAAGACACCUUACGCCUUAUCUCAUUUCGGGUUCUUCGCUAUUGGAUUUGCUGUUCCAUUUGUUGCCUGCUAUGUUCAAUUGAAAAAGUCAGGUGCUUUUUAAAACACCCCCA'"
      ]
     },
     "execution_count": 62,
     "metadata": {},
     "output_type": "execute_result"
    }
   ],
   "source": [
    "# 导出Reactivity，模拟结构\n",
    "shape(df_allReact_COX8.loc[7253145:7253567], '3_Table/COX8')\n",
    "shape_vaRNA(df_allReact_COX8.loc[7253145:7253567], '3_Table/COX8')\n",
    "map(df_allReact_COX8.loc[7253145:7253567], '3_Table/COX8')\n",
    "\n",
    "A = ''.join(df_allReact_COX8.loc[7253145:7253567].Sequence.to_list())\n",
    "# 303.15\n",
    "A[21:290]"
   ]
  },
  {
   "cell_type": "code",
   "execution_count": 58,
   "id": "7db512e9",
   "metadata": {
    "ExecuteTime": {
     "end_time": "2023-10-08T01:13:38.424015Z",
     "start_time": "2023-10-08T01:13:38.417821Z"
    }
   },
   "outputs": [],
   "source": [
    "# 结果\n",
    "B = '......(.................................(........)..(((((((((....(...(.(.((((.......)))).............(((((............)))))..((((((........))))))...(.............)........(((.....((....))....)))...................................).)))))))))))..........................((((.((.....))))))...........).(.(((.(((((((((((.(((......(.((.((((...............)))).)).)...))).)))))))))))))).).........................................'\n",
    "B[21:290]\n",
    "shape_vaRNA(df_allReact_COX8.loc[7253145+21:7253145+289], '3_Table/COX8_example')"
   ]
  },
  {
   "cell_type": "markdown",
   "id": "2d312436",
   "metadata": {},
   "source": [
    "### HAC1 / YFL031W Overview"
   ]
  },
  {
   "cell_type": "code",
   "execution_count": 82,
   "id": "732255e6",
   "metadata": {
    "ExecuteTime": {
     "end_time": "2023-10-08T06:45:27.897830Z",
     "start_time": "2023-10-08T06:45:27.881283Z"
    }
   },
   "outputs": [],
   "source": [
    "df_HAC1 = pd.read_csv('3_Table/HAC1_500nt.csv')"
   ]
  },
  {
   "cell_type": "code",
   "execution_count": 129,
   "id": "22e2f35d",
   "metadata": {
    "ExecuteTime": {
     "end_time": "2023-10-08T07:51:50.526747Z",
     "start_time": "2023-10-08T07:51:50.092892Z"
    }
   },
   "outputs": [
    {
     "data": {
      "image/png": "[encoded data removed]",
      "text/plain": [
       "<Figure size 252x28.8 with 1 Axes>"
      ]
     },
     "metadata": {
      "needs_background": "light"
     },
     "output_type": "display_data"
    }
   ],
   "source": [
    "fig, ax = plt.subplots(1, figsize=[3.5, 0.4],sharex=True, sharey=True)\n",
    "x = df_HAC1.pos\n",
    "y = df_HAC1['Reactivity_norby90_95quantile']\n",
    "\n",
    "ax.bar(x,y, color='#CC3366', )\n",
    "ax.spines['top'].set_color('none')\n",
    "ax.spines['left'].set_color('black')\n",
    "ax.spines['bottom'].set_color('black')\n",
    "ax.spines['right'].set_color('none')\n",
    "ax.axhline(0.7, 0, 1, color = 'k', linestyle = '--', linewidth = 0.5)\n",
    "plt.xlim(842, 1242)\n",
    "plt.ylim(0,1.5)\n",
    "plt.xticks([ 900, 1000, 1075, 1100, 1200, 1243])\n",
    "plt.savefig('5_Figure/Fig1-c HAC1 reactivity.pdf', bbox_inches = 'tight')\n",
    "plt.show()"
   ]
  },
  {
   "cell_type": "code",
   "execution_count": 105,
   "id": "9c9ec72c",
   "metadata": {
    "ExecuteTime": {
     "end_time": "2023-10-08T07:17:09.445403Z",
     "start_time": "2023-10-08T07:17:09.372528Z"
    }
   },
   "outputs": [],
   "source": [
    "df_allReact_HAC1 = pd.read_table('3_Table/HAC1/shapemapper_allNormalized_transcripts.txt')"
   ]
  },
  {
   "cell_type": "code",
   "execution_count": null,
   "id": "f6fccdbb",
   "metadata": {},
   "outputs": [],
   "source": [
    "# 1075 - 1243\n",
    "A = \"CUCCGGUUAGUGUUUGCUACUUCAACCGAAGAAGAAGAGGCUUUUCAAGAAUGCAAACGUGAGGUUGGCGCGCCCUCCUACAAUUAUUUGUGGCGACUGGGCAGCGACACUGAACAUAGCUCUUGAACAAGACCCUUUUUUGGCUGCAAGGAGCAAGACUGGCUGGGG\""
   ]
  },
  {
   "cell_type": "code",
   "execution_count": 107,
   "id": "87132d17",
   "metadata": {
    "ExecuteTime": {
     "end_time": "2023-10-08T07:17:50.908767Z",
     "start_time": "2023-10-08T07:17:50.893987Z"
    }
   },
   "outputs": [
    {
     "data": {
      "text/plain": [
       "1575"
      ]
     },
     "execution_count": 107,
     "metadata": {},
     "output_type": "execute_result"
    }
   ],
   "source": [
    "''.join(df_allReact_HAC1.Sequence.to_list()).index(A)"
   ]
  },
  {
   "cell_type": "markdown",
   "id": "746cd35a",
   "metadata": {},
   "source": [
    "## Stage sepecific structures"
   ]
  },
  {
   "cell_type": "code",
   "execution_count": 2,
   "id": "16bbf716",
   "metadata": {
    "ExecuteTime": {
     "end_time": "2023-10-08T15:34:48.416561Z",
     "start_time": "2023-10-08T15:34:43.496956Z"
    }
   },
   "outputs": [],
   "source": [
    "df = pd.read_excel('3_Table/Summary_RNA_Gini_MS.xlsx')\n",
    "dfplot = df[[i for i in df.columns if i.startswith('Gene_gini_')]]"
   ]
  },
  {
   "cell_type": "code",
   "execution_count": 14,
   "id": "c57ff492",
   "metadata": {},
   "outputs": [
    {
     "name": "stdout",
     "output_type": "stream",
     "text": [
      "(array([ True,  True, False, False,  True,  True,  True, False]), array([4.72250541e-045, 5.56966565e-108, 6.04239469e-002, 8.49037903e-001,\n",
      "       1.72359109e-131, 9.77738258e-003, 5.23381521e-005, 5.30038808e-001]), 0.006391150954545011, 0.00625)\n"
     ]
    }
   ],
   "source": [
    "p_values = []\n",
    "for i in range(dfplot.shape[1] - 1):\n",
    "    p_values.append(stats.mannwhitneyu(dfplot[dfplot.columns[i]].dropna(), \\\n",
    "        dfplot[dfplot.columns[i+1]].dropna()) )\n",
    "p_values = [i[1] for i in p_values]\n",
    "\n",
    "p_adjusted_bonferroni = multipletests(p_values, method='bonferroni')\n",
    "p_adjusted_bh = multipletests(p_values, method='fdr_bh')\n",
    "print(p_adjusted_bh)"
   ]
  },
  {
   "cell_type": "code",
   "execution_count": 4,
   "id": "1415636d",
   "metadata": {},
   "outputs": [
    {
     "name": "stdout",
     "output_type": "stream",
     "text": [
      "P 657 0.5465890183028286 545 0.45341098169717137\n",
      "T0 1016 0.6102102102102102 649 0.3897897897897898\n",
      "T1 1217 0.8054268696227663 294 0.19457313037723362\n",
      "T2 1427 0.8643246517262265 224 0.13567534827377348\n",
      "T3 1020 0.9272727272727272 80 0.07272727272727272\n",
      "T4 875 0.6410256410256411 490 0.358974358974359\n",
      "T5 1147 0.9695688926458157 36 0.030431107354184278\n",
      "T6 989 0.931261770244821 73 0.0687382297551789\n"
     ]
    },
    {
     "name": "stderr",
     "output_type": "stream",
     "text": [
      "/var/folders/rw/85k6y2vs37x81n21hjm129fm0000gn/T/ipykernel_72577/451033608.py:4: FutureWarning: Series.__getitem__ treating keys as positions is deprecated. In a future version, integer keys will always be treated as labels (consistent with DataFrame behavior). To access a value by position, use `ser.iloc[pos]`\n",
      "  olGenes = len([j for j in stageGenes[i+1] if j in stageGenes[i]])\n",
      "/var/folders/rw/85k6y2vs37x81n21hjm129fm0000gn/T/ipykernel_72577/451033608.py:5: FutureWarning: Series.__getitem__ treating keys as positions is deprecated. In a future version, integer keys will always be treated as labels (consistent with DataFrame behavior). To access a value by position, use `ser.iloc[pos]`\n",
      "  spGenes = len([j for j in stageGenes[i+1] if j not in stageGenes[i]])\n"
     ]
    }
   ],
   "source": [
    "stageGenes = dfplot.apply(lambda x: x.dropna().index.to_list())\n",
    "tps = ['V','P','T0','T1','T2','T3','T4','T5','T6']\n",
    "for i in range(stageGenes.shape[0]-1):\n",
    "    olGenes = len([j for j in stageGenes[i+1] if j in stageGenes[i]])\n",
    "    spGenes = len([j for j in stageGenes[i+1] if j not in stageGenes[i]])\n",
    "    ttGenes = olGenes + spGenes\n",
    "    print(tps[i+1], olGenes, olGenes/ttGenes, spGenes, spGenes/ttGenes)"
   ]
  },
  {
   "cell_type": "code",
   "execution_count": 10,
   "id": "210c5416",
   "metadata": {},
   "outputs": [],
   "source": [
    "def plot_sig(xstart,xend, yend, sig):\n",
    "    plt.hlines(yend, xstart, xend, color=\"black\", linewidth = 0.5)\n",
    "    plt.annotate(r'%s'%sig, xy=((xstart + xend)/2, yend), \\\n",
    "        color=\"black\", ha='center')"
   ]
  },
  {
   "cell_type": "code",
   "execution_count": 13,
   "id": "7e35d906",
   "metadata": {},
   "outputs": [
    {
     "data": {
      "image/png": "[encoded data removed]",
      "text/plain": [
       "<Figure size 320x100 with 1 Axes>"
      ]
     },
     "metadata": {},
     "output_type": "display_data"
    }
   ],
   "source": [
    "# Setting up figure and style parameters\n",
    "plt.figure(figsize=(3.2, 1))\n",
    "props = {\n",
    "    'boxprops': dict(linestyle='-', linewidth=1, color='gray', alpha=1),\n",
    "    'medianprops': dict(linestyle='-', linewidth=1, color='k'),\n",
    "    'whiskerprops': dict(linestyle='--', linewidth=1, color='gray', alpha=1),\n",
    "    'capprops': dict(linestyle='-', linewidth=1, color='gray', alpha=1)\n",
    "}\n",
    "\n",
    "# Plotting the boxplot\n",
    "dfplot.boxplot(showfliers=False, widths=0.4, **props)\n",
    "\n",
    "# Configuring axes\n",
    "ax = plt.gca()\n",
    "ax.set_xticklabels(['V', 'P', 'T0', 'T1', 'T2', 'T3', 'T4', 'T5', 'T6'], rotation=0)\n",
    "\n",
    "ax.set_ylabel('Gini')\n",
    "ax.grid(False)\n",
    "\n",
    "plot_sig(1, 2, 0.48, '***')\n",
    "plot_sig(2, 3, 0.46, '***')\n",
    "plot_sig(5, 6, 0.46, '***')\n",
    "\n",
    "ax.set_yticks([0.2, 0.3, 0.4, 0.5])\n",
    "plt.savefig('5_Figure/Fig1-f boxplot_gini_distribution_with statistic test.pdf',  bbox_inches = 'tight')\n",
    "\n",
    "# Displaying the plot\n",
    "plt.show()"
   ]
  },
  {
   "cell_type": "markdown",
   "id": "c8cf21fc",
   "metadata": {},
   "source": [
    "## s1-a Meiotic staging"
   ]
  },
  {
   "cell_type": "code",
   "execution_count": 76,
   "id": "3afad0f0",
   "metadata": {
    "ExecuteTime": {
     "end_time": "2023-10-07T07:18:18.497163Z",
     "start_time": "2023-10-07T07:18:18.196880Z"
    }
   },
   "outputs": [
    {
     "data": {
      "image/png": "[encoded data removed]",
      "text/plain": [
       "<Figure size 144x90 with 1 Axes>"
      ]
     },
     "metadata": {
      "needs_background": "light"
     },
     "output_type": "display_data"
    }
   ],
   "source": [
    "df_stg = pd.read_excel('3_Table/Meiotic staging.xlsx', sheet_name='A14201')\n",
    "df_stg['times'] = [str(i) for i in df_stg['times']]\n",
    "df_stg = df_stg[df_stg.Phase.isin(['Anaphase I',\n",
    " 'Anaphase II',\n",
    " 'Disassembling',\n",
    " 'Metaphase I',\n",
    " 'Metaphase II',\n",
    " 'Monopolar'])]\n",
    "\n",
    "plt.figure(figsize = (2, 1.25))\n",
    "# palette = ['#ffa800ff', '#ff5555ae', '#ff5555ff', '#ff0000ff', '#aa0000ff', '#12037bff']\n",
    "sns.lineplot(x = 'times', y = 'Rate', hue = 'Phase', data = df_stg, marker = 's', markersize = 3)\n",
    "\n",
    "\n",
    "leg = plt.legend(loc = (1.05, -0.05),  title = 'Spindle morphology', frameon=False)\n",
    "leg_lines = leg.get_lines()\n",
    "leg_texts = leg.get_texts()\n",
    "# plt.setp(leg_lines)\n",
    "# plt.setp(leg.get_title())\n",
    "\n",
    "plt.xticks(rotation = 90)\n",
    "plt.xlabel('Hours in spo')\n",
    "plt.ylabel('Percentage of cells')\n",
    "plt.yticks([0, 0.25, 0.5, 0.75, 1], ['0%', '25%', '50%', '75%', '100%'])\n",
    "plt.savefig('5_Figure/Figs1 A14201_IF counts.pdf', bbox_inches = 'tight')\n",
    "plt.show()"
   ]
  },
  {
   "cell_type": "markdown",
   "id": "c1cd0990",
   "metadata": {},
   "source": [
    "# Fig2 meiotic RNA structure features"
   ]
  },
  {
   "cell_type": "markdown",
   "id": "1560d30c",
   "metadata": {},
   "source": [
    "## Gini compare"
   ]
  },
  {
   "cell_type": "code",
   "execution_count": 2,
   "id": "432b71b9",
   "metadata": {
    "ExecuteTime": {
     "end_time": "2023-11-07T08:19:39.095978Z",
     "start_time": "2023-11-07T08:19:33.774123Z"
    }
   },
   "outputs": [],
   "source": [
    "# dfgc = pd.read_excel('Final_RNA_TE_Gini_MS.xlsx')\n",
    "df = pd.read_excel('3_Table/Summary_RNA_Gini_MS.xlsx')\n",
    "df.loc[df['Meiosis_specific'] != 'yes', 'Meiosis_specific'] = 'no'\n",
    "# df['ORF_GC_content'] = dfgc['ORF_GC_content']"
   ]
  },
  {
   "cell_type": "code",
   "execution_count": 7,
   "id": "6500daf5",
   "metadata": {
    "ExecuteTime": {
     "end_time": "2023-10-16T07:09:42.948514Z",
     "start_time": "2023-10-16T07:09:42.927242Z"
    }
   },
   "outputs": [
    {
     "name": "stdout",
     "output_type": "stream",
     "text": [
      "(973,)\n",
      "(3767,)\n"
     ]
    },
    {
     "data": {
      "text/plain": [
       "MannwhitneyuResult(statistic=1443596.0, pvalue=1.5538735741742618e-24)"
      ]
     },
     "execution_count": 7,
     "metadata": {},
     "output_type": "execute_result"
    }
   ],
   "source": [
    "print(df.loc[df.Meiosis_specific == 'yes', 'Merged_Gene_gini'].dropna().shape)\n",
    "print(df.loc[df.Meiosis_specific != 'yes', 'Merged_Gene_gini'].dropna().shape)\n",
    "stats.mannwhitneyu(df.loc[df.Meiosis_specific == 'yes', 'Merged_Gene_gini'].dropna(),\n",
    "                   df.loc[df.Meiosis_specific != 'yes', 'Merged_Gene_gini'].dropna())"
   ]
  },
  {
   "cell_type": "code",
   "execution_count": 23,
   "id": "d723b8c8",
   "metadata": {
    "ExecuteTime": {
     "end_time": "2023-11-07T08:30:36.272338Z",
     "start_time": "2023-11-07T08:30:36.054272Z"
    }
   },
   "outputs": [
    {
     "data": {
      "image/png": "[encoded data removed]",
      "text/plain": [
       "<Figure size 43.2x86.4 with 1 Axes>"
      ]
     },
     "metadata": {
      "needs_background": "light"
     },
     "output_type": "display_data"
    }
   ],
   "source": [
    "# mpl.rcParams['figure.figsize'] = [1, 0.8]\n",
    "plt.figure(figsize = (0.6 , 1.2))\n",
    "PROPS = {\n",
    "    'boxprops':{'facecolor':'none', 'edgecolor':'k', 'linewidth':'0.5'},\n",
    "    'medianprops':{'color':'k', 'linewidth':'1'},\n",
    "    'whiskerprops':{'color':'k', 'linewidth':'0.5'},\n",
    "    'capprops':{'color':'k', 'linewidth' :0}\n",
    "}\n",
    "\n",
    "sns.boxplot(x = 'Meiosis_specific',y = 'Merged_Gene_gini', data=df, \n",
    "            width=0.35, showfliers = False, **PROPS)\n",
    "\n",
    "ax = plt.gca()\n",
    "ax.spines['top'].set_linewidth(0)  \n",
    "ax.spines['right'].set_linewidth(0) \n",
    "ax.grid(False)\n",
    "\n",
    "plt.xticks([0,1], ['Non-meiotic', 'Meiotic'], rotation = 90)\n",
    "plt.yticks([0.2, 0.3, 0.4])\n",
    "plt.ylim(0.2, 0.45)\n",
    "\n",
    "plt.ylabel('Gini')\n",
    "\n",
    "plt.xlabel(None)\n",
    "\n",
    "\n",
    "def plot_sig(xstart,xend, yend, sig):\n",
    "    plt.hlines(yend, xstart, xend, color=\"black\", linewidth = 0.5)\n",
    "    plt.annotate(r'%s'%sig, xy=((xstart + xend)/2, yend+0.01), color=\"black\", ha='center')\n",
    "\n",
    "plot_sig(0, 1, 0.44, 'P < 10-23')\n",
    "plt.savefig('5_Figure/fig2-b_boxplot_meiosisRNAs_gini_distribution.pdf',  bbox_inches = 'tight')\n",
    "plt.show()"
   ]
  },
  {
   "cell_type": "code",
   "execution_count": 8,
   "id": "2039a921",
   "metadata": {},
   "outputs": [
    {
     "name": "stdout",
     "output_type": "stream",
     "text": [
      "(251,)\n",
      "(705,)\n"
     ]
    },
    {
     "data": {
      "text/plain": [
       "MannwhitneyuResult(statistic=81450.0, pvalue=0.06140516998025917)"
      ]
     },
     "execution_count": 8,
     "metadata": {},
     "output_type": "execute_result"
    }
   ],
   "source": [
    "print(df.loc[df.RNA_cluster == 'meiotic-early', 'Merged_Gene_gini'].dropna().shape)\n",
    "print(df.loc[df.RNA_cluster == 'meiotic-late', 'Merged_Gene_gini'].dropna().shape)\n",
    "stats.mannwhitneyu(df.loc[df.RNA_cluster == 'meiotic-early', 'Merged_Gene_gini'].dropna(),\n",
    "                   df.loc[df.RNA_cluster == 'meiotic-late', 'Merged_Gene_gini'].dropna())"
   ]
  },
  {
   "cell_type": "code",
   "execution_count": 24,
   "id": "4e3bb3a1",
   "metadata": {
    "ExecuteTime": {
     "end_time": "2023-11-07T08:30:56.745634Z",
     "start_time": "2023-11-07T08:30:56.607195Z"
    }
   },
   "outputs": [
    {
     "data": {
      "image/png": "[encoded data removed]",
      "text/plain": [
       "<Figure size 43.2x86.4 with 1 Axes>"
      ]
     },
     "metadata": {
      "needs_background": "light"
     },
     "output_type": "display_data"
    }
   ],
   "source": [
    "# mpl.rcParams['figure.figsize'] = [1, 0.8]\n",
    "plt.figure(figsize = (0.6 , 1.2))\n",
    "PROPS = {\n",
    "    'boxprops':{'facecolor':'none', 'edgecolor':'k', 'linewidth':'0.5'},\n",
    "    'medianprops':{'color':'k', 'linewidth':'1'},\n",
    "    'whiskerprops':{'color':'k', 'linewidth':'0.5'},\n",
    "    'capprops':{'color':'k', 'linewidth' :0}\n",
    "}\n",
    "\n",
    "sns.boxplot(x = 'RNA_cluster',y = 'Merged_Gene_gini', data=df,\n",
    "            width=0.35,showfliers = False,\\\n",
    "           **PROPS, order = ['meiotic-early', 'meiotic-late'])\n",
    "\n",
    "ax = plt.gca()\n",
    "ax.spines['top'].set_linewidth(0)  \n",
    "ax.spines['right'].set_linewidth(0) \n",
    "ax.grid(False)\n",
    "plt.xticks([0,1], ['Early', 'Late'], rotation = 90)\n",
    "plt.yticks([0.2, 0.3, 0.4])\n",
    "plt.ylim(0.2, 0.45)\n",
    "plt.ylabel('Gini')\n",
    "plt.xlabel('')\n",
    "\n",
    "def plot_sig(xstart,xend, yend,sig):\n",
    "    plt.hlines(yend, xstart, xend, color=\"black\", linewidth = 0.5)\n",
    "    plt.annotate(r'%s'%sig, xy=((xstart + xend)/2, yend+0.01), color=\"black\", ha='center')\n",
    "plot_sig(0, 1, 0.44, 'NS')\n",
    "plt.savefig('5_Figure/fig2-c_boxplot_early_vs_late.pdf',  bbox_inches = 'tight')\n",
    "plt.show()"
   ]
  },
  {
   "cell_type": "markdown",
   "id": "21058934",
   "metadata": {},
   "source": [
    "## metagene analysis"
   ]
  },
  {
   "cell_type": "code",
   "execution_count": null,
   "id": "cba6abc4",
   "metadata": {},
   "outputs": [],
   "source": [
    "df = pd.read_excel('3_Table/Summary_RNA_Gini_MS.xlsx')\n",
    "# dftps = pd.read_csv('3_Table/shapemapper_9sampleNormalized_transcripts.csv')\n",
    "# dftps = dftps[(dftps.depth > 350)]"
   ]
  },
  {
   "cell_type": "code",
   "execution_count": 134,
   "id": "74228247",
   "metadata": {
    "ExecuteTime": {
     "end_time": "2023-10-18T01:58:11.369031Z",
     "start_time": "2023-10-18T01:58:11.287071Z"
    }
   },
   "outputs": [],
   "source": [
    "df1 = pd.read_csv('3_Table/meta_5utr_meiotics_AUGC.csv')\n",
    "df2 = pd.read_csv('3_Table/meta_5utr_others_AUGC.csv')\n",
    "df3 = pd.read_csv('3_Table/meta_3utr_meiotics_AUGC.csv')\n",
    "df4 = pd.read_csv('3_Table/meta_3utr_others_AUGC.csv')\n",
    "\n",
    "df1 = df1[(df1.position >= -100) & (df1.position <= 150)]\n",
    "df2 = df2[(df2.position >= -100) & (df2.position <= 150)]\n",
    "df3 = df3[(df3.position >= -150) & (df3.position <= 100)]\n",
    "df4 = df4[(df4.position >= -150) & (df4.position <= 100)]\n",
    "\n",
    "df1['x'] = df1.position\n",
    "df3['x'] = df3.position + 400\n",
    "# df1 = pd.concat([df1, df3])\n",
    "\n",
    "df2['x'] = df2.position\n",
    "df4['x'] = df4.position + 400"
   ]
  },
  {
   "cell_type": "code",
   "execution_count": 159,
   "id": "5e0057b2",
   "metadata": {
    "ExecuteTime": {
     "end_time": "2023-10-18T02:38:18.440380Z",
     "start_time": "2023-10-18T02:38:18.163445Z"
    }
   },
   "outputs": [
    {
     "data": {
      "image/png": "[encoded data removed]",
      "text/plain": [
       "<Figure size 180x86.4 with 4 Axes>"
      ]
     },
     "metadata": {
      "needs_background": "light"
     },
     "output_type": "display_data"
    }
   ],
   "source": [
    "# meiotic vs Others\n",
    "fig, (ax1, ax2) = plt.subplots(1, 2, sharey=True, figsize=(2.5, 1.2))\n",
    "# fig.subplots_adjust(wspace=0.05)\n",
    "\n",
    "# ax1,ax3 - is the left subplot\n",
    "# ax2,ax4 - is the right subplot\n",
    "# prepare twinned axes\n",
    "ax3 = ax1.twinx()\n",
    "ax4 = ax2.twinx()\n",
    "\n",
    "ax1.set_xlim(-100, 150)\n",
    "ax2.set_xlim(250, 500)\n",
    "ax3.set_xlim(-100, 150)\n",
    "ax4.set_xlim(250, 500)\n",
    "\n",
    "y1max = 0.4\n",
    "y1min = 0.2\n",
    "y2max = 0.4\n",
    "y2min = 0.2\n",
    "linewidth = 0.5\n",
    "ax1.set_ylim(y1min, y1max)\n",
    "ax3.set_ylim(y2min, y2max)\n",
    "# ax4.set_ylim(y2min, y2max)\n",
    "\n",
    "# turn off spines\n",
    "ax1.spines['right'].set_visible(False)\n",
    "ax2.spines['left'].set_visible(False)\n",
    "ax2.spines['right'].set_visible(True)\n",
    "\n",
    "ax3.spines['right'].set_visible(False)\n",
    "ax4.spines['left'].set_visible(False)\n",
    "ax4.spines['right'].set_visible(False)\n",
    "\n",
    "ax1.tick_params(right=False)\n",
    "ax3.yaxis.set_visible(False)\n",
    "\n",
    "ax2.tick_params(left = False)\n",
    "ax2.tick_params(right = True)\n",
    "ax4.tick_params(right = False)\n",
    "ax4.yaxis.set_visible(False)\n",
    "\n",
    "# plotting break diagonals\n",
    "d = 0.025  # line length \n",
    "ax1.plot((1, 1), (-d, +d), c='k', clip_on=False, transform=ax1.transAxes)\n",
    "ax2.plot((0, 0), (-d, d), c='k', clip_on=False, transform=ax2.transAxes)\n",
    "\n",
    "linewidth1 = 0.4\n",
    "# meiosis-specific\n",
    "ax1.plot(df1['x'], df1['React_5nt'], c='#EA5404', label='meiotic',zorder = 1, linewidth = linewidth1)\n",
    "ax2.plot(df3['x'], df3['React_5nt'], c='#EA5404', label='meiotic', zorder = 1, linewidth = linewidth1)\n",
    "ax1.fill_between(df1['x'], df1.React_5nt + df1.err_5nt,  df1.React_5nt - df1.err_5nt,\\\n",
    "                 color='#FCEEE6', edgecolor='#F9D5C2', zorder = 1, linewidth = linewidth1, alpha = 0.5)\n",
    "ax2.fill_between(df3['x'], df3.React_5nt + df3.err_5nt,  df3.React_5nt - df3.err_5nt, \\\n",
    "                 color='#FCEEE6', edgecolor='#F9D5C2', zorder = 1, linewidth = linewidth1, alpha = 0.5)\n",
    "\n",
    "# non-meiosis\n",
    "ax1.plot(df2['x'], df2['React_5nt'], c='#009FDA', label='non-meiotic', linewidth = linewidth1)\n",
    "ax2.plot(df4['x'], df4['React_5nt'], c='#009FDA', label='non-meiotic', linewidth = linewidth1)\n",
    "ax1.fill_between(df2['x'], df2.React_5nt + df2.err_5nt,  df2.React_5nt - df2.err_5nt,\\\n",
    "                 color='#E9F6FC', edgecolor='#D0EDF7', linewidth = linewidth1, alpha = 0.5)\n",
    "ax2.fill_between(df4['x'], df4.React_5nt + df4.err_5nt,  df4.React_5nt - df4.err_5nt,\\\n",
    "                 color='#E9F6FC', edgecolor='#D0EDF7', linewidth = linewidth1, alpha = 0.5)\n",
    "\n",
    "\n",
    "# ax1.legend(loc = (0.5, 0.8))\n",
    "\n",
    "ax1.vlines(x=1, ymin=y1min, ymax=y1max,  color = 'black', linestyle = '--', zorder = 100, linewidth = linewidth)\n",
    "# ax1.vlines(x=100, ymin=y1min, ymax=y1max,  color = 'gray', linestyle = '--', zorder = 100, linewidth = linewidth)\n",
    "ax2.vlines(x=400, ymin=y1min, ymax=y1max,  color = 'black', linestyle = '--', zorder = 100, linewidth = linewidth)\n",
    "# ax2.vlines(x=300, ymin=y1min, ymax=y1max,  color = 'gray', linestyle = '--', zorder = 100, linewidth = linewidth)\n",
    "\n",
    "plt.savefig('5_Figure/fig2-c meta_meiotic vs others_AUGC.pdf', bbox_inches = 'tight')\n",
    "plt.show()"
   ]
  },
  {
   "cell_type": "markdown",
   "id": "d46161c2",
   "metadata": {},
   "source": [
    "## strutcure vs TE"
   ]
  },
  {
   "cell_type": "markdown",
   "id": "77333e67",
   "metadata": {},
   "source": [
    "### match up"
   ]
  },
  {
   "cell_type": "code",
   "execution_count": 132,
   "id": "ce010a4e",
   "metadata": {
    "ExecuteTime": {
     "end_time": "2024-08-16T05:15:35.339361Z",
     "start_time": "2024-08-16T05:15:29.277784Z"
    }
   },
   "outputs": [],
   "source": [
    "df = pd.read_excel('3_Table/Summary_RNA_Gini_MS.xlsx', index_col='GENE_ID')\n",
    "tps = ['YPD', '0h', '6h', '7h','7h25', '7h5','8h25', '8h75', '9h5']\n",
    "matchup = {'YPD':'YPD', '0h': '0h', '6h':'6h', '7h':'7h', '7h25':'7h25', '7h5':'7h5', '8h25':'8h', '8h75': '8h5', '9h5':'9h25'}\n",
    "\n",
    "dfgini = df[[i for i in df.columns if i.startswith('ORF_gini_')]]\n",
    "dfgini.columns = tps\n",
    "\n",
    "tpsbrar = ['YPD', '0h', '6h', '6h5', '6h75', '7h', '7h25', '7h5', '7h75', '8h', '8h25', '8h5', '8h75', '9h25', '11h']\n",
    "dfRNA = df[[i for i in df.columns if i.startswith('RNA_brar_')]]\n",
    "dfRNA.columns = tpsbrar\n",
    "dfribo = df[[i for i in df.columns if i.startswith('Ribo_brar_')]]\n",
    "dfribo.columns = tpsbrar\n",
    "\n",
    "dfte = dfribo[dfribo>=5] / dfRNA[dfRNA>=5]\n",
    "# dfte = dfribo / dfRNA[dfRNA>=1]\n",
    "\n",
    "dfte = dfte[[matchup[i] for i in tps]]\n",
    "\n",
    "# convert timepoints\n",
    "dfte.columns = tps\n",
    "\n",
    "dftelog = np.log2(dfte)"
   ]
  },
  {
   "cell_type": "code",
   "execution_count": 37,
   "id": "96e04492",
   "metadata": {
    "ExecuteTime": {
     "end_time": "2024-08-09T19:13:56.005875Z",
     "start_time": "2024-08-09T19:13:55.056219Z"
    }
   },
   "outputs": [
    {
     "data": {
      "image/png": "[encoded data removed]",
      "text/plain": [
       "<Figure size 350x350 with 9 Axes>"
      ]
     },
     "metadata": {},
     "output_type": "display_data"
    }
   ],
   "source": [
    "timepoints = ['V', 'P', 'T0', 'T1', 'T2', 'T3', 'T4', 'T5', 'T6']\n",
    "corr_list = []\n",
    "tps = ['YPD', '0h', '6h', '7h','7h25', '7h5','8h25', '8h75', '9h5']\n",
    "fig = plt.figure(figsize = (3.5, 3.5))\n",
    "fig.subplots_adjust(hspace=0.7, wspace=0.5)\n",
    "for i in range(9):\n",
    "    t1 = tps[i]\n",
    "    t2 = timepoints[i]\n",
    "    \n",
    "    ax = plt.subplot(3, 3, i+1)\n",
    "    g = plt.scatter(dfgini[t1], dftelog[t1], s = 1, color = 'black', alpha = .4, linewidths = 0)\n",
    "    plt.xlabel(r'Gini$_{CDS}$')\n",
    "    plt.xlim(0.18, 0.5)\n",
    "    plt.ylim(-5, 4)\n",
    "    plt.xticks([0.2, 0.3, 0.4, 0.5])\n",
    "    plt.ylabel(r'log${_2}$TE')\n",
    "\n",
    "    dfcorr = pd.DataFrame([dfgini[t1], dftelog[t1]]).reset_index(drop=True).T.dropna()\n",
    "    corr = stats.spearmanr(dfcorr[0], dfcorr[1])[0]\n",
    "    corr_list.append(corr)\n",
    "    \n",
    "    ax.text(0.5, 0.87, t2+ '\\n' +r'$\\rho=$' + str(format(corr, '.2f')) , \n",
    "             transform=ax.transAxes, ha = 'center')\n",
    "    ax.text(0.25, 0.05, 'n='+str(dfcorr.shape[0]) , \n",
    "             transform=ax.transAxes, ha = 'center')\n",
    "    \n",
    "    ax = plt.gca()#获取边框\n",
    "    spwidth = 0.5\n",
    "    ax.spines['top'].set_linewidth(0)  \n",
    "    ax.spines['right'].set_linewidth(0) \n",
    "    ax.spines['bottom'].set_linewidth(spwidth)\n",
    "    ax.spines['left'].set_linewidth(spwidth)\n",
    "\n",
    "# plt.savefig('5_Figure/Figs2 n2 gini and te spearman corr.pdf', bbox_inches = 'tight')\n",
    "plt.show()"
   ]
  },
  {
   "cell_type": "code",
   "execution_count": 4,
   "id": "28bf6fc2",
   "metadata": {
    "ExecuteTime": {
     "end_time": "2024-08-09T19:00:39.135834Z",
     "start_time": "2024-08-09T19:00:39.122430Z"
    }
   },
   "outputs": [
    {
     "data": {
      "text/plain": [
       "TtestResult(statistic=3.03254550854868, pvalue=0.01904607753148016, df=7.0)"
      ]
     },
     "execution_count": 4,
     "metadata": {},
     "output_type": "execute_result"
    }
   ],
   "source": [
    "stats.ttest_ind(corr_list[0:3], corr_list[3:])"
   ]
  },
  {
   "cell_type": "code",
   "execution_count": 39,
   "id": "a8e3b89a",
   "metadata": {
    "ExecuteTime": {
     "end_time": "2024-08-09T19:14:03.783889Z",
     "start_time": "2024-08-09T19:14:03.777110Z"
    },
    "scrolled": false
   },
   "outputs": [],
   "source": [
    "dfcorr = pd.DataFrame(columns=['timepoint', 'corr', 'phase'])\n",
    "timepoints = ['V', 'P', 'T0', 'T1', 'T2', 'T3', 'T4', 'T5', 'T6']\n",
    "\n",
    "dfcorr['timepoint'] = timepoints\n",
    "dfcorr['corr'] = corr_list\n",
    "dfcorr['abscorr'] = np.abs(corr_list)\n",
    "dfcorr['phase'] = ['pre', 'pre', 'pre', 'division', 'division', 'division', 'division', 'division', 'division']\n",
    "# df_unit = dfcorr.groupby('phase').mean().reset_index()"
   ]
  },
  {
   "cell_type": "code",
   "execution_count": 40,
   "id": "a5d836ca",
   "metadata": {
    "ExecuteTime": {
     "end_time": "2024-08-09T19:14:06.068361Z",
     "start_time": "2024-08-09T19:14:05.669270Z"
    }
   },
   "outputs": [
    {
     "data": {
      "image/png": "[encoded data removed]",
      "text/plain": [
       "<Figure size 100x120 with 1 Axes>"
      ]
     },
     "metadata": {},
     "output_type": "display_data"
    }
   ],
   "source": [
    "plt.figure(figsize=(1, 1.2))\n",
    "meanprops={\"marker\":\"o\",\n",
    "                       \"markerfacecolor\":\"white\", \n",
    "                       \"markeredgecolor\":\"black\",\n",
    "                      \"markersize\":\"10\"}\n",
    "PROPS = {\n",
    "    'boxprops':{'facecolor':'none', 'edgecolor':'k', 'linewidth':0},\n",
    "    'medianprops':{'color':'k', 'linewidth':0},\n",
    "    'whiskerprops':{'color':'k', 'linewidth':0},\n",
    "    'capprops':{'color':'k', 'linewidth' : 0},\n",
    "    'meanprops':{\"marker\":\"_\",  \"markeredgecolor\":\"black\", \"markersize\":15}\n",
    "}\n",
    "sns.boxplot(x='phase', y='abscorr', data=dfcorr,  **PROPS, width = 0.5, showmeans=True)\n",
    "\n",
    "sns.stripplot(x='phase', y='abscorr', data=dfcorr, s = 3, hue='phase', palette=['#EA5404', '#009FDA'])\n",
    "plt.xticks([0,1], [\"V-T0\", \"T1-T6\"])\n",
    "plt.ylim(0.15, 0.7)\n",
    "plt.yticks([0.2,  0.4,  0.6], [-0.2, -0.4, -0.6])\n",
    "plt.ylabel('Spearman\\'s ρ')\n",
    "plt.xlabel('')\n",
    "\n",
    "def plot_sig(xstart,xend, yend,sig):\n",
    "    plt.hlines(yend, xstart, xend, color=\"black\", linewidth = 0.5)\n",
    "    plt.annotate(r'%s'%sig, xy=((xstart + xend)/2, yend+0.03), color=\"black\", ha='center')\n",
    "plot_sig(0, 1, 0.65, 'P = 0.019')\n",
    "\n",
    "# plt.savefig('5_Figure/Fig2-d corr change.pdf', bbox_inches = 'tight')\n",
    "plt.show()"
   ]
  },
  {
   "cell_type": "code",
   "execution_count": 9,
   "id": "00bd5da9",
   "metadata": {
    "ExecuteTime": {
     "end_time": "2024-08-12T22:09:56.055083Z",
     "start_time": "2024-08-12T22:09:56.045800Z"
    }
   },
   "outputs": [],
   "source": [
    "dfgini['TUMs'] = np.nan\n",
    "dfgini.loc[dfgini.index.isin(df[df['Meiosis_specific'] == 'yes'].index.to_list()), 'TUMs'] = 'Yes'\n",
    "\n",
    "dftelog['TUMs'] = np.nan\n",
    "dftelog.loc[dftelog.index.isin(df[df['Meiosis_specific'] == 'yes'].index.to_list()), 'TUMs'] = 'Yes'"
   ]
  },
  {
   "cell_type": "code",
   "execution_count": 4,
   "id": "bea3ce48",
   "metadata": {
    "ExecuteTime": {
     "end_time": "2024-08-12T22:08:22.841686Z",
     "start_time": "2024-08-12T22:08:22.325411Z"
    }
   },
   "outputs": [
    {
     "data": {
      "image/png": "[encoded data removed]",
      "text/plain": [
       "<Figure size 100x120 with 1 Axes>"
      ]
     },
     "metadata": {},
     "output_type": "display_data"
    }
   ],
   "source": [
    "timepoints = ['YPD', '0h', '6h', '7h', '7h25', '7h50',  '8h25', '8h75', '9h5']\n",
    "i = 0\n",
    "t1 = tps[i]\n",
    "t2 = timepoints[i]\n",
    "\n",
    "plt.figure(figsize=(1, 1.2))\n",
    "g = plt.scatter(dfgini[t1], dftelog[t1], s = 1, color = 'black', alpha = .4, linewidths = 0)\n",
    "# plt.scatter(dfgini[dfgini.TUMs != 'Yes'][t1], \n",
    "#                 dftelog[dftelog.TUMs != 'Yes'][t1], \n",
    "#                 s = 1, color = 'k', alpha = .4, linewidths = 0)\n",
    "# plt.scatter(dfgini[dfgini.TUMs == 'Yes'][t1], \n",
    "#                 dftelog[dftelog.TUMs == 'Yes'][t1], \n",
    "#                 s = 1, color = '#EA5404', alpha = .4, linewidths = 0)\n",
    "\n",
    "\n",
    "plt.xlabel(r'Gini$_{CDS}$')\n",
    "plt.xlim(0.18, 0.5)\n",
    "plt.ylim(-5, 4)\n",
    "plt.xticks([0.2, 0.3, 0.4, 0.5])\n",
    "plt.ylabel(r'log${_2}$TE')\n",
    "\n",
    "dfcorr = pd.DataFrame([dfgini[t1], dftelog[t1]]).reset_index(drop=True).T.dropna()\n",
    "corr = stats.spearmanr(dfcorr[0], dfcorr[1])[0]\n",
    "\n",
    "plt.text(0.35, 3, t2+ '\\n' +r'$\\rho=$' + str(format(corr, '.2f')) , ha = 'center')\n",
    "# ax.text(0.25, 0.05, 'n='+str(dfcorr.shape[0]) , \n",
    "#          transform=ax.transAxes, ha = 'center')\n",
    "\n",
    "ax = plt.gca()#获取边框\n",
    "spwidth = 0.5\n",
    "ax.spines['top'].set_linewidth(0)  \n",
    "ax.spines['right'].set_linewidth(0) \n",
    "ax.spines['bottom'].set_linewidth(spwidth)\n",
    "ax.spines['left'].set_linewidth(spwidth)\n",
    "# plt.savefig('5_Figure/Fig2-d Veg corr.pdf', bbox_inches = 'tight')"
   ]
  },
  {
   "cell_type": "code",
   "execution_count": 5,
   "id": "527cb476",
   "metadata": {
    "ExecuteTime": {
     "end_time": "2024-08-12T22:08:25.705248Z",
     "start_time": "2024-08-12T22:08:25.553024Z"
    }
   },
   "outputs": [
    {
     "data": {
      "image/png": "[encoded data removed]",
      "text/plain": [
       "<Figure size 100x120 with 1 Axes>"
      ]
     },
     "metadata": {},
     "output_type": "display_data"
    }
   ],
   "source": [
    "i = 3\n",
    "t1 = tps[i]\n",
    "t2 = timepoints[i]\n",
    "\n",
    "plt.figure(figsize=(1, 1.2))\n",
    "g = plt.scatter(dfgini[t1], dftelog[t1], s = 1, color = 'black', alpha = .4, linewidths = 0)\n",
    "\n",
    "# plt.scatter(dfgini[dfgini.TUMs != 'Yes'][t1], \n",
    "#                 dftelog[dftelog.TUMs != 'Yes'][t1], \n",
    "#                 s = 1, color = 'k', alpha = .4, linewidths = 0)\n",
    "# plt.scatter(dfgini[dfgini.TUMs == 'Yes'][t1], \n",
    "#                 dftelog[dftelog.TUMs == 'Yes'][t1], \n",
    "#                 s = 1, color = '#EA5404', alpha = .4, linewidths = 0)\n",
    "\n",
    "plt.xlabel(r'Gini$_{CDS}$')\n",
    "plt.xlim(0.18, 0.5)\n",
    "plt.ylim(-5, 4)\n",
    "plt.xticks([0.2, 0.3, 0.4, 0.5])\n",
    "plt.ylabel(r'log${_2}$TE')\n",
    "\n",
    "dfcorr = pd.DataFrame([dfgini[t1], dftelog[t1]]).reset_index(drop=True).T.dropna()\n",
    "corr = stats.spearmanr(dfcorr[0], dfcorr[1])[0]\n",
    "\n",
    "plt.text(0.35, 3, t2+ '\\n' +r'$\\rho=$' + str(format(corr, '.2f')) , ha = 'center')\n",
    "\n",
    "ax = plt.gca()#获取边框\n",
    "spwidth = 0.5\n",
    "ax.spines['top'].set_linewidth(0)  \n",
    "ax.spines['right'].set_linewidth(0) \n",
    "ax.spines['bottom'].set_linewidth(spwidth)\n",
    "ax.spines['left'].set_linewidth(spwidth)\n",
    "# plt.savefig('5_Figure/Fig2-d T1 corr.pdf', bbox_inches = 'tight')"
   ]
  },
  {
   "cell_type": "code",
   "execution_count": 10,
   "id": "92200a00",
   "metadata": {
    "ExecuteTime": {
     "end_time": "2024-08-12T22:10:03.075264Z",
     "start_time": "2024-08-12T22:10:03.063049Z"
    }
   },
   "outputs": [
    {
     "data": {
      "text/plain": [
       "MannwhitneyuResult(statistic=2057832.5, pvalue=0.37521653967836766)"
      ]
     },
     "execution_count": 10,
     "metadata": {},
     "output_type": "execute_result"
    }
   ],
   "source": [
    "stats.mannwhitneyu(dftelog[dftelog.TUMs == 'Yes'][t1].dropna(), \n",
    "                   dftelog[dftelog.TUMs != 'Yes'][t1].dropna())"
   ]
  },
  {
   "cell_type": "code",
   "execution_count": 11,
   "id": "c75f6c6d",
   "metadata": {
    "ExecuteTime": {
     "end_time": "2024-08-12T22:10:05.173579Z",
     "start_time": "2024-08-12T22:10:05.165889Z"
    }
   },
   "outputs": [
    {
     "data": {
      "text/plain": [
       "TtestResult(statistic=-1.5405104059097892, pvalue=0.12349664839722306, df=5216.0)"
      ]
     },
     "execution_count": 11,
     "metadata": {},
     "output_type": "execute_result"
    }
   ],
   "source": [
    "stats.ttest_ind(dftelog[dftelog.TUMs == 'Yes'][t1].dropna(), \n",
    "                dftelog[dftelog.TUMs != 'Yes'][t1].dropna())"
   ]
  },
  {
   "cell_type": "code",
   "execution_count": 15,
   "id": "ccc07e3d",
   "metadata": {
    "ExecuteTime": {
     "end_time": "2024-08-12T22:10:56.141225Z",
     "start_time": "2024-08-12T22:10:56.135311Z"
    }
   },
   "outputs": [
    {
     "data": {
      "text/plain": [
       "Index(['YPD', '0h', '6h', '7h', '7h25', '7h5', '8h25', '8h75', '9h5', 'TUMs'], dtype='object')"
      ]
     },
     "execution_count": 15,
     "metadata": {},
     "output_type": "execute_result"
    }
   ],
   "source": [
    "dftelog.columns"
   ]
  },
  {
   "cell_type": "code",
   "execution_count": 56,
   "id": "4e51b8a1",
   "metadata": {
    "ExecuteTime": {
     "end_time": "2024-08-12T22:52:36.730052Z",
     "start_time": "2024-08-12T22:52:36.718839Z"
    }
   },
   "outputs": [
    {
     "data": {
      "text/plain": [
       "TtestResult(statistic=-5.435152383410092, pvalue=6.827292903732273e-08, df=1035.0)"
      ]
     },
     "execution_count": 56,
     "metadata": {},
     "output_type": "execute_result"
    }
   ],
   "source": [
    "stats.ttest_ind(dftelog.loc[dfgini[dfgini.TUMs == 'Yes'][t].dropna().index.to_list(), t].dropna(), \n",
    "                dftelog.loc[dfgini[dfgini.TUMs != 'Yes'][t].dropna().index.to_list(), t].dropna())"
   ]
  },
  {
   "cell_type": "code",
   "execution_count": 55,
   "id": "504fa6c2",
   "metadata": {
    "ExecuteTime": {
     "end_time": "2024-08-12T22:52:34.479823Z",
     "start_time": "2024-08-12T22:52:34.471449Z"
    }
   },
   "outputs": [
    {
     "data": {
      "text/plain": [
       "1.1334877400275163"
      ]
     },
     "execution_count": 55,
     "metadata": {},
     "output_type": "execute_result"
    }
   ],
   "source": [
    "2**(dftelog.loc[dfgini[dfgini.TUMs == 'Yes'][t].dropna().index.to_list(), t].dropna().median())"
   ]
  },
  {
   "cell_type": "code",
   "execution_count": 54,
   "id": "fda6666e",
   "metadata": {
    "ExecuteTime": {
     "end_time": "2024-08-12T22:52:32.845280Z",
     "start_time": "2024-08-12T22:52:32.831027Z"
    }
   },
   "outputs": [
    {
     "data": {
      "text/plain": [
       "1.4085588104402131"
      ]
     },
     "execution_count": 54,
     "metadata": {},
     "output_type": "execute_result"
    }
   ],
   "source": [
    "2**(dftelog.loc[dfgini[dfgini.TUMs != 'Yes'][t].dropna().index.to_list(), t].dropna().median())"
   ]
  },
  {
   "cell_type": "markdown",
   "id": "7f51260c",
   "metadata": {},
   "source": [
    "# Fig3 translation timing and RNA structure"
   ]
  },
  {
   "cell_type": "markdown",
   "id": "c04d13b0",
   "metadata": {},
   "source": [
    "## GO analysis"
   ]
  },
  {
   "cell_type": "code",
   "execution_count": 9,
   "id": "df8c5ffd",
   "metadata": {
    "ExecuteTime": {
     "end_time": "2024-08-13T03:27:19.133408Z",
     "start_time": "2024-08-13T03:27:13.952335Z"
    }
   },
   "outputs": [],
   "source": [
    "df = pd.read_excel('3_Table/Summary_RNA_Gini_MS.xlsx', index_col='GENE_ID')"
   ]
  },
  {
   "cell_type": "code",
   "execution_count": 11,
   "id": "4b34f668",
   "metadata": {
    "ExecuteTime": {
     "end_time": "2024-08-13T03:28:37.707084Z",
     "start_time": "2024-08-13T03:28:37.696784Z"
    }
   },
   "outputs": [
    {
     "name": "stdout",
     "output_type": "stream",
     "text": [
      "(324, 2) (325, 2) (324, 2)\n"
     ]
    }
   ],
   "source": [
    "dfm = df[df['Meiosis_specific'] == 'yes'].sort_values('Merged_Gene_gini', ascending=False)[['GENE_name', 'Merged_Gene_gini']].dropna()\n",
    "n = round(dfm.shape[0]/3)\n",
    "dftop13 = dfm.head(n)\n",
    "dfbot13 = dfm.tail(n)\n",
    "dfmod13 = dfm.loc[~dfm.index.isin(dftop13.index.to_list() +  dfbot13.index.to_list())]\n",
    "print(dftop13.shape, dfmod13.shape, dfbot13.shape)\n",
    "# with open('3_Table/complex_gene.csv', 'w') as f1:\n",
    "#     f1.write('\\n'.join(dftop13.index.to_list()))\n",
    "\n",
    "# with open('3_Table/simple_gene.csv', 'w') as f1:\n",
    "#     f1.write('\\n'.join(dfbot13.index.to_list()))\n",
    "    \n",
    "# with open('3_Table/moderate_gene.csv', 'w') as f1:\n",
    "#     f1.write('\\n'.join(dfmod13.index.to_list()))\n",
    "\n",
    "# SDG gene list analysis\n",
    "# dftop13 = pd.read_table('3_Table/complex gene go_enrichment_for_gene.tsv', header=None)\n",
    "# dftop13['geneNub'] = [len(i.split(',')) for i in dftop13[2]]\n",
    "# dftop13.to_excel('3_Table/complex gene go_enrichment_for_gene.xlsx')\n",
    "\n",
    "# dftop13 = pd.read_table('3_Table/simple gene go_enrichment_for_gene.tsv', header=None)\n",
    "# dftop13['geneNub'] = [len(i.split(',')) for i in dftop13[2]]\n",
    "# dftop13.to_excel('3_Table/simple gene go_enrichment_for_gene.xlsx')\n",
    "\n",
    "# dftop13 = pd.read_table('3_Table/moderate gene go_enrichment_for_gene.tsv', header=None)\n",
    "# dftop13['geneNub'] = [len(i.split(',')) for i in dftop13[2]]\n",
    "# dftop13.to_excel('3_Table/moderate gene go_enrichment_for_gene.xlsx')"
   ]
  },
  {
   "cell_type": "code",
   "execution_count": 59,
   "id": "4b5cef9f",
   "metadata": {
    "ExecuteTime": {
     "end_time": "2024-08-13T03:27:30.945619Z",
     "start_time": "2024-08-13T03:27:30.537344Z"
    }
   },
   "outputs": [
    {
     "data": {
      "image/png": "[encoded data removed]",
      "text/plain": [
       "<Figure size 240x80 with 1 Axes>"
      ]
     },
     "metadata": {},
     "output_type": "display_data"
    }
   ],
   "source": [
    "data = dfm['Merged_Gene_gini']\n",
    "\n",
    "plt.figure(figsize=(2.4, 0.8))\n",
    "# Computing the quantiles\n",
    "q1, q2 = np.quantile(data, [1/3, 2/3])\n",
    "\n",
    "# Separating data into groups based on quantiles\n",
    "group1 = data[data <= q1]\n",
    "group2 = data[(data > q1) & (data <= q2)]\n",
    "group3 = data[data > q2]\n",
    "\n",
    "# Determine the bin edges for the entire dataset\n",
    "bins = np.histogram_bin_edges(data, bins=100)\n",
    "\n",
    "# Creating the stacked histogram\n",
    "plt.hist([group1, group2, group3], bins=bins, stacked=True, \n",
    "         color=['#A1C8F4', '#FFC450', '#FF9E9A'], \n",
    "         label=['Simple', 'Moderate', 'Complex'])\n",
    "\n",
    "# Adding labels and title\n",
    "plt.xlabel('Gini')\n",
    "plt.ylabel('Count')\n",
    "plt.title('Meiosis-specific')\n",
    "plt.xlim(0.22, 0.55)\n",
    "plt.ylim(0, 60)\n",
    "plt.legend()\n",
    "\n",
    "# Display the histogram\n",
    "# plt.savefig('5_Figure/fig3-a_distribution.pdf',  bbox_inches = 'tight')\n",
    "plt.show()"
   ]
  },
  {
   "cell_type": "code",
   "execution_count": 60,
   "id": "aaff4b8d",
   "metadata": {
    "ExecuteTime": {
     "end_time": "2024-08-13T03:27:54.762371Z",
     "start_time": "2024-08-13T03:27:54.684317Z"
    }
   },
   "outputs": [],
   "source": [
    "dftop13 = pd.read_excel('3_Table/complex gene go_enrichment_for_gene.xlsx', index_col=0)\n",
    "dftop13.columns = ['Term', 'Adjusted P-value', 'Genes', 'GO', 'geneNub']\n",
    "dftop13 = dftop13.reset_index(drop = True)\n",
    "\n",
    "dfbot13 = pd.read_excel('3_Table/simple gene go_enrichment_for_gene.xlsx', index_col=0)\n",
    "dfbot13.columns = ['Term', 'Adjusted P-value', 'Genes', 'GO', 'geneNub']\n",
    "dfbot13 = dfbot13.reset_index(drop = True)\n",
    "\n",
    "dfmod13 = pd.read_excel('3_Table/moderate gene go_enrichment_for_gene.xlsx', index_col=0)\n",
    "dfmod13.columns = ['Term', 'Adjusted P-value', 'Genes', 'GO', 'geneNub']\n",
    "dfmod13 = dfmod13.reset_index(drop = True)\n",
    "\n",
    "dfgo = pd.concat([dfbot13, dfmod13, dftop13]).reset_index(drop = True)\n",
    "dfgo['-log10(P-value)'] = -np.log10(dfgo['Adjusted P-value'])"
   ]
  },
  {
   "cell_type": "code",
   "execution_count": 253,
   "id": "77627a8f",
   "metadata": {
    "ExecuteTime": {
     "end_time": "2023-11-23T05:56:34.443062Z",
     "start_time": "2023-11-23T05:56:34.138623Z"
    }
   },
   "outputs": [
    {
     "data": {
      "image/png": "[encoded data removed]",
      "text/plain": [
       "<Figure size 72x144 with 1 Axes>"
      ]
     },
     "metadata": {
      "needs_background": "light"
     },
     "output_type": "display_data"
    }
   ],
   "source": [
    "colors = ['#A1C8F4'] * 4 + [\"#FFC450\"] * 6 + ['#FF9E9A'] * 3\n",
    "# Creating the plot\n",
    "fig, ax = plt.subplots(figsize=(1, 2))\n",
    "sc = ax.scatter(dfgo['-log10(P-value)'], -dfgo.index, s= np.sqrt(dfgo['geneNub'])*5, \n",
    "                c=colors, edgecolors='none')\n",
    "\n",
    "# Creating invisible scatter plots for legend\n",
    "for i,j in zip([(np.sqrt(10)*5), (np.sqrt(30)*5), (np.sqrt(50)*5)], [10, 30, 50]):  # Change these values based on your data\n",
    "    ax.scatter([], [], s = i, c='grey', label=str(j))\n",
    "\n",
    "# Creating the legend for dot sizes\n",
    "ax.legend(loc = (0.5, 0.1) , scatterpoints=1, frameon=False, labelspacing=0.5, title='Count')\n",
    "\n",
    "# Adjusting color bar size\n",
    "# cbar = plt.colorbar(sc, aspect=4, fraction=0.08, pad=0.1)\n",
    "# cbar.ax.tick_params(labelsize=7) # Adjust fontsize of color bar labels\n",
    "\n",
    "# Setting x-axis tick labels with 90-degree rotation\n",
    "ax.set_yticks(-dfgo.index)\n",
    "ax.set_yticklabels(dfgo['Term'], fontsize = 6)\n",
    "ax.set_xticks([0, 10, 20])\n",
    "\n",
    "# Additional customizations\n",
    "ax.set_ylabel('GO Term')\n",
    "ax.set_xlabel('-log10(P-value)')\n",
    "\n",
    "ax.set_xlim(-1, 10)\n",
    "ax.set_ylim(-12.8, 0.8)\n",
    "# ax.set_title('GO Enrichment Dot Plot')\n",
    "plt.savefig('5_Figure/fig3-a_-GO enrichment.pdf',  bbox_inches = 'tight')\n",
    "plt.show()"
   ]
  },
  {
   "cell_type": "markdown",
   "id": "45b210cc",
   "metadata": {},
   "source": [
    "## RNA structure diff ( peotein & ribo cluster)"
   ]
  },
  {
   "cell_type": "code",
   "execution_count": null,
   "id": "508a09f9",
   "metadata": {},
   "outputs": [],
   "source": [
    "df = pd.read_excel('3_Table/Summary_RNA_Gini_MS.xlsx', index_col='GENE_ID')"
   ]
  },
  {
   "cell_type": "code",
   "execution_count": 13,
   "id": "4015f8b7",
   "metadata": {},
   "outputs": [
    {
     "name": "stdout",
     "output_type": "stream",
     "text": [
      "(192,) (223,) (104,)\n"
     ]
    }
   ],
   "source": [
    "print(df.loc[df.Protein_cluster == 'protein1', 'Merged_Gene_gini'].dropna().shape,\\\n",
    "    df.loc[df.Protein_cluster == 'protein2', 'Merged_Gene_gini'].dropna().shape,\\\n",
    "        df.loc[df.Protein_cluster == 'protein3', 'Merged_Gene_gini'].dropna().shape)"
   ]
  },
  {
   "cell_type": "code",
   "execution_count": 13,
   "id": "ac9da0b2",
   "metadata": {
    "ExecuteTime": {
     "end_time": "2024-01-01T01:33:37.535011Z",
     "start_time": "2024-01-01T01:33:37.526020Z"
    }
   },
   "outputs": [
    {
     "name": "stdout",
     "output_type": "stream",
     "text": [
      "MannwhitneyuResult(statistic=26779.0, pvalue=1.0426090531581877e-05)\n",
      "MannwhitneyuResult(statistic=7914.0, pvalue=3.765726797209107e-06)\n"
     ]
    }
   ],
   "source": [
    "print(stats.mannwhitneyu(df.loc[df.Protein_cluster == 'protein1', 'Merged_Gene_gini'].dropna(),\n",
    "                   df.loc[df.Protein_cluster == 'protein2', 'Merged_Gene_gini'].dropna()))\n",
    "print(stats.mannwhitneyu(df.loc[df.Protein_cluster == 'protein2', 'Merged_Gene_gini'].dropna(),\n",
    "                   df.loc[df.Protein_cluster == 'protein3', 'Merged_Gene_gini'].dropna()))"
   ]
  },
  {
   "cell_type": "code",
   "execution_count": 17,
   "id": "f0d14008",
   "metadata": {
    "ExecuteTime": {
     "end_time": "2024-01-01T01:35:00.702380Z",
     "start_time": "2024-01-01T01:35:00.476075Z"
    }
   },
   "outputs": [
    {
     "data": {
      "image/png": "[encoded data removed]",
      "text/plain": [
       "<Figure size 50.4x86.4 with 1 Axes>"
      ]
     },
     "metadata": {
      "needs_background": "light"
     },
     "output_type": "display_data"
    }
   ],
   "source": [
    "# mpl.rcParams['figure.figsize'] = [1, 0.8]\n",
    "plt.figure(figsize = (0.7 , 1.2))\n",
    "PROPS = {\n",
    "    'boxprops':{'facecolor':'none', 'edgecolor':'k', 'linewidth':'0.5'},\n",
    "    'medianprops':{'color':'k', 'linewidth':'1'},\n",
    "    'whiskerprops':{'color':'k', 'linewidth':'0.5'},\n",
    "    'capprops':{'color':'k', 'linewidth' :0}\n",
    "}\n",
    "\n",
    "sns.boxplot(x = 'Protein_cluster',y = 'Merged_Gene_gini', data=df, \n",
    "            width=0.35, showfliers = False, **PROPS, order = ['protein1', 'protein2', 'protein3'])\n",
    "\n",
    "ax = plt.gca()\n",
    "ax.spines['top'].set_linewidth(0)  \n",
    "ax.spines['right'].set_linewidth(0) \n",
    "ax.grid(False)\n",
    "\n",
    "plt.xticks([0,1,2], ['1', '2', '3'])\n",
    "plt.yticks([0.2, 0.3, 0.4, 0.5])\n",
    "plt.ylim(0.2, 0.5)\n",
    "# plt.xlim(-0.8, 2.5)\n",
    "\n",
    "plt.ylabel('Gini')\n",
    "\n",
    "plt.xlabel('Protein Cluster')\n",
    "\n",
    "\n",
    "def plot_sig(xstart,xend, yend, sig):\n",
    "    plt.hlines(yend, xstart, xend, color=\"black\", linewidth = 0.5)\n",
    "    plt.annotate(r'%s'%sig, xy=((xstart + xend)/2, yend+0.01), color=\"black\", ha='center')\n",
    "\n",
    "plot_sig(0, 1, 0.42, 'P < 10-4')\n",
    "\n",
    "plot_sig(1, 2, 0.47, 'P < 10-5')\n",
    "plt.savefig('5_Figure/fig3-c_boxplot_proteinCluster_gini_distribution.pdf',  bbox_inches = 'tight')\n",
    "plt.show()"
   ]
  },
  {
   "cell_type": "code",
   "execution_count": 14,
   "id": "f1bbe4bf",
   "metadata": {},
   "outputs": [
    {
     "name": "stdout",
     "output_type": "stream",
     "text": [
      "(930,) (268,) (188,)\n"
     ]
    }
   ],
   "source": [
    "print(df.loc[df.Ribo_cluster == 'ribo1', 'Merged_Gene_gini'].dropna().shape,\\\n",
    "    df.loc[df.Ribo_cluster == 'ribo2', 'Merged_Gene_gini'].dropna().shape,\\\n",
    "        df.loc[df.Ribo_cluster == 'ribo3', 'Merged_Gene_gini'].dropna().shape)"
   ]
  },
  {
   "cell_type": "code",
   "execution_count": 18,
   "id": "b6938158",
   "metadata": {
    "ExecuteTime": {
     "end_time": "2024-01-01T01:35:03.150950Z",
     "start_time": "2024-01-01T01:35:03.133281Z"
    }
   },
   "outputs": [
    {
     "name": "stdout",
     "output_type": "stream",
     "text": [
      "MannwhitneyuResult(statistic=150832.0, pvalue=1.5006843346572338e-07)\n",
      "MannwhitneyuResult(statistic=15410.0, pvalue=1.6481700135657936e-12)\n"
     ]
    }
   ],
   "source": [
    "print(stats.mannwhitneyu(df.loc[df.Ribo_cluster == 'ribo1', 'Merged_Gene_gini'].dropna(),\n",
    "                   df.loc[df.Ribo_cluster == 'ribo2', 'Merged_Gene_gini'].dropna()))\n",
    "print(stats.mannwhitneyu(df.loc[df.Ribo_cluster == 'ribo2', 'Merged_Gene_gini'].dropna(),\n",
    "                   df.loc[df.Ribo_cluster == 'ribo3', 'Merged_Gene_gini'].dropna()))"
   ]
  },
  {
   "cell_type": "code",
   "execution_count": 20,
   "id": "73ac3364",
   "metadata": {
    "ExecuteTime": {
     "end_time": "2024-01-01T01:35:16.821665Z",
     "start_time": "2024-01-01T01:35:16.652439Z"
    }
   },
   "outputs": [
    {
     "data": {
      "image/png": "[encoded data removed]",
      "text/plain": [
       "<Figure size 50.4x86.4 with 1 Axes>"
      ]
     },
     "metadata": {
      "needs_background": "light"
     },
     "output_type": "display_data"
    }
   ],
   "source": [
    "# mpl.rcParams['figure.figsize'] = [1, 0.8]\n",
    "plt.figure(figsize = (0.7 , 1.2))\n",
    "PROPS = {\n",
    "    'boxprops':{'facecolor':'none', 'edgecolor':'k', 'linewidth':'0.5'},\n",
    "    'medianprops':{'color':'k', 'linewidth':'1'},\n",
    "    'whiskerprops':{'color':'k', 'linewidth':'0.5'},\n",
    "    'capprops':{'color':'k', 'linewidth' :0}\n",
    "}\n",
    "\n",
    "sns.boxplot(x = 'Ribo_cluster',y = 'Merged_Gene_gini', data=df, \n",
    "            width=0.35, showfliers = False, **PROPS, order = ['ribo1', 'ribo2', 'ribo3'])\n",
    "\n",
    "ax = plt.gca()\n",
    "ax.spines['top'].set_linewidth(0)  \n",
    "ax.spines['right'].set_linewidth(0) \n",
    "ax.grid(False)\n",
    "\n",
    "plt.xticks([0,1,2], ['1', '2', '3'])\n",
    "plt.yticks([0.2, 0.3, 0.4, 0.5])\n",
    "plt.ylim(0.2, 0.5)\n",
    "# plt.xlim(-0.8, 2.5)\n",
    "\n",
    "plt.ylabel('Gini')\n",
    "\n",
    "plt.xlabel('Ribo Cluster')\n",
    "\n",
    "\n",
    "def plot_sig(xstart,xend, yend, sig):\n",
    "    plt.hlines(yend, xstart, xend, color=\"black\", linewidth = 0.5)\n",
    "    plt.annotate(r'%s'%sig, xy=((xstart + xend)/2, yend+0.01), color=\"black\", ha='center')\n",
    "\n",
    "plot_sig(0, 1, 0.42, 'P < 10-6')\n",
    "\n",
    "plot_sig(1, 2, 0.47, 'P < 10-11')\n",
    "plt.savefig('5_Figure/fig3-c_boxplot_riboCluster_gini_distribution.pdf',  bbox_inches = 'tight')\n",
    "plt.show()"
   ]
  },
  {
   "cell_type": "code",
   "execution_count": 23,
   "id": "47b91e83",
   "metadata": {
    "ExecuteTime": {
     "end_time": "2024-01-01T05:33:19.644493Z",
     "start_time": "2024-01-01T05:33:19.630957Z"
    }
   },
   "outputs": [
    {
     "data": {
      "text/html": [
       "<div>\n",
       "<style scoped>\n",
       "    .dataframe tbody tr th:only-of-type {\n",
       "        vertical-align: middle;\n",
       "    }\n",
       "\n",
       "    .dataframe tbody tr th {\n",
       "        vertical-align: top;\n",
       "    }\n",
       "\n",
       "    .dataframe thead th {\n",
       "        text-align: right;\n",
       "    }\n",
       "</style>\n",
       "<table border=\"1\" class=\"dataframe\">\n",
       "  <thead>\n",
       "    <tr style=\"text-align: right;\">\n",
       "      <th>Ribo_cluster</th>\n",
       "      <th>ribo1</th>\n",
       "      <th>ribo2</th>\n",
       "      <th>ribo3</th>\n",
       "    </tr>\n",
       "    <tr>\n",
       "      <th>Protein_cluster</th>\n",
       "      <th></th>\n",
       "      <th></th>\n",
       "      <th></th>\n",
       "    </tr>\n",
       "  </thead>\n",
       "  <tbody>\n",
       "    <tr>\n",
       "      <th>protein1</th>\n",
       "      <td>102.0</td>\n",
       "      <td>6.0</td>\n",
       "      <td>5.0</td>\n",
       "    </tr>\n",
       "    <tr>\n",
       "      <th>protein2</th>\n",
       "      <td>7.0</td>\n",
       "      <td>133.0</td>\n",
       "      <td>9.0</td>\n",
       "    </tr>\n",
       "    <tr>\n",
       "      <th>protein3</th>\n",
       "      <td>9.0</td>\n",
       "      <td>13.0</td>\n",
       "      <td>31.0</td>\n",
       "    </tr>\n",
       "  </tbody>\n",
       "</table>\n",
       "</div>"
      ],
      "text/plain": [
       "Ribo_cluster     ribo1  ribo2  ribo3\n",
       "Protein_cluster                     \n",
       "protein1         102.0    6.0    5.0\n",
       "protein2           7.0  133.0    9.0\n",
       "protein3           9.0   13.0   31.0"
      ]
     },
     "execution_count": 23,
     "metadata": {},
     "output_type": "execute_result"
    }
   ],
   "source": [
    "dfRibo_Protein = pd.DataFrame(df.groupby(['Protein_cluster', 'Ribo_cluster']).size()).reset_index().pivot(columns='Ribo_cluster', index = 'Protein_cluster')\n",
    "dfRibo_Protein = dfRibo_Protein.loc[['protein1', 'protein2', 'protein3']]\n",
    "dfRibo_Protein.columns = dfRibo_Protein.columns.droplevel(0)\n",
    "dfRibo_Protein"
   ]
  },
  {
   "cell_type": "code",
   "execution_count": 315,
   "id": "90797b82",
   "metadata": {
    "ExecuteTime": {
     "end_time": "2023-11-24T03:28:23.691139Z",
     "start_time": "2023-11-24T03:28:23.675476Z"
    },
    "scrolled": true
   },
   "outputs": [],
   "source": [
    "dfRibo_Protein.to_csv('3_Table/Ribo_Protein_cluster_overlap.csv')"
   ]
  },
  {
   "cell_type": "code",
   "execution_count": null,
   "id": "c01121c1",
   "metadata": {},
   "outputs": [],
   "source": [
    "# Pritein and ribo cluster overlap\n",
    "# %R\n",
    "# setwd(\"E:/Data/Yeast/3_Table/chord plot\")\n",
    "# library(circlize)\n",
    "# df = read.csv('Ribo_Protein_cluster_overlap.csv', row.names = 'Protein_cluster')\n",
    "# df = as.matrix(df)\n",
    "# df = df[c(\"protein3\", \"protein2\", \"protein1\"),]\n",
    "\n",
    "# circos.clear()\n",
    "# circos.par(start.degree = -15, gap.degree = c(10,10,30,10,10,30)) \n",
    "# colors <- c(ribo1 = \"#C6C4FC\", ribo2 = \"#EBEF6D\", ribo3 = \"#F09E5A\", protein3 = \"#F09E5A\", protein2 = \"#EBEF6D\", protein1 = \"#C6C4FC\")\n",
    "\n",
    "# chordDiagram(df, grid.col = colors, annotationTrack = c(\"name\", \"grid\"), annotationTrackHeight  = c(0.03, 0.1))\n",
    "\n",
    "# # add x xias \n",
    "# for(si in get.all.sector.index()) {\n",
    "#     circos.axis(h = \"top\", labels = FALSE, major.tick = FALSE, sector.index = si, track.index = 2, lwd =2)\n",
    "# }\n",
    "\n",
    "# abline(h = 0, lty = 2, col = \"gray\", lwd = 2)\n",
    "# circos.clear()\n"
   ]
  },
  {
   "cell_type": "markdown",
   "id": "71ed158f",
   "metadata": {},
   "source": [
    "## UTR and ORF account for translation regulation"
   ]
  },
  {
   "cell_type": "code",
   "execution_count": null,
   "id": "dd688fdb",
   "metadata": {},
   "outputs": [],
   "source": [
    "df = pd.read_excel('3_Table/Summary_RNA_Gini_MS.xlsx', index_col='GENE_ID')"
   ]
  },
  {
   "cell_type": "markdown",
   "id": "96d7bc73",
   "metadata": {},
   "source": [
    "### ORF"
   ]
  },
  {
   "cell_type": "code",
   "execution_count": 21,
   "id": "29a4efe8",
   "metadata": {},
   "outputs": [
    {
     "name": "stdout",
     "output_type": "stream",
     "text": [
      "MannwhitneyuResult(statistic=152221.0, pvalue=3.1874686592124184e-08) \n",
      " MannwhitneyuResult(statistic=16276.0, pvalue=1.2247321318086586e-10) \n",
      " MannwhitneyuResult(statistic=75640.0, pvalue=0.0035306881036353157)\n"
     ]
    }
   ],
   "source": [
    "col = 'Merged_ORF_gini'\n",
    "dfplot = df\n",
    "print(stats.mannwhitneyu(dfplot.loc[dfplot.Ribo_cluster == 'ribo1', col].dropna(),\n",
    "                        dfplot.loc[dfplot.Ribo_cluster == 'ribo2', col].dropna()),'\\n', \n",
    "     stats.mannwhitneyu(dfplot.loc[dfplot.Ribo_cluster == 'ribo2', col].dropna(), \n",
    "                        dfplot.loc[dfplot.Ribo_cluster == 'ribo3', col].dropna()),'\\n', \n",
    "     stats.mannwhitneyu(dfplot.loc[dfplot.Ribo_cluster == 'ribo1', col].dropna(), \n",
    "                        dfplot.loc[dfplot.Ribo_cluster == 'ribo3', col].dropna()),)"
   ]
  },
  {
   "cell_type": "code",
   "execution_count": 22,
   "id": "3a1b99a9",
   "metadata": {},
   "outputs": [
    {
     "name": "stdout",
     "output_type": "stream",
     "text": [
      "(930,) (268,) (188,)\n"
     ]
    }
   ],
   "source": [
    "print(dfplot.loc[dfplot.Ribo_cluster == 'ribo1', col].dropna().shape,\\\n",
    "    dfplot.loc[dfplot.Ribo_cluster == 'ribo2', col].dropna().shape,\\\n",
    "        dfplot.loc[dfplot.Ribo_cluster == 'ribo3', col].dropna().shape)"
   ]
  },
  {
   "cell_type": "code",
   "execution_count": 69,
   "id": "658d2c29",
   "metadata": {
    "ExecuteTime": {
     "end_time": "2024-01-01T07:04:52.537557Z",
     "start_time": "2024-01-01T07:04:52.510184Z"
    }
   },
   "outputs": [
    {
     "name": "stdout",
     "output_type": "stream",
     "text": [
      "MannwhitneyuResult(statistic=152221.0, pvalue=3.1874686592124184e-08) \n",
      " MannwhitneyuResult(statistic=16276.0, pvalue=1.224732131808659e-10) \n",
      " MannwhitneyuResult(statistic=75640.0, pvalue=0.003530688103635316)\n"
     ]
    }
   ],
   "source": [
    "col = 'Merged_ORF_gini'\n",
    "print(stats.mannwhitneyu(df.loc[df.Ribo_cluster == 'ribo1', col].dropna(),\n",
    "                        df.loc[df.Ribo_cluster == 'ribo2', col].dropna()),'\\n', \n",
    "     stats.mannwhitneyu(df.loc[df.Ribo_cluster == 'ribo2', col].dropna(), \n",
    "                        df.loc[df.Ribo_cluster == 'ribo3', col].dropna()),'\\n', \n",
    "     stats.mannwhitneyu(df.loc[df.Ribo_cluster == 'ribo1', col].dropna(), \n",
    "                        df.loc[df.Ribo_cluster == 'ribo3', col].dropna()),)"
   ]
  },
  {
   "cell_type": "code",
   "execution_count": 103,
   "id": "721ed8a2",
   "metadata": {
    "ExecuteTime": {
     "end_time": "2024-01-01T07:35:37.035215Z",
     "start_time": "2024-01-01T07:35:36.871200Z"
    }
   },
   "outputs": [
    {
     "data": {
      "image/png": "[encoded data removed]",
      "text/plain": [
       "<Figure size 50.4x86.4 with 1 Axes>"
      ]
     },
     "metadata": {
      "needs_background": "light"
     },
     "output_type": "display_data"
    }
   ],
   "source": [
    "col = 'Merged_ORF_gini'\n",
    "plt.figure(figsize = (0.7 , 1.2))\n",
    "PROPS = {\n",
    "    'boxprops':{'facecolor':'none', 'edgecolor':'k', 'linewidth':'0.5'},\n",
    "    'medianprops':{'color':'k', 'linewidth':'1'},\n",
    "    'whiskerprops':{'color':'k', 'linewidth':'0.5'},\n",
    "    'capprops':{'color':'k', 'linewidth' :0}\n",
    "}\n",
    "\n",
    "sns.boxplot(x = 'Ribo_cluster',y = col, data=df, \n",
    "            width=0.35, showfliers = False, **PROPS, order = ['ribo1', 'ribo2', 'ribo3'])\n",
    "\n",
    "ax = plt.gca()\n",
    "ax.spines['top'].set_linewidth(0)  \n",
    "ax.spines['right'].set_linewidth(0) \n",
    "ax.grid(False)\n",
    "\n",
    "plt.xticks([0,1,2], ['1', '2', '3'])\n",
    "plt.yticks([0.2, 0.3, 0.4, 0.5])\n",
    "# plt.ylim(0.17, 0.55)\n",
    "plt.ylim(0.15, 0.6)\n",
    "# plt.ylim(0.2, 0.5)\n",
    "\n",
    "# plt.xlim(-0.8, 2.5)\n",
    "\n",
    "plt.ylabel('Gini')\n",
    "plt.xlabel('ORF')\n",
    "\n",
    "def plot_sig(xstart,xend, yend, sig):\n",
    "    plt.hlines(yend, xstart, xend, color=\"black\", linewidth = 0.5)\n",
    "    plt.annotate(r'%s'%sig, xy=((xstart + xend)/2, yend+0.01), color=\"black\", ha='center')\n",
    "\n",
    "plot_sig(0, 1, 0.45, 'P < 10-7')\n",
    "plot_sig(1, 2, 0.53, 'P < 10-9')\n",
    "plt.savefig('5_Figure/fig3_boxplot_riboCluster_ORFgini_distribution.pdf',  bbox_inches = 'tight')\n",
    "plt.show()"
   ]
  },
  {
   "cell_type": "markdown",
   "id": "2d28d257",
   "metadata": {},
   "source": [
    "### 5UTR"
   ]
  },
  {
   "cell_type": "code",
   "execution_count": 16,
   "id": "9f2fa7a4",
   "metadata": {
    "ExecuteTime": {
     "end_time": "2024-01-01T07:09:35.073039Z",
     "start_time": "2024-01-01T07:09:35.059842Z"
    }
   },
   "outputs": [
    {
     "name": "stdout",
     "output_type": "stream",
     "text": [
      "MannwhitneyuResult(statistic=31648.0, pvalue=0.4600640350212113) \n",
      " MannwhitneyuResult(statistic=9292.0, pvalue=0.014632907706367037) \n",
      " MannwhitneyuResult(statistic=17754.0, pvalue=0.0647563377459966)\n"
     ]
    }
   ],
   "source": [
    "col = 'Merged_5utr_gini'\n",
    "dfplot = df[df['Merged_5utr_AC350'] >= 20]\n",
    "print(stats.mannwhitneyu(dfplot.loc[dfplot.Ribo_cluster == 'ribo1', col].dropna(),\n",
    "                        dfplot.loc[dfplot.Ribo_cluster == 'ribo2', col].dropna()),'\\n', \n",
    "     stats.mannwhitneyu(dfplot.loc[dfplot.Ribo_cluster == 'ribo2', col].dropna(), \n",
    "                        dfplot.loc[dfplot.Ribo_cluster == 'ribo3', col].dropna()),'\\n', \n",
    "     stats.mannwhitneyu(dfplot.loc[dfplot.Ribo_cluster == 'ribo1', col].dropna(), \n",
    "                        dfplot.loc[dfplot.Ribo_cluster == 'ribo3', col].dropna()),)"
   ]
  },
  {
   "cell_type": "code",
   "execution_count": 18,
   "id": "960fe9ac",
   "metadata": {},
   "outputs": [
    {
     "name": "stdout",
     "output_type": "stream",
     "text": [
      "(331,) (184,) (121,)\n"
     ]
    }
   ],
   "source": [
    "print(dfplot.loc[dfplot.Ribo_cluster == 'ribo1', col].dropna().shape,\\\n",
    "    dfplot.loc[dfplot.Ribo_cluster == 'ribo2', col].dropna().shape,\\\n",
    "        dfplot.loc[dfplot.Ribo_cluster == 'ribo3', col].dropna().shape)"
   ]
  },
  {
   "cell_type": "code",
   "execution_count": 90,
   "id": "6b72aca4",
   "metadata": {
    "ExecuteTime": {
     "end_time": "2024-01-01T07:15:23.312026Z",
     "start_time": "2024-01-01T07:15:23.143327Z"
    }
   },
   "outputs": [
    {
     "data": {
      "image/png": "[encoded data removed]",
      "text/plain": [
       "<Figure size 50.4x86.4 with 1 Axes>"
      ]
     },
     "metadata": {
      "needs_background": "light"
     },
     "output_type": "display_data"
    }
   ],
   "source": [
    "col = 'Merged_5utr_gini'\n",
    "plt.figure(figsize = (0.7 , 1.2))\n",
    "PROPS = {\n",
    "    'boxprops':{'facecolor':'none', 'edgecolor':'k', 'linewidth':'0.5'},\n",
    "    'medianprops':{'color':'k', 'linewidth':'1'},\n",
    "    'whiskerprops':{'color':'k', 'linewidth':'0.5'},\n",
    "    'capprops':{'color':'k', 'linewidth' :0}\n",
    "}\n",
    "\n",
    "sns.boxplot(x = 'Ribo_cluster',y = col, data=df[df['Merged_5utr_AC350'] >= 20], \n",
    "            width=0.35, showfliers = False, **PROPS, order = ['ribo1', 'ribo2', 'ribo3'])\n",
    "\n",
    "ax = plt.gca()\n",
    "ax.spines['top'].set_linewidth(0)  \n",
    "ax.spines['right'].set_linewidth(0) \n",
    "ax.grid(False)\n",
    "\n",
    "plt.xticks([0,1,2], ['1', '2', '3'])\n",
    "plt.yticks([0.2, 0.3, 0.4, 0.5, 0.6])\n",
    "plt.ylim(0.15, 0.6)\n",
    "# plt.xlim(-0.8, 2.5)\n",
    "\n",
    "plt.ylabel('Gini')\n",
    "plt.xlabel('5UTR')\n",
    "\n",
    "def plot_sig(xstart,xend, yend, sig):\n",
    "    plt.hlines(yend, xstart, xend, color=\"black\", linewidth = 0.5)\n",
    "    plt.annotate(r'%s'%sig, xy=((xstart + xend)/2, yend+0.01), color=\"black\", ha='center')\n",
    "\n",
    "plot_sig(1, 2, 0.54, 'P = 0.0146')\n",
    "plt.savefig('5_Figure/fig3_boxplot_riboCluster_5UTRgini_distribution.pdf',  bbox_inches = 'tight')\n",
    "plt.show()"
   ]
  },
  {
   "cell_type": "markdown",
   "id": "d6d31001",
   "metadata": {},
   "source": [
    "### 3UTR"
   ]
  },
  {
   "cell_type": "code",
   "execution_count": 19,
   "id": "0a83e098",
   "metadata": {
    "ExecuteTime": {
     "end_time": "2024-01-01T07:16:39.235430Z",
     "start_time": "2024-01-01T07:16:39.209769Z"
    }
   },
   "outputs": [
    {
     "name": "stdout",
     "output_type": "stream",
     "text": [
      "MannwhitneyuResult(statistic=87368.0, pvalue=0.5680834724736018) \n",
      " MannwhitneyuResult(statistic=14849.0, pvalue=0.16803953802869553) \n",
      " MannwhitneyuResult(statistic=50264.0, pvalue=0.2252605386075267)\n"
     ]
    }
   ],
   "source": [
    "col = 'Merged_3utr_gini'\n",
    "dfplot = df[df['Merged_3utr_AC350'] >= 20]\n",
    "print(stats.mannwhitneyu(dfplot.loc[dfplot.Ribo_cluster == 'ribo1', col].dropna(),\n",
    "                        dfplot.loc[dfplot.Ribo_cluster == 'ribo2', col].dropna()),'\\n', \n",
    "     stats.mannwhitneyu(dfplot.loc[dfplot.Ribo_cluster == 'ribo2', col].dropna(), \n",
    "                        dfplot.loc[dfplot.Ribo_cluster == 'ribo3', col].dropna()),'\\n', \n",
    "     stats.mannwhitneyu(dfplot.loc[dfplot.Ribo_cluster == 'ribo1', col].dropna(), \n",
    "                        dfplot.loc[dfplot.Ribo_cluster == 'ribo3', col].dropna()),)"
   ]
  },
  {
   "cell_type": "code",
   "execution_count": 20,
   "id": "198cbc46",
   "metadata": {},
   "outputs": [
    {
     "name": "stdout",
     "output_type": "stream",
     "text": [
      "(751,) (227,) (143,)\n"
     ]
    }
   ],
   "source": [
    "print(dfplot.loc[dfplot.Ribo_cluster == 'ribo1', col].dropna().shape,\\\n",
    "    dfplot.loc[dfplot.Ribo_cluster == 'ribo2', col].dropna().shape,\\\n",
    "        dfplot.loc[dfplot.Ribo_cluster == 'ribo3', col].dropna().shape)"
   ]
  },
  {
   "cell_type": "code",
   "execution_count": 99,
   "id": "c42d7214",
   "metadata": {
    "ExecuteTime": {
     "end_time": "2024-01-01T07:34:18.929033Z",
     "start_time": "2024-01-01T07:34:18.760405Z"
    }
   },
   "outputs": [
    {
     "data": {
      "image/png": "[encoded data removed]",
      "text/plain": [
       "<Figure size 50.4x86.4 with 1 Axes>"
      ]
     },
     "metadata": {
      "needs_background": "light"
     },
     "output_type": "display_data"
    }
   ],
   "source": [
    "col = 'Merged_3utr_gini'\n",
    "plt.figure(figsize = (0.7 , 1.2))\n",
    "PROPS = {\n",
    "    'boxprops':{'facecolor':'none', 'edgecolor':'k', 'linewidth':'0.5'},\n",
    "    'medianprops':{'color':'k', 'linewidth':'1'},\n",
    "    'whiskerprops':{'color':'k', 'linewidth':'0.5'},\n",
    "    'capprops':{'color':'k', 'linewidth' :0}\n",
    "}\n",
    "\n",
    "sns.boxplot(x = 'Ribo_cluster',y = col, data=df[df['Merged_5utr_AC350'] >= 20], \n",
    "            width=0.35, showfliers = False, **PROPS, order = ['ribo1', 'ribo2', 'ribo3'])\n",
    "\n",
    "ax = plt.gca()\n",
    "ax.spines['top'].set_linewidth(0)  \n",
    "ax.spines['right'].set_linewidth(0) \n",
    "ax.grid(False)\n",
    "\n",
    "plt.xticks([0,1,2], ['1', '2', '3'])\n",
    "plt.yticks([0.2, 0.3, 0.4, 0.5, 0.6])\n",
    "plt.ylim(0.15, 0.6)\n",
    "# plt.xlim(-0.8, 2.5)\n",
    "\n",
    "plt.ylabel('Gini')\n",
    "plt.xlabel('3UTR')\n",
    "\n",
    "def plot_sig(xstart,xend, yend, sig):\n",
    "    plt.hlines(yend, xstart, xend, color=\"black\", linewidth = 0.5)\n",
    "    plt.annotate(r'%s'%sig, xy=((xstart + xend)/2, yend+0.01), color=\"black\", ha='center')\n",
    "\n",
    "plot_sig(0, 1, 0.50, 'NS')\n",
    "plot_sig(1, 2, 0.56, 'NS')\n",
    "plt.savefig('5_Figure/fig3_boxplot_riboCluster_3UTRgini_distribution.pdf',  bbox_inches = 'tight')\n",
    "plt.show()"
   ]
  },
  {
   "cell_type": "markdown",
   "id": "3c90a2ba",
   "metadata": {},
   "source": [
    "## RNA abundance and structure --> CCW22"
   ]
  },
  {
   "cell_type": "code",
   "execution_count": 5,
   "id": "85ff64c9",
   "metadata": {
    "ExecuteTime": {
     "end_time": "2024-01-08T03:03:07.787733Z",
     "start_time": "2024-01-08T03:03:03.329873Z"
    }
   },
   "outputs": [],
   "source": [
    "df = pd.read_excel('3_Table/Summary_RNA_Gini_MS.xlsx', index_col='GENE_ID')\n",
    "df.loc[df['Meiosis_specific'] != 'yes', 'Meiosis_specific'] = 'no'"
   ]
  },
  {
   "cell_type": "code",
   "execution_count": 6,
   "id": "b928aa04",
   "metadata": {
    "ExecuteTime": {
     "end_time": "2024-01-08T03:03:07.803546Z",
     "start_time": "2024-01-08T03:03:07.787733Z"
    }
   },
   "outputs": [],
   "source": [
    "tpsPost6h = ['RNA_6h','RNA_7h','RNA_7h25','RNA_7h5','RNA_8h25','RNA_8h75','RNA_9h5']\n",
    "df['RNA_log2avgPost6h'] =np.log2(df[['RNA_6h','RNA_7h','RNA_7h25','RNA_7h5','RNA_8h25','RNA_8h75','RNA_9h5']].mean(axis = 1))"
   ]
  },
  {
   "cell_type": "code",
   "execution_count": 291,
   "id": "c1b1d425",
   "metadata": {
    "ExecuteTime": {
     "end_time": "2024-01-03T07:31:57.217405Z",
     "start_time": "2024-01-03T07:31:57.017036Z"
    }
   },
   "outputs": [
    {
     "data": {
      "image/png": "[encoded data removed]",
      "text/plain": [
       "<Figure size 86.4x72 with 1 Axes>"
      ]
     },
     "metadata": {
      "needs_background": "light"
     },
     "output_type": "display_data"
    }
   ],
   "source": [
    "\n",
    "fig, ax = plt.subplots(figsize = (1.2 , 1))\n",
    "\n",
    "dfplot = df.loc[((df.Ribo_cluster == 'ribo3')) & (df.RNA_log2avgPost6h >= 5)]\n",
    "plt.scatter(dfplot['RNA_log2avgPost6h'], dfplot['Merged_Gene_gini'], s = 0.5, edgecolors=None, \n",
    "            color = '#ED2224', alpha = 1)\n",
    "\n",
    "dfplot = df.loc[~(df.Ribo_cluster == 'ribo3')]\n",
    "dfplot = dfplot.loc[(dfplot.Ribo_cluster == 'ribo2') & (dfplot.RNA_log2avgPost6h >= 5)]\n",
    "plt.scatter(dfplot['RNA_log2avgPost6h'], dfplot['Merged_Gene_gini'], s = 0.5, edgecolors=None, \n",
    "            color = '#3A53A4', alpha = 0.7)\n",
    "\n",
    "plt.axhline(y = 0.30, color='gray', linestyle='--', lw = 0.5)\n",
    "plt.axvline(x = 9.5, color='gray', linestyle='--', lw = 0.5)\n",
    "\n",
    "plt.ylim(0.2, 0.5)\n",
    "plt.xlabel('RNA abundance (TPM)')\n",
    "plt.ylabel('Gini')\n",
    "plt.savefig('5_Figure/fig3-RNA abundeance ribo and structure.pdf',  bbox_inches = 'tight')\n",
    "plt.show()"
   ]
  },
  {
   "cell_type": "markdown",
   "id": "64ac4551",
   "metadata": {},
   "source": [
    "### GFP reporter assay"
   ]
  },
  {
   "cell_type": "code",
   "execution_count": 217,
   "id": "8288c050",
   "metadata": {
    "ExecuteTime": {
     "end_time": "2024-01-03T06:02:06.383962Z",
     "start_time": "2024-01-03T06:02:06.367690Z"
    }
   },
   "outputs": [],
   "source": [
    "df1 = pd.read_excel('3_Table/CLB3 ATG40 SPS1 raw data.xlsx', sheet_name='GFP_repoter_assay', index_col=0)"
   ]
  },
  {
   "cell_type": "code",
   "execution_count": 218,
   "id": "f0730b6f",
   "metadata": {
    "ExecuteTime": {
     "end_time": "2024-01-03T06:02:07.930607Z",
     "start_time": "2024-01-03T06:02:07.912126Z"
    }
   },
   "outputs": [],
   "source": [
    "df2 = df1 - df1.min(axis = 0)\n",
    "df2 = df2/df2.max(axis = 0)"
   ]
  },
  {
   "cell_type": "code",
   "execution_count": 288,
   "id": "c27496d0",
   "metadata": {
    "ExecuteTime": {
     "end_time": "2024-01-03T07:03:53.424971Z",
     "start_time": "2024-01-03T07:03:53.135685Z"
    }
   },
   "outputs": [
    {
     "data": {
      "image/png": "[encoded data removed]",
      "text/plain": [
       "<Figure size 144x86.4 with 1 Axes>"
      ]
     },
     "metadata": {
      "needs_background": "light"
     },
     "output_type": "display_data"
    }
   ],
   "source": [
    "# plt.figure(figsize=(1.8, 1.2))\n",
    "fig, ax = plt.subplots(figsize=(2, 1.2))\n",
    "\n",
    "trans1 = ax.transData + ScaledTranslation(-2/72, 0, fig.dpi_scale_trans)\n",
    "trans2 = ax.transData + ScaledTranslation(+2/72, 0, fig.dpi_scale_trans)\n",
    "\n",
    "# df2[[i for i in df2.columns if i.startswith('CTRL')]].mean(axis = 1).plot(label = 'Ctrl', color = 'gray', linestyle = '--')\n",
    "plt.errorbar(df2.index, df2[[i for i in df2.columns if i.startswith('CTRL')]].mean(axis = 1),\\\n",
    "             df2[[i for i in df2.columns if i.startswith('CTRL')]].apply(np.std, axis = 1)/np.sqrt(3), \\\n",
    "             color = 'gray', elinewidth = 1, capsize=1, capthick = 1, \n",
    "             label = 'Ctrl', transform=trans1) # \n",
    "\n",
    "# df2[[i for i in df2.columns if i.startswith('ATG40')]].mean(axis = 1).plot(label = 'ATG40', color = 'gray', linestyle = '--')\n",
    "plt.errorbar(df2.index, df2[[i for i in df2.columns if i.startswith('ATG40')]].mean(axis = 1),\\\n",
    "             df2[[i for i in df2.columns if i.startswith('ATG40')]].apply(np.std, axis = 1)/np.sqrt(3), \\\n",
    "             color = '#374F9A', elinewidth = 1, capsize=1, capthick = 1, label = 'ATG40') # \n",
    "\n",
    "# df2[[i for i in df2.columns if i.startswith('SPS1')]].mean(axis = 1).plot(label = 'SPS1', color = 'gray', linestyle = '--')\n",
    "plt.errorbar(df2.index, df2[[i for i in df2.columns if i.startswith('SPS1')]].mean(axis = 1),\\\n",
    "             df2[[i for i in df2.columns if i.startswith('SPS1')]].apply(np.std, axis = 1)/np.sqrt(3), \\\n",
    "             color = '#DE2925', elinewidth = 1, capsize=1, capthick = 1, label = 'SPS1', transform=trans2) # \n",
    "\n",
    "\n",
    "\n",
    "plt.legend()\n",
    "\n",
    "plt.axhline(y = 0.50, color='gray', linestyle='--', lw = 0.5)\n",
    "plt.ylim(-0.05, 1)\n",
    "plt.xticks([6,7,8,9,10,11,12])\n",
    "plt.xlabel('Hours in spo')\n",
    "plt.ylabel('Fluorescence intensity')\n",
    "plt.savefig('5_Figure/fig3-SPS1 fluorescence intensity.pdf',  bbox_inches = 'tight')\n",
    "plt.show()"
   ]
  },
  {
   "cell_type": "markdown",
   "id": "2995d3fa",
   "metadata": {},
   "source": [
    "## ATG40"
   ]
  },
  {
   "cell_type": "code",
   "execution_count": 82,
   "id": "c717bdb8",
   "metadata": {
    "ExecuteTime": {
     "end_time": "2024-08-14T18:35:08.401513Z",
     "start_time": "2024-08-14T18:34:40.045272Z"
    }
   },
   "outputs": [],
   "source": [
    "df = pd.read_excel('3_Table/Summary_RNA_Gini_MS.xlsx', index_col='GENE_ID')\n",
    "dftps = pd.read_table('3_Table/shapemapper_all9Normalized_transcripts_3utr.txt')"
   ]
  },
  {
   "cell_type": "code",
   "execution_count": 86,
   "id": "d36262f8",
   "metadata": {
    "ExecuteTime": {
     "end_time": "2024-08-14T18:37:09.183609Z",
     "start_time": "2024-08-14T18:37:09.176102Z"
    }
   },
   "outputs": [],
   "source": [
    "def fetch_gene_reactivities_2map(gene):\n",
    "    # CTS2\n",
    "    dft = dftps[dftps.Gene == gene]\n",
    "\n",
    "    # 截取depth > 350的区域\n",
    "    start = dft.loc[dft.depth > 350, 'relative_site'].min()\n",
    "    end = dft.loc[dft.depth > 350, 'relative_site'].max()\n",
    "    dft1 = dft[(dft.relative_site >= start) & (dft.relative_site <= end)]\n",
    "    dft1 = dft1[['Reactivity_norby90_95quantile', 'Stderr_norby90_95quantile', 'Sequence']]\n",
    "    dft1 = dft1.reset_index(drop = True)\n",
    "    dft1.index = dft1.index + 1\n",
    "    dft1.loc[dft1.Sequence.isin(['G', 'U']), 'Reactivity_norby90_95quantile'] = -999\n",
    "    dft1.loc[dft1.Sequence.isin(['G', 'U']), 'Stderr_norby90_95quantile'] = -999\n",
    "    dft1 = dft1.fillna(-999)\n",
    "    dft1.to_csv('3_Table/delayed example/' + df.loc[gene, 'GENE_name'] + '_'+ str(int(start)) + '_' + str(int(end)) + '.map', header=None, sep = '\\t')\n",
    "    \n",
    "    dft1['pos'] = dft1.index\n",
    "    dft1 = dft1[['pos', 'Reactivity_norby90_95quantile']]\n",
    "    dft1['Reactivity_norby90_95quantile'] = dft1['Reactivity_norby90_95quantile'] + 0.01\n",
    "    dft1.loc[dft1.Reactivity_norby90_95quantile < 0, 'Reactivity_norby90_95quantile'] = 0\n",
    "    dft1[['pos', 'Reactivity_norby90_95quantile']].to_csv('3_Table/delayed example/' + df.loc[gene, 'GENE_name'] + '_'+ str(int(start)) + '_' + str(int(end)) + '.shape', sep = '\\t', header=None, index=None)"
   ]
  },
  {
   "cell_type": "code",
   "execution_count": 87,
   "id": "0ac000d4",
   "metadata": {
    "ExecuteTime": {
     "end_time": "2024-08-14T18:37:11.637255Z",
     "start_time": "2024-08-14T18:37:11.152374Z"
    }
   },
   "outputs": [],
   "source": [
    "genes = ['YOR152C']\n",
    "# ['ATG40']\n",
    "for gene in genes:\n",
    "    fetch_gene_reactivities_2map(gene)"
   ]
  },
  {
   "cell_type": "code",
   "execution_count": 90,
   "id": "d1fd6f53",
   "metadata": {
    "ExecuteTime": {
     "end_time": "2024-08-14T18:37:31.178702Z",
     "start_time": "2024-08-14T18:37:31.173557Z"
    }
   },
   "outputs": [
    {
     "name": "stdout",
     "output_type": "stream",
     "text": [
      "python SuperFold.py AMA1_all.map --maxPairingDist 1000\n",
      "python SuperFold.py CTS2_all.map --maxPairingDist 1000\n",
      "python SuperFold.py PIG2_all.map --maxPairingDist 1000\n",
      "python SuperFold.py ECM23_all.map --maxPairingDist 1000\n",
      "python SuperFold.py SOL1_all.map --maxPairingDist 1000\n",
      "python SuperFold.py GDS1_all.map --maxPairingDist 1000\n",
      "python SuperFold.py ATG40_all.map --maxPairingDist 1000\n"
     ]
    }
   ],
   "source": [
    "genes = ['YGR225W', 'YDR371W', 'YIL045W', 'YPL021W', 'YNR034W', 'YOR355W', 'YOR152C']\n",
    "for gene in genes:\n",
    "    print('python Superfold.py ' +  df.loc[gene, 'GENE_name'] + '_all.map' + ' --maxPairingDist 1000')"
   ]
  },
  {
   "cell_type": "code",
   "execution_count": null,
   "id": "07ae805b",
   "metadata": {},
   "outputs": [],
   "source": [
    "# start: 151\n",
    "# end: 921"
   ]
  },
  {
   "cell_type": "code",
   "execution_count": 108,
   "id": "d42b4cf8",
   "metadata": {
    "ExecuteTime": {
     "end_time": "2024-08-15T01:10:34.883561Z",
     "start_time": "2024-08-15T01:10:34.568022Z"
    }
   },
   "outputs": [
    {
     "data": {
      "image/png": "[encoded data removed]",
      "text/plain": [
       "<Figure size 200x100 with 1 Axes>"
      ]
     },
     "metadata": {},
     "output_type": "display_data"
    }
   ],
   "source": [
    "plt.figure(figsize=(2,1))\n",
    "plt.hlines(y = 500, xmin = 0, xmax = 1063, color = 'k', linestyle = '--')\n",
    "plt.vlines(x = 151, ymin = 0, ymax = 1063, color = 'k', linestyle = '--')\n",
    "plt.vlines(x = 921, ymin = 0, ymax = 1063, color = 'k', linestyle = '--')\n",
    "plt.xticks([])\n",
    "plt.savefig('5_Figure/Sub Fig3-g ccw22 gene length.pdf', bbox_inches = 'tight')\n",
    "plt.show()"
   ]
  },
  {
   "cell_type": "code",
   "execution_count": null,
   "id": "01910eb3",
   "metadata": {},
   "outputs": [],
   "source": [
    "# len(\".................((((......(((((..(((((...............)))))....))))).....))))\")\n",
    "# len('UUAUAUCAUUUCGAUUUCAUUUAAUUUGAUCUGGCUCGACAUUAGUAUUUCAAAUCGAGGAUAAGAUUUUUGUAGUG')"
   ]
  },
  {
   "cell_type": "code",
   "execution_count": 125,
   "id": "b03e48fb",
   "metadata": {
    "ExecuteTime": {
     "end_time": "2024-08-15T04:30:24.637035Z",
     "start_time": "2024-08-15T04:30:24.213898Z"
    }
   },
   "outputs": [
    {
     "data": {
      "text/plain": [
       "'CAUUUAAUUUGAUCUGGCUCGACAUUAGUAUUUCAAAUCGAGGAUAAGAUUUUUGUAGUG'"
      ]
     },
     "execution_count": 125,
     "metadata": {},
     "output_type": "execute_result"
    }
   ],
   "source": [
    "dft1[(dft1.relative_site >= -133) & (dft1.relative_site <= -74)]['Sequence'].to_list()"
   ]
  },
  {
   "cell_type": "code",
   "execution_count": 131,
   "id": "be735645",
   "metadata": {
    "ExecuteTime": {
     "end_time": "2024-08-15T04:33:27.990471Z",
     "start_time": "2024-08-15T04:33:27.477507Z"
    }
   },
   "outputs": [],
   "source": [
    "dft = dftps[(dftps.Gene == 'YOR152C') & (dftps.relative_site >= -133) & (dftps.relative_site <= -74) ]\n",
    "dft1 = dft[['Reactivity_norby90_95quantile', 'Stderr_norby90_95quantile', 'Sequence']]\n",
    "dft1 = dft1.reset_index(drop = True)\n",
    "dft1.index = dft1.index + 1\n",
    "dft1.loc[dft1.Sequence.isin(['G', 'U']), 'Reactivity_norby90_95quantile'] = -999\n",
    "dft1.loc[dft1.Sequence.isin(['G', 'U']), 'Stderr_norby90_95quantile'] = -999\n",
    "dft1 = dft1.fillna(-999)\n",
    "\n",
    "dft1['pos'] = dft1.index\n",
    "dft1 = dft1[['pos', 'Reactivity_norby90_95quantile']]\n",
    "dft1['Reactivity_norby90_95quantile'] = dft1['Reactivity_norby90_95quantile'] + 0.01\n",
    "dft1.loc[dft1.Reactivity_norby90_95quantile < 0, 'Reactivity_norby90_95quantile'] = 0\n",
    "dft1[['pos', 'Reactivity_norby90_95quantile']].to_csv('3_Table/delayed example/' + df.loc[gene, 'GENE_name'] + '_-133_-74' + '.shape', sep = '\\t', header=None, index=None)"
   ]
  },
  {
   "cell_type": "markdown",
   "id": "1e3076bf",
   "metadata": {},
   "source": [
    "## disrupted CCW22 delay meiosis"
   ]
  },
  {
   "cell_type": "code",
   "execution_count": 62,
   "id": "f738daca",
   "metadata": {
    "ExecuteTime": {
     "end_time": "2024-08-14T14:53:29.711422Z",
     "start_time": "2024-08-14T14:53:29.102365Z"
    }
   },
   "outputs": [
    {
     "data": {
      "image/png": "[encoded data removed]",
      "text/plain": [
       "<Figure size 180x100 with 1 Axes>"
      ]
     },
     "metadata": {},
     "output_type": "display_data"
    }
   ],
   "source": [
    "dfwt = pd.read_excel('3_Table/DED1 CCW22 disruption/IF counts_CCW22_summary.xlsx', sheet_name='ccw22_wt')\n",
    "dfwt['Timepoints'] = dfwt.index\n",
    "dfwtl = dfwt.melt(['Timepoints','Time'])\n",
    "\n",
    "plt.figure(figsize = (1.8, 1))\n",
    "sns.lineplot(x = 'Timepoints', y = 'value', hue = 'variable', data = dfwtl, marker = 's', mew = 0)\n",
    "plt.xticks([0,1,2,3,4], dfwt['Time'])\n",
    "plt.xlabel('Hours in spo')\n",
    "plt.ylabel('Percentage of cells')\n",
    "plt.yticks([0, 0.5,  1], ['0%',  '50%', '100%'])\n",
    "plt.legend(loc = [1,0])\n",
    "plt.savefig('5_Figure/Sub Fig3-i ccw22 disrupted IF counts_WT.pdf', bbox_inches = 'tight')\n",
    "plt.show()"
   ]
  },
  {
   "cell_type": "code",
   "execution_count": 63,
   "id": "a7e12890",
   "metadata": {
    "ExecuteTime": {
     "end_time": "2024-08-14T14:53:32.951556Z",
     "start_time": "2024-08-14T14:53:32.580577Z"
    }
   },
   "outputs": [
    {
     "data": {
      "image/png": "[encoded data removed]",
      "text/plain": [
       "<Figure size 180x100 with 1 Axes>"
      ]
     },
     "metadata": {},
     "output_type": "display_data"
    }
   ],
   "source": [
    "dfwt = pd.read_excel('3_Table/DED1 CCW22 disruption/IF counts_CCW22_summary.xlsx', sheet_name='ccw22_sm')\n",
    "dfwt['Timepoints'] = dfwt.index\n",
    "dfwtl = dfwt.melt(['Timepoints','Time'])\n",
    "\n",
    "plt.figure(figsize = (1.8, 1))\n",
    "sns.lineplot(x = 'Timepoints', y = 'value', hue = 'variable', data = dfwtl, marker = 's', mew = 0)\n",
    "plt.xticks([0,1,2,3,4], dfwt['Time'])\n",
    "plt.xlabel('Hours in spo')\n",
    "plt.ylabel('Percentage of cells')\n",
    "plt.yticks([0, 0.25, 0.5, 0.75, 1], ['0%', '25%', '50%', '75%', '100%'])\n",
    "plt.legend(loc = [1,0])\n",
    "plt.savefig('5_Figure/Sub Fig3-i ccw22 disrupted IF counts_SM.pdf', bbox_inches = 'tight')\n",
    "plt.show()"
   ]
  },
  {
   "cell_type": "markdown",
   "id": "0c742ecb",
   "metadata": {},
   "source": [
    "# Fig4 Translation resources and Helicases"
   ]
  },
  {
   "cell_type": "code",
   "execution_count": null,
   "id": "3991212e",
   "metadata": {},
   "outputs": [],
   "source": [
    "#FFCE2E yellow\n",
    "#A1C9F4 blue\n",
    "#FF9F9B red\n",
    "#CFCFCF gray"
   ]
  },
  {
   "cell_type": "markdown",
   "id": "4421e5fd",
   "metadata": {},
   "source": [
    "### Translation resources"
   ]
  },
  {
   "cell_type": "code",
   "execution_count": 381,
   "id": "9c529137",
   "metadata": {
    "ExecuteTime": {
     "end_time": "2024-01-05T06:19:55.423627Z",
     "start_time": "2024-01-05T06:19:50.411545Z"
    }
   },
   "outputs": [],
   "source": [
    "df = pd.read_excel('3_Table/Summary_RNA_Gini_MS.xlsx', index_col='GENE_ID')\n",
    "df.loc[df['Meiosis_specific'] != 'yes', 'Meiosis_specific'] = 'no'"
   ]
  },
  {
   "cell_type": "code",
   "execution_count": 382,
   "id": "d390178a",
   "metadata": {
    "ExecuteTime": {
     "end_time": "2024-01-05T06:19:55.439014Z",
     "start_time": "2024-01-05T06:19:55.424813Z"
    }
   },
   "outputs": [],
   "source": [
    "tps1 = ['YPD', '0h', '6h', '7h','7h25', '7h5','8h25', '8h75', '9h5']\n",
    "matchup = {'YPD':'YPD', '0h': '0h', '6h':'6h', '7h':'7h', '7h25':'7h25', '7h5':'7h5', '8h25':'8h', '8h75': '8h5', '9h5':'9h25'}\n",
    "tps = ['Ribo_brar_' + matchup[i] for i in tps1]"
   ]
  },
  {
   "cell_type": "code",
   "execution_count": 383,
   "id": "725312f0",
   "metadata": {
    "ExecuteTime": {
     "end_time": "2024-01-05T06:19:55.567771Z",
     "start_time": "2024-01-05T06:19:55.439860Z"
    }
   },
   "outputs": [
    {
     "data": {
      "image/png": "[encoded data removed]",
      "text/plain": [
       "<Figure size 93.6x108 with 1 Axes>"
      ]
     },
     "metadata": {
      "needs_background": "light"
     },
     "output_type": "display_data"
    }
   ],
   "source": [
    "# Meiosis_specific RNAs ranked by structure\n",
    "dfRibo = df[tps + ['Merged_Gene_gini', 'Meiosis_specific']]\n",
    "dfRibo.columns = ['V', 'P', 'T0', 'T1', 'T2', 'T3', 'T4', 'T5', 'T6', 'rank', 'meiotic']\n",
    "t = ['T0', 'T1', 'T2', 'T3', 'T4', 'T5', 'T6']\n",
    "dfRibo['rank'] = dfRibo.loc[(dfRibo.meiotic == 'yes'), 'rank'].rank()/dfRibo.loc[(dfRibo.meiotic == 'yes'), 'rank'].dropna().shape[0]\n",
    "\n",
    "dfRibo['grank'] = 'Others'\n",
    "dfRibo.loc[(dfRibo['rank'] >= 0 ) & (dfRibo.meiotic == 'yes'), 'grank'] = 'simple'\n",
    "dfRibo.loc[(dfRibo['rank'] >= 1/3)& (dfRibo.meiotic == 'yes'), 'grank'] = 'moderate'\n",
    "dfRibo.loc[(dfRibo['rank'] >= 2/3)& (dfRibo.meiotic == 'yes'), 'grank'] = 'complex'\n",
    "\n",
    "# sum the ribo translation resources\n",
    "dfb = dfRibo.groupby('grank').sum()[t]/dfRibo.sum()[t]\n",
    "\n",
    "width = 0.5\n",
    "plt.figure(figsize=(1.3, 1.5))\n",
    "plt.bar(dfb.columns, dfb.loc['complex'], label = 'complex', color = '#FF9F9B', width=width, edgecolor='white')\n",
    "\n",
    "plt.bar(dfb.columns, dfb.loc['moderate'], bottom=dfb.loc['complex'], \n",
    "        label = 'moderate', color = '#FFCE2E', width=width, edgecolor='white')\n",
    "\n",
    "plt.bar(dfb.columns, dfb.loc['simple'],bottom=dfb.loc['complex']+ dfb.loc['moderate'], \n",
    "        label = 'simple', color = '#A1C9F4', width=width, edgecolor='white')\n",
    "\n",
    "plt.bar(dfb.columns, dfb.loc['Others'],bottom=dfb.loc['complex']+ dfb.loc['moderate']+dfb.loc['simple'],\n",
    "        label = 'Others', color = '#CFCFCF', width=width, edgecolor='white')\n",
    "\n",
    "plt.yticks([0, 0.2, 0.4, 0.6], ['0%', '20%', '40%', '60%'])\n",
    "plt.ylabel('Translation resources')\n",
    "plt.ylim(0, 0.75)\n",
    "plt.legend(loc = (1,0.2))\n",
    "\n",
    "# plt.savefig('5_Figure/fig4-a translation resource allocation among meiosis specific RNAs.pdf',  bbox_inches = 'tight')\n",
    "plt.show()"
   ]
  },
  {
   "cell_type": "markdown",
   "id": "d0c23973",
   "metadata": {},
   "source": [
    "### global Helicase "
   ]
  },
  {
   "cell_type": "code",
   "execution_count": 334,
   "id": "3f778b4c",
   "metadata": {
    "ExecuteTime": {
     "end_time": "2024-01-04T07:21:43.895143Z",
     "start_time": "2024-01-04T07:21:43.827077Z"
    }
   },
   "outputs": [],
   "source": [
    "dfheli_compute = pd.read_table('3_Table/RNA_helicase_activity_annotations_Computational.txt')\n",
    "dfheli_compute = dfheli_compute.drop_duplicates('Systematic Name/Complex Accession')\n",
    "dfheli_compute = dfheli_compute.set_index('Systematic Name/Complex Accession')\n",
    "\n",
    "dfheli_manually = pd.read_table('3_Table/RNA_helicase_activity_annotations_Manually.txt')\n",
    "dfheli_manually = dfheli_manually.drop_duplicates('Systematic Name/Complex Accession')\n",
    "dfheli_manually = dfheli_manually.set_index('Systematic Name/Complex Accession')\n",
    "\n",
    "helicases = set((dfheli_manually.index.to_list() + dfheli_compute.index.to_list()))\n",
    "helicases = [i for i in helicases if i.startswith('Y')]\n",
    "helicaccessory = ['YPR163C', 'YGL049C', 'YDR429C', 'YGR162W', 'YOL139C', 'YMR146C']\n",
    "# ['TIF3', 'TIF4632', 'TIF35', 'TIF4631', 'CDC33', 'TIF34']\n",
    "# helicaccessory = ['YPR163C', 'YGL049C', 'YGR162W']\n",
    "\n",
    "helicases = helicases + helicaccessory"
   ]
  },
  {
   "cell_type": "code",
   "execution_count": 336,
   "id": "033648cc",
   "metadata": {
    "ExecuteTime": {
     "end_time": "2024-01-04T07:22:39.343155Z",
     "start_time": "2024-01-04T07:22:34.377429Z"
    }
   },
   "outputs": [],
   "source": [
    "df = pd.read_excel('3_Table/Summary_RNA_Gini_MS.xlsx', index_col='GENE_ID')\n",
    "tps = ['YPD', '0h', '6h', '7h','7h25', '7h5','8h25', '8h75', '9h5']\n",
    "matchup = {'YPD':'YPD', '0h': '0h', '6h':'6h', '7h':'7h', '7h25':'7h25', '7h5':'7h5', '8h25':'8h', '8h75': '8h5', '9h5':'9h25'}"
   ]
  },
  {
   "cell_type": "code",
   "execution_count": 337,
   "id": "0754ca8f",
   "metadata": {
    "ExecuteTime": {
     "end_time": "2024-01-04T07:23:15.109061Z",
     "start_time": "2024-01-04T07:23:15.089712Z"
    }
   },
   "outputs": [],
   "source": [
    "ritps = ['Ribo_brar_' + matchup[i] for i in tps[2:]]\n",
    "dfheri = df.loc[helicases, ['GENE_name']+[i for i in df.columns if i.startswith('Ribo_brar')][2:]]\n",
    "\n",
    "dfheri = dfheri.set_index('GENE_name')"
   ]
  },
  {
   "cell_type": "code",
   "execution_count": 340,
   "id": "71880402",
   "metadata": {
    "ExecuteTime": {
     "end_time": "2024-01-04T07:33:19.861595Z",
     "start_time": "2024-01-04T07:33:19.789321Z"
    }
   },
   "outputs": [],
   "source": [
    "df3 = pd.read_table('3_Table/helicase cluster/helicase_ribo_maxover10.cdt')['NAME'].dropna()"
   ]
  },
  {
   "cell_type": "code",
   "execution_count": 455,
   "id": "0c4df544",
   "metadata": {
    "ExecuteTime": {
     "end_time": "2024-01-05T07:36:54.802848Z",
     "start_time": "2024-01-05T07:36:54.703344Z"
    }
   },
   "outputs": [
    {
     "name": "stderr",
     "output_type": "stream",
     "text": [
      "D:\\Anaconda\\lib\\site-packages\\seaborn\\_decorators.py:36: FutureWarning: Pass the following variables as keyword args: x, y. From version 0.12, the only valid positional argument will be `data`, and passing other arguments without an explicit keyword will result in an error or misinterpretation.\n",
      "  warnings.warn(\n"
     ]
    },
    {
     "data": {
      "image/png": "[encoded data removed]",
      "text/plain": [
       "<Figure size 109.2x57.6 with 1 Axes>"
      ]
     },
     "metadata": {
      "needs_background": "light"
     },
     "output_type": "display_data"
    }
   ],
   "source": [
    "ritps = ritps + ['Ribo_brar_11h']\n",
    "plt.figure(figsize=(1.3/6*7, 0.8))\n",
    "sns.lineplot(dfheri.loc[df3, ritps].sum().index, dfheri.loc[df3, ritps].sum().values, marker = 's', markeredgewidth = 0.5)\n",
    "plt.xticks([0,1,2,3,4,5,6], ['T0','T1','T2','T3','T4','T5','T6'])\n",
    "# plt.ylim(1000,4000)\n",
    "plt.yticks([2500, 3500])\n",
    "# plt.savefig('5_Figure/fig4-b helicase_all_Ribo_11h.pdf', bbox_inches = 'tight')\n",
    "plt.show()"
   ]
  },
  {
   "cell_type": "markdown",
   "id": "bc15fae5",
   "metadata": {},
   "source": [
    "### Ded1 overexpression"
   ]
  },
  {
   "cell_type": "code",
   "execution_count": 30,
   "id": "2584668c",
   "metadata": {},
   "outputs": [],
   "source": [
    "df = pd.read_excel('3_Table/Summary_RNA_Gini_MS.xlsx', index_col='GENE_ID')"
   ]
  },
  {
   "cell_type": "code",
   "execution_count": 23,
   "id": "bbbca1dc",
   "metadata": {
    "ExecuteTime": {
     "end_time": "2024-01-05T06:48:11.682163Z",
     "start_time": "2024-01-05T06:48:11.665849Z"
    }
   },
   "outputs": [],
   "source": [
    "df1 = pd.read_csv('3_Table/MS/d8h75vs8h75.csv', index_col=0)\n",
    "df1['FC'] = 2**df1['logFC']"
   ]
  },
  {
   "cell_type": "code",
   "execution_count": 31,
   "id": "008de823",
   "metadata": {
    "ExecuteTime": {
     "end_time": "2024-01-05T07:04:55.534234Z",
     "start_time": "2024-01-05T07:04:55.505452Z"
    }
   },
   "outputs": [
    {
     "name": "stderr",
     "output_type": "stream",
     "text": [
      "/var/folders/rw/85k6y2vs37x81n21hjm129fm0000gn/T/ipykernel_14118/1587878080.py:11: FutureWarning: Setting an item of incompatible dtype is deprecated and will raise an error in a future version of pandas. Value 'Up-' has dtype incompatible with float64, please explicitly cast to a compatible dtype first.\n",
      "  df1.loc[[i for i in genes1 if i in df.index], 'color'] = 'Up-'\n"
     ]
    }
   ],
   "source": [
    "fc = 1.2 \n",
    "logfc = 0.2\n",
    "\n",
    "df1['color'] = np.nan\n",
    "df1['logp_adj'] = -np.log10(df1['adj.P.Val'])\n",
    "\n",
    "genes1 = df1[(df1['adj.P.Val'] < 0.05) & (df1['FC'] > fc)].index\n",
    "genes2 = df1[(df1['adj.P.Val'] < 0.05) & (df1['FC'] < 1/fc)].index\n",
    "genes3 = df1[~df1.index.isin(genes1.to_list() + genes2.to_list())].index\n",
    "\n",
    "df1.loc[[i for i in genes1 if i in df.index], 'color'] = 'Up-'\n",
    "df1.loc[[i for i in genes2 if i in df.index], 'color'] = 'Down-'\n",
    "df1.loc[[i for i in genes3 if i in df.index], 'color'] = 'NS'"
   ]
  },
  {
   "cell_type": "code",
   "execution_count": 32,
   "id": "11a01c08",
   "metadata": {},
   "outputs": [
    {
     "name": "stdout",
     "output_type": "stream",
     "text": [
      "149 194 2761\n"
     ]
    }
   ],
   "source": [
    "print(len(genes1),len(genes2), len(genes3))"
   ]
  },
  {
   "cell_type": "code",
   "execution_count": 33,
   "id": "7724dfb7",
   "metadata": {
    "ExecuteTime": {
     "end_time": "2024-01-05T07:20:41.334544Z",
     "start_time": "2024-01-05T07:20:40.905672Z"
    }
   },
   "outputs": [
    {
     "data": {
      "image/png": "[encoded data removed]",
      "text/plain": [
       "<Figure size 120x80 with 1 Axes>"
      ]
     },
     "metadata": {},
     "output_type": "display_data"
    }
   ],
   "source": [
    "plt.figure(figsize = (1.2, 0.8))\n",
    "ax = sns.scatterplot(x = 'logFC', y = 'logp_adj', hue = 'color', palette=['#FF2701','dodgerblue','gray'],\n",
    "                data = df1.dropna(), alpha = 0.7, linewidth = 0, s = 2)\n",
    "\n",
    "\n",
    "plt.axhline(y = -np.log10(0.05), color='k', linestyle='--', lw = 0.5)\n",
    "plt.axvline(x = np.log2(1.2), color='k', linestyle='--', lw = 0.5)\n",
    "plt.axvline(x = -np.log2(1.2), color='k', linestyle='--', lw = 0.5)\n",
    "\n",
    "\n",
    "plt.legend(loc = (1,0.3))\n",
    "\n",
    "plt.xlim(-3.5,2)\n",
    "plt.ylim(-0.2, 8.2)\n",
    "# ax = plt.gca()#获取边框\n",
    "# spwidth = 1\n",
    "# ax.spines['top'].set_linewidth(spwidth)  \n",
    "# ax.spines['right'].set_linewidth(spwidth) \n",
    "# ax.spines['bottom'].set_linewidth(spwidth)\n",
    "# ax.spines['left'].set_linewidth(spwidth)\n",
    "plt.xlabel('log2(DED1/Ctrl)')\n",
    "plt.ylabel('-log10(adj.P)')\n",
    "\n",
    "# plt.savefig('5_Figure/fig4-f volcano_ded1vsCtrl.pdf', bbox_inches = 'tight')\n",
    "plt.show()"
   ]
  },
  {
   "cell_type": "code",
   "execution_count": 42,
   "id": "da8cdf16",
   "metadata": {
    "ExecuteTime": {
     "end_time": "2024-01-05T07:37:59.793049Z",
     "start_time": "2024-01-05T07:37:59.625184Z"
    }
   },
   "outputs": [
    {
     "name": "stdout",
     "output_type": "stream",
     "text": [
      "up vs down MannwhitneyuResult(statistic=15574.0, pvalue=5.861999809641358e-06)\n",
      "up vs others MannwhitneyuResult(statistic=165164.0, pvalue=0.2477022095851259)\n",
      "others vs down MannwhitneyuResult(statistic=182376.0, pvalue=2.8745620236248536e-07)\n"
     ]
    },
    {
     "name": "stderr",
     "output_type": "stream",
     "text": [
      "/var/folders/rw/85k6y2vs37x81n21hjm129fm0000gn/T/ipykernel_14118/1461076170.py:9: FutureWarning: Setting an item of incompatible dtype is deprecated and will raise an error in a future version of pandas. Value 'up' has dtype incompatible with float64, please explicitly cast to a compatible dtype first.\n",
      "  df.loc[[i for i in genes1 if i in df.index], 'ded1'] = 'up'\n"
     ]
    },
    {
     "data": {
      "image/png": "[encoded data removed]",
      "text/plain": [
       "<Figure size 50x80 with 1 Axes>"
      ]
     },
     "metadata": {},
     "output_type": "display_data"
    }
   ],
   "source": [
    "# up vs down, 1.2 fold change\n",
    "fc = 1.2\n",
    "\n",
    "genes1 = df1[(df1['adj.P.Val'] < 0.05) & (df1['FC'] > fc)].index\n",
    "genes2 = df1[(df1['adj.P.Val'] < 0.05) & (df1['FC'] < 1/fc)].index\n",
    "genes3 = df1[~df1.index.isin(genes2.to_list()+genes1.to_list())].index\n",
    "\n",
    "df['ded1'] = np.nan\n",
    "df.loc[[i for i in genes1 if i in df.index], 'ded1'] = 'up'\n",
    "df.loc[[i for i in genes2 if i in df.index], 'ded1'] = 'down'\n",
    "df.loc[[i for i in genes3 if i in df.index], 'ded1'] = 'others'\n",
    "\n",
    "plt.figure(figsize = (0.5, 0.8))\n",
    "\n",
    "col = 'Merged_Gene_gini'\n",
    "dfplot = df[df['Merged_Gene_gini'] >0]\n",
    "PROPS = {\n",
    "    'boxprops':{'facecolor':'none', 'edgecolor':'k', 'linewidth':0.5},\n",
    "    'medianprops':{'color':'k', 'linewidth':1},\n",
    "    'whiskerprops':{'color':'k', 'linewidth':0.5},\n",
    "    'capprops':{'color':'k', 'linewidth' :0}\n",
    "}\n",
    "\n",
    "\n",
    "# cut off 45, 0.007\n",
    "print('up vs down', stats.mannwhitneyu(dfplot.loc[dfplot.ded1 == 'up', col].dropna(), dfplot.loc[dfplot.ded1 == 'down', col].dropna()))\n",
    "print('up vs others', stats.mannwhitneyu(dfplot.loc[dfplot.ded1 == 'up', col].dropna(), dfplot.loc[dfplot.ded1 == 'others', col].dropna()))\n",
    "print('others vs down', stats.mannwhitneyu(dfplot.loc[dfplot.ded1 == 'down', col].dropna(), dfplot.loc[dfplot.ded1 == 'others', col].dropna()))\n",
    "\n",
    "ax = sns.boxplot(x = 'ded1', y = col, data = dfplot, width=0.35,showfliers = False,\\\n",
    "         **PROPS, order=['up', 'down'])\n",
    "\n",
    "\n",
    "\n",
    "\n",
    "def plot_sig(xstart,xend, yend, sig):\n",
    "    plt.hlines(yend, xstart, xend, color=\"black\", linewidth = 0.5)\n",
    "    plt.annotate(r'%s'%sig, xy=((xstart + xend)/2, yend+0.01), color=\"black\", ha='center')\n",
    "\n",
    "plot_sig(0, 1, 0.40, 'P<10-5')\n",
    "\n",
    "plt.ylim(0.23, 0.41)\n",
    "plt.xlabel(None)\n",
    "plt.ylabel('Gini')\n",
    "plt.xticks([0,1], ['Up', 'Down'])\n",
    "# plt.yticks([])\n",
    "# plt.savefig('5_Figure/fig4-g boxplot_upvsDown_geneGini.pdf', bbox_inches = 'tight')\n",
    "\n",
    "plt.show()"
   ]
  },
  {
   "cell_type": "code",
   "execution_count": 43,
   "id": "a69755a2",
   "metadata": {},
   "outputs": [
    {
     "name": "stdout",
     "output_type": "stream",
     "text": [
      "(126,) (190,)\n"
     ]
    }
   ],
   "source": [
    "print(dfplot.loc[dfplot.ded1 == 'up', col].dropna().shape, \\\n",
    "dfplot.loc[dfplot.ded1 == 'down', col].dropna().shape)"
   ]
  },
  {
   "cell_type": "markdown",
   "id": "fa67e262",
   "metadata": {},
   "source": [
    "### Ded1, elF4a and elF4b"
   ]
  },
  {
   "cell_type": "code",
   "execution_count": 25,
   "id": "b7224750",
   "metadata": {},
   "outputs": [],
   "source": [
    "dfhlx_ms = pd.read_excel('3_Table/helicase cluster/Helicase.xlsx', \\\n",
    "    index_col=0)\n",
    "dfhlx_ms = dfhlx_ms[[i for i in dfhlx_ms.columns \\\n",
    "    if i.startswith('A14201')]]\n",
    "dfhlx_ms.columns = ['T0', 'T2', 'T5', 'T6', '12h']\n",
    "tp4 = ['T0', 'T2', 'T5', 'T6']"
   ]
  },
  {
   "cell_type": "code",
   "execution_count": 30,
   "id": "2c58f85e",
   "metadata": {},
   "outputs": [
    {
     "data": {
      "text/plain": [
       "[<matplotlib.lines.Line2D at 0x300beebd0>]"
      ]
     },
     "execution_count": 30,
     "metadata": {},
     "output_type": "execute_result"
    },
    {
     "data": {
      "image/png": "[encoded data removed]",
      "text/plain": [
       "<Figure size 100x80 with 1 Axes>"
      ]
     },
     "metadata": {},
     "output_type": "display_data"
    }
   ],
   "source": [
    "plt.plot(dfhlx_ms.loc['DED1'])"
   ]
  },
  {
   "cell_type": "code",
   "execution_count": 31,
   "id": "ca7efd03",
   "metadata": {},
   "outputs": [
    {
     "data": {
      "text/plain": [
       "[<matplotlib.lines.Line2D at 0x3010873e0>]"
      ]
     },
     "execution_count": 31,
     "metadata": {},
     "output_type": "execute_result"
    },
    {
     "data": {
      "image/png": "[encoded data removed]",
      "text/plain": [
       "<Figure size 100x80 with 1 Axes>"
      ]
     },
     "metadata": {},
     "output_type": "display_data"
    }
   ],
   "source": [
    "plt.plot(dfhlx_ms.loc['TIF1'])"
   ]
  },
  {
   "cell_type": "code",
   "execution_count": 32,
   "id": "669fcda0",
   "metadata": {},
   "outputs": [
    {
     "data": {
      "text/plain": [
       "[<matplotlib.lines.Line2D at 0x3010d81a0>]"
      ]
     },
     "execution_count": 32,
     "metadata": {},
     "output_type": "execute_result"
    },
    {
     "data": {
      "image/png": "[encoded data removed]",
      "text/plain": [
       "<Figure size 100x80 with 1 Axes>"
      ]
     },
     "metadata": {},
     "output_type": "display_data"
    }
   ],
   "source": [
    "plt.plot(dfhlx_ms.loc['TIF3'])"
   ]
  }
 ],
 "metadata": {
  "kernelspec": {
   "display_name": "Python 3 (ipykernel)",
   "language": "python",
   "name": "python3"
  },
  "language_info": {
   "codemirror_mode": {
    "name": "ipython",
    "version": 3
   },
   "file_extension": ".py",
   "mimetype": "text/x-python",
   "name": "python",
   "nbconvert_exporter": "python",
   "pygments_lexer": "ipython3",
   "version": "3.12.3"
  },
  "toc": {
   "base_numbering": 1,
   "nav_menu": {},
   "number_sections": true,
   "sideBar": true,
   "skip_h1_title": false,
   "title_cell": "Table of Contents",
   "title_sidebar": "Contents",
   "toc_cell": false,
   "toc_position": {
    "height": "calc(100% - 180px)",
    "left": "10px",
    "top": "150px",
    "width": "293.411px"
   },
   "toc_section_display": true,
   "toc_window_display": true
  },
  "varInspector": {
   "cols": {
    "lenName": 16,
    "lenType": 16,
    "lenVar": 40
   },
   "kernels_config": {
    "python": {
     "delete_cmd_postfix": "",
     "delete_cmd_prefix": "del ",
     "library": "var_list.py",
     "varRefreshCmd": "print(var_dic_list())"
    },
    "r": {
     "delete_cmd_postfix": ") ",
     "delete_cmd_prefix": "rm(",
     "library": "var_list.r",
     "varRefreshCmd": "cat(var_dic_list()) "
    }
   },
   "types_to_exclude": [
    "module",
    "function",
    "builtin_function_or_method",
    "instance",
    "_Feature"
   ],
   "window_display": false
  }
 },
 "nbformat": 4,
 "nbformat_minor": 5
}
